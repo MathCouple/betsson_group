{
 "cells": [
  {
   "cell_type": "markdown",
   "metadata": {},
   "source": [
    "# requirements"
   ]
  },
  {
   "cell_type": "code",
   "execution_count": 1,
   "metadata": {},
   "outputs": [],
   "source": [
    "# !pip install sqlalchemy\n",
    "# !pip install py7zr\n",
    "# !pip install pandas\n",
    "# !pip install pyarrow\n",
    "# !pip install matplotlib\n",
    "# !pip install py7zr sqlalchemy pandas pyarrow matplotlib"
   ]
  },
  {
   "cell_type": "markdown",
   "metadata": {},
   "source": [
    "# Imports"
   ]
  },
  {
   "cell_type": "code",
   "execution_count": 2,
   "metadata": {},
   "outputs": [],
   "source": [
    "import os\n",
    "import logging\n",
    "import uuid\n",
    "from datetime import (\n",
    "    datetime,\n",
    "    timezone\n",
    ")\n",
    "import re\n",
    "import unicodedata"
   ]
  },
  {
   "cell_type": "code",
   "execution_count": 3,
   "metadata": {},
   "outputs": [],
   "source": [
    "# import sqlalchemy as sa\n",
    "import numpy as np\n",
    "import pandas as pd\n",
    "import py7zr\n",
    "import matplotlib.pyplot as plt"
   ]
  },
  {
   "cell_type": "markdown",
   "metadata": {},
   "source": [
    "# Utils & functions"
   ]
  },
  {
   "cell_type": "markdown",
   "metadata": {},
   "source": [
    "### logger"
   ]
  },
  {
   "cell_type": "code",
   "execution_count": 4,
   "metadata": {},
   "outputs": [],
   "source": [
    "# Logger\n",
    "class __UUIDFilter(logging.Filter):\n",
    "    \"\"\"\n",
    "    Internal utils\n",
    "    Filter that adds a UUID4 to the log record.\n",
    "    \"\"\"\n",
    "    def filter(self, record):\n",
    "        record.uuid4 = uuid.uuid4()\n",
    "        return True\n",
    "\n",
    "def create_logger(log_file=None):\n",
    "    \"\"\"\n",
    "    Creates a logger that writes messages to a file and writes them to the console.\n",
    "\n",
    "    :param log_file: Name of the log file.\n",
    "    :return: Configured logger.\n",
    "    \"\"\"\n",
    "    # Logger creation\n",
    "    logger = logging.getLogger(__name__)\n",
    "    logger.setLevel(logging.DEBUG)\n",
    "\n",
    "    # Custom log format with UTC timestamp and UUID4\n",
    "    log_format = logging.Formatter(\n",
    "        '%(asctime)s - %(levelname)s - [%(funcName)s] - [%(uuid4)s] - %(message)s',\n",
    "        datefmt=\"%Y-%m-%dT%H:%M:%S%z\"\n",
    "    )\n",
    "\n",
    "    # Force the UTC time to appear in all handlers\n",
    "    logging.Formatter.converter = lambda *args: datetime.now(timezone.utc).timetuple()\n",
    "\n",
    "    uuid_filter = __UUIDFilter()\n",
    "    logger.addFilter(uuid_filter)\n",
    "\n",
    "    # File writer handler\n",
    "    if log_file:\n",
    "        file_handler = logging.FileHandler(log_file)\n",
    "        file_handler.setLevel(logging.DEBUG)\n",
    "        file_handler.setFormatter(log_format)\n",
    "        logger.addHandler(file_handler)\n",
    "\n",
    "    # Console handler\n",
    "    console_handler = logging.StreamHandler()\n",
    "    console_handler.setLevel(logging.DEBUG)\n",
    "    console_handler.setFormatter(log_format)\n",
    "    logger.addHandler(console_handler)\n",
    "\n",
    "    return logger"
   ]
  },
  {
   "cell_type": "markdown",
   "metadata": {},
   "source": [
    "### extract_7z"
   ]
  },
  {
   "cell_type": "code",
   "execution_count": 5,
   "metadata": {},
   "outputs": [],
   "source": [
    "def extract_7z(bg_logger, file_path):\n",
    "    \"\"\"\n",
    "    Extracts a 7z file to the same directory as the compressed file.\n",
    "\n",
    "    :param bg_logger: initialized logger\n",
    "    :param file_path: Path to the 7z file to extract.\n",
    "    \"\"\"\n",
    "    # Record start time\n",
    "    start_time = datetime.now()\n",
    "\n",
    "    # Get extraction directory\n",
    "    extract_dir = os.path.dirname(file_path)\n",
    "\n",
    "    # Extract the 7z file\n",
    "    with py7zr.SevenZipFile(file_path, mode='r') as z:\n",
    "        z.extractall(path=extract_dir)\n",
    "\n",
    "    # Calculate extraction duration\n",
    "    duration = datetime.now() - start_time\n",
    "\n",
    "    # Log success message with extraction details\n",
    "    bg_logger.info(\n",
    "        \"Data successfully extracted to directory %s. Duration: %s\",\n",
    "        extract_dir, duration\n",
    "    )\n",
    "    extract_dir = None\n",
    "    del extract_dir\n"
   ]
  },
  {
   "cell_type": "markdown",
   "metadata": {},
   "source": [
    "### sanitize_column_data"
   ]
  },
  {
   "cell_type": "code",
   "execution_count": 6,
   "metadata": {},
   "outputs": [],
   "source": [
    "def sanitize_column_data(bg_logger, df, column, c_dtype=str):\n",
    "    \"\"\"\n",
    "    Corrects and specializes the data column format, replacing invalid values with NaN.\n",
    "    Args:\n",
    "        bg_logger: Logger instance for logging.\n",
    "        df: DataFrame containing the data.\n",
    "        column: Column to be transformed.\n",
    "        c_dtype: Target data type (default is str).\n",
    "    Returns:\n",
    "        The transformed column.\n",
    "    \"\"\"\n",
    "    start_time = datetime.now()\n",
    "    df[column] = df[column].str.strip()\n",
    "\n",
    "    bg_logger.info(\n",
    "        \"Specializing column data '%s' to '%s'. It took %s\",\n",
    "        column, str(c_dtype), str(datetime.now() - start_time)\n",
    "    )\n",
    "    return df[column]"
   ]
  },
  {
   "cell_type": "markdown",
   "metadata": {},
   "source": [
    "### sanitize_text"
   ]
  },
  {
   "cell_type": "code",
   "execution_count": 7,
   "metadata": {},
   "outputs": [],
   "source": [
    "def sanitize_text(text):\n",
    "    \"\"\"\n",
    "    Normalizes text by:\n",
    "    - Removing special characters\n",
    "    - Replacing accented characters with their unaccented counterparts\n",
    "        Note: This is a symbol-based scenario, meaning it only considers simple transformations.\n",
    "        For words requiring special handling (e.g., unique characters in specific languages),\n",
    "        we would need to either create a custom mapping or use a specialized\n",
    "        library for broader support.\n",
    "    - Removing extra spaces\n",
    "\n",
    "    Args:\n",
    "        text (str): The input string to normalize.\n",
    "\n",
    "    Returns:\n",
    "        str: The normalized text.\n",
    "    \"\"\"\n",
    "    if not isinstance(text, str):\n",
    "        return text  # Return as-is if not a string\n",
    "\n",
    "    # 1. Remove accents\n",
    "    text = ''.join(\n",
    "        c for c in unicodedata.normalize('NFD', text) \n",
    "        if unicodedata.category(c) != 'Mn'\n",
    "    )\n",
    "\n",
    "    # 2. Remove special characters*\n",
    "    text = re.sub(r'[^a-zA-Z0-9\\s]', '', text)\n",
    "\n",
    "    # 3. Remove extra spaces\n",
    "    text = re.sub(r'\\s+', ' ', text).strip()\n",
    "\n",
    "    return text"
   ]
  },
  {
   "cell_type": "markdown",
   "metadata": {},
   "source": [
    "### data maps"
   ]
  },
  {
   "cell_type": "code",
   "execution_count": 8,
   "metadata": {},
   "outputs": [],
   "source": [
    "NORMATIZE_LOCATION_MAP = {\n",
    "    \"USA\": \"United States\",\n",
    "    \"US\": \"United States\",\n",
    "    \"UK\": \"United Kingdom\",\n",
    "    \"EIRE\": \"Ireland\",\n",
    "    \"RSA\": \"South Africa\",\n",
    "    \"Unspecified\": \"co0z0\",\n",
    "}"
   ]
  },
  {
   "cell_type": "markdown",
   "metadata": {},
   "source": [
    "# Base Pipeline"
   ]
  },
  {
   "cell_type": "markdown",
   "metadata": {},
   "source": [
    "### Logger init"
   ]
  },
  {
   "cell_type": "code",
   "execution_count": 9,
   "metadata": {},
   "outputs": [],
   "source": [
    "# initialize logger\n",
    "bg_logger = create_logger()"
   ]
  },
  {
   "cell_type": "markdown",
   "metadata": {},
   "source": [
    "### base path reference"
   ]
  },
  {
   "cell_type": "code",
   "execution_count": 10,
   "metadata": {},
   "outputs": [],
   "source": [
    "# Get the current working directory\n",
    "cwd_path = os.getcwd()"
   ]
  },
  {
   "cell_type": "markdown",
   "metadata": {},
   "source": [
    "## Base data process"
   ]
  },
  {
   "cell_type": "markdown",
   "metadata": {},
   "source": [
    "### Importing base DF"
   ]
  },
  {
   "cell_type": "code",
   "execution_count": 11,
   "metadata": {},
   "outputs": [],
   "source": [
    "base_df_path = os.path.join(\n",
    "    cwd_path,\n",
    "    'ingestion',\n",
    "    'Invoices_Year_2009-2010.7z'\n",
    ")"
   ]
  },
  {
   "cell_type": "code",
   "execution_count": 12,
   "metadata": {},
   "outputs": [
    {
     "name": "stderr",
     "output_type": "stream",
     "text": [
      "2024-11-24T20:34:43 - INFO - [extract_7z] - [d6f5ddbc-007c-47b6-b864-7e64ec7ef11c] - Data successfully extracted to directory /workspaces/betsson_group/ingestion. Duration: 0:00:00.405594\n"
     ]
    }
   ],
   "source": [
    "extract_7z(bg_logger, base_df_path)"
   ]
  },
  {
   "cell_type": "code",
   "execution_count": 13,
   "metadata": {},
   "outputs": [],
   "source": [
    "# os path join to avoid os-specific path issues\n",
    "\n",
    "# get csv base df\n",
    "base_retails_df = pd.read_csv(\n",
    "    os.path.join(\n",
    "        cwd_path,\n",
    "        'ingestion',\n",
    "        'Invoices_Year_2009-2010.csv'\n",
    "    ),\n",
    "    sep=',',\n",
    "    encoding='latin1',\n",
    "    low_memory=False\n",
    ")"
   ]
  },
  {
   "cell_type": "markdown",
   "metadata": {},
   "source": [
    "### 0 - Briefly check the data"
   ]
  },
  {
   "cell_type": "markdown",
   "metadata": {},
   "source": [
    "##### A - dataset base info"
   ]
  },
  {
   "cell_type": "code",
   "execution_count": 14,
   "metadata": {},
   "outputs": [
    {
     "name": "stdout",
     "output_type": "stream",
     "text": [
      "<class 'pandas.core.frame.DataFrame'>\n",
      "RangeIndex: 525461 entries, 0 to 525460\n",
      "Data columns (total 8 columns):\n",
      " #   Column       Non-Null Count   Dtype  \n",
      "---  ------       --------------   -----  \n",
      " 0   Invoice      525461 non-null  object \n",
      " 1   StockCode    525461 non-null  object \n",
      " 2   Description  522533 non-null  object \n",
      " 3   Quantity     525461 non-null  int64  \n",
      " 4   InvoiceDate  525461 non-null  object \n",
      " 5   Price        525439 non-null  float64\n",
      " 6   Customer ID  417541 non-null  object \n",
      " 7   Country      525430 non-null  object \n",
      "dtypes: float64(1), int64(1), object(6)\n",
      "memory usage: 32.1+ MB\n"
     ]
    }
   ],
   "source": [
    "base_retails_df.info()"
   ]
  },
  {
   "cell_type": "markdown",
   "metadata": {},
   "source": [
    "##### B - understanding data variations"
   ]
  },
  {
   "cell_type": "code",
   "execution_count": 15,
   "metadata": {},
   "outputs": [
    {
     "data": {
      "text/html": [
       "<div>\n",
       "<style scoped>\n",
       "    .dataframe tbody tr th:only-of-type {\n",
       "        vertical-align: middle;\n",
       "    }\n",
       "\n",
       "    .dataframe tbody tr th {\n",
       "        vertical-align: top;\n",
       "    }\n",
       "\n",
       "    .dataframe thead th {\n",
       "        text-align: right;\n",
       "    }\n",
       "</style>\n",
       "<table border=\"1\" class=\"dataframe\">\n",
       "  <thead>\n",
       "    <tr style=\"text-align: right;\">\n",
       "      <th></th>\n",
       "      <th>Quantity</th>\n",
       "      <th>Price</th>\n",
       "    </tr>\n",
       "  </thead>\n",
       "  <tbody>\n",
       "    <tr>\n",
       "      <th>count</th>\n",
       "      <td>525461.000000</td>\n",
       "      <td>525439.000000</td>\n",
       "    </tr>\n",
       "    <tr>\n",
       "      <th>mean</th>\n",
       "      <td>10.337667</td>\n",
       "      <td>4.688669</td>\n",
       "    </tr>\n",
       "    <tr>\n",
       "      <th>std</th>\n",
       "      <td>107.424110</td>\n",
       "      <td>146.130044</td>\n",
       "    </tr>\n",
       "    <tr>\n",
       "      <th>min</th>\n",
       "      <td>-9600.000000</td>\n",
       "      <td>-53594.360000</td>\n",
       "    </tr>\n",
       "    <tr>\n",
       "      <th>25%</th>\n",
       "      <td>1.000000</td>\n",
       "      <td>1.250000</td>\n",
       "    </tr>\n",
       "    <tr>\n",
       "      <th>50%</th>\n",
       "      <td>3.000000</td>\n",
       "      <td>2.100000</td>\n",
       "    </tr>\n",
       "    <tr>\n",
       "      <th>75%</th>\n",
       "      <td>10.000000</td>\n",
       "      <td>4.210000</td>\n",
       "    </tr>\n",
       "    <tr>\n",
       "      <th>max</th>\n",
       "      <td>19152.000000</td>\n",
       "      <td>25111.090000</td>\n",
       "    </tr>\n",
       "  </tbody>\n",
       "</table>\n",
       "</div>"
      ],
      "text/plain": [
       "            Quantity          Price\n",
       "count  525461.000000  525439.000000\n",
       "mean       10.337667       4.688669\n",
       "std       107.424110     146.130044\n",
       "min     -9600.000000  -53594.360000\n",
       "25%         1.000000       1.250000\n",
       "50%         3.000000       2.100000\n",
       "75%        10.000000       4.210000\n",
       "max     19152.000000   25111.090000"
      ]
     },
     "execution_count": 15,
     "metadata": {},
     "output_type": "execute_result"
    }
   ],
   "source": [
    "base_retails_df.describe()"
   ]
  },
  {
   "cell_type": "code",
   "execution_count": 16,
   "metadata": {},
   "outputs": [
    {
     "data": {
      "text/plain": [
       "Invoice             0\n",
       "StockCode           0\n",
       "Description      2928\n",
       "Quantity            0\n",
       "InvoiceDate         0\n",
       "Price              22\n",
       "Customer ID    107920\n",
       "Country            31\n",
       "dtype: int64"
      ]
     },
     "execution_count": 16,
     "metadata": {},
     "output_type": "execute_result"
    }
   ],
   "source": [
    "base_retails_df.isnull().sum()"
   ]
  },
  {
   "cell_type": "markdown",
   "metadata": {},
   "source": [
    "##### C - Understanding base memory usage"
   ]
  },
  {
   "cell_type": "code",
   "execution_count": 17,
   "metadata": {},
   "outputs": [
    {
     "name": "stderr",
     "output_type": "stream",
     "text": [
      "2024-11-24T20:34:45 - INFO - [<module>] - [989d5d8c-2284-45a2-b033-0b1e4cfb1c92] - 188.98 MB\n"
     ]
    },
    {
     "data": {
      "text/plain": [
       "Index               132\n",
       "Invoice        28910564\n",
       "StockCode      28447549\n",
       "Description    39656495\n",
       "Quantity        4203688\n",
       "InvoiceDate    33927016\n",
       "Price           4203688\n",
       "Customer ID    26000647\n",
       "Country        32814455\n",
       "dtype: int64"
      ]
     },
     "execution_count": 17,
     "metadata": {},
     "output_type": "execute_result"
    }
   ],
   "source": [
    "base_memory_usage = base_retails_df.reset_index(drop=True).memory_usage(deep=True)\n",
    "format_base_memory_usage = base_memory_usage.sum() / (1024 * 1024)\n",
    "bg_logger.info(f'{format_base_memory_usage:.2f} MB')\n",
    "base_memory_usage"
   ]
  },
  {
   "cell_type": "markdown",
   "metadata": {},
   "source": [
    "##### D - Overview Top and Bottom data"
   ]
  },
  {
   "cell_type": "code",
   "execution_count": 18,
   "metadata": {},
   "outputs": [
    {
     "data": {
      "text/html": [
       "<div>\n",
       "<style scoped>\n",
       "    .dataframe tbody tr th:only-of-type {\n",
       "        vertical-align: middle;\n",
       "    }\n",
       "\n",
       "    .dataframe tbody tr th {\n",
       "        vertical-align: top;\n",
       "    }\n",
       "\n",
       "    .dataframe thead th {\n",
       "        text-align: right;\n",
       "    }\n",
       "</style>\n",
       "<table border=\"1\" class=\"dataframe\">\n",
       "  <thead>\n",
       "    <tr style=\"text-align: right;\">\n",
       "      <th></th>\n",
       "      <th>Invoice</th>\n",
       "      <th>StockCode</th>\n",
       "      <th>Description</th>\n",
       "      <th>Quantity</th>\n",
       "      <th>InvoiceDate</th>\n",
       "      <th>Price</th>\n",
       "      <th>Customer ID</th>\n",
       "      <th>Country</th>\n",
       "    </tr>\n",
       "  </thead>\n",
       "  <tbody>\n",
       "    <tr>\n",
       "      <th>0</th>\n",
       "      <td>489434</td>\n",
       "      <td>85048</td>\n",
       "      <td>15CM CHRISTMAS GLASS BALL 20 LIGHTS</td>\n",
       "      <td>12</td>\n",
       "      <td>12/01/2009 07:45</td>\n",
       "      <td>6.95</td>\n",
       "      <td>13085</td>\n",
       "      <td>United Kingdom</td>\n",
       "    </tr>\n",
       "    <tr>\n",
       "      <th>1</th>\n",
       "      <td>489434</td>\n",
       "      <td>79323P</td>\n",
       "      <td>PINK CHERRY LIGHTS</td>\n",
       "      <td>12</td>\n",
       "      <td>12/01/2009 07:45</td>\n",
       "      <td>6.75</td>\n",
       "      <td>13085</td>\n",
       "      <td>United Kingdom</td>\n",
       "    </tr>\n",
       "    <tr>\n",
       "      <th>2</th>\n",
       "      <td>489434</td>\n",
       "      <td>79323W</td>\n",
       "      <td>WHITE CHERRY LIGHTS</td>\n",
       "      <td>12</td>\n",
       "      <td>12/01/2009 07:45</td>\n",
       "      <td>6.75</td>\n",
       "      <td>13085</td>\n",
       "      <td>United Kingdom</td>\n",
       "    </tr>\n",
       "    <tr>\n",
       "      <th>3</th>\n",
       "      <td>489434</td>\n",
       "      <td>22041</td>\n",
       "      <td>RECORD FRAME 7\" SINGLE SIZE</td>\n",
       "      <td>48</td>\n",
       "      <td>12/01/2009 07:45</td>\n",
       "      <td>2.10</td>\n",
       "      <td>13085</td>\n",
       "      <td>United Kingdom</td>\n",
       "    </tr>\n",
       "    <tr>\n",
       "      <th>4</th>\n",
       "      <td>489434</td>\n",
       "      <td>21232</td>\n",
       "      <td>STRAWBERRY CERAMIC TRINKET BOX</td>\n",
       "      <td>24</td>\n",
       "      <td>12/01/2009 07:45</td>\n",
       "      <td>1.25</td>\n",
       "      <td>13085</td>\n",
       "      <td>United Kingdom</td>\n",
       "    </tr>\n",
       "  </tbody>\n",
       "</table>\n",
       "</div>"
      ],
      "text/plain": [
       "  Invoice StockCode                          Description  Quantity  \\\n",
       "0  489434     85048  15CM CHRISTMAS GLASS BALL 20 LIGHTS        12   \n",
       "1  489434    79323P                   PINK CHERRY LIGHTS        12   \n",
       "2  489434    79323W                  WHITE CHERRY LIGHTS        12   \n",
       "3  489434     22041         RECORD FRAME 7\" SINGLE SIZE         48   \n",
       "4  489434     21232       STRAWBERRY CERAMIC TRINKET BOX        24   \n",
       "\n",
       "        InvoiceDate  Price Customer ID         Country  \n",
       "0  12/01/2009 07:45   6.95       13085  United Kingdom  \n",
       "1  12/01/2009 07:45   6.75       13085  United Kingdom  \n",
       "2  12/01/2009 07:45   6.75       13085  United Kingdom  \n",
       "3  12/01/2009 07:45   2.10       13085  United Kingdom  \n",
       "4  12/01/2009 07:45   1.25       13085  United Kingdom  "
      ]
     },
     "execution_count": 18,
     "metadata": {},
     "output_type": "execute_result"
    }
   ],
   "source": [
    "base_retails_df.head()"
   ]
  },
  {
   "cell_type": "code",
   "execution_count": 19,
   "metadata": {},
   "outputs": [
    {
     "data": {
      "text/html": [
       "<div>\n",
       "<style scoped>\n",
       "    .dataframe tbody tr th:only-of-type {\n",
       "        vertical-align: middle;\n",
       "    }\n",
       "\n",
       "    .dataframe tbody tr th {\n",
       "        vertical-align: top;\n",
       "    }\n",
       "\n",
       "    .dataframe thead th {\n",
       "        text-align: right;\n",
       "    }\n",
       "</style>\n",
       "<table border=\"1\" class=\"dataframe\">\n",
       "  <thead>\n",
       "    <tr style=\"text-align: right;\">\n",
       "      <th></th>\n",
       "      <th>Invoice</th>\n",
       "      <th>StockCode</th>\n",
       "      <th>Description</th>\n",
       "      <th>Quantity</th>\n",
       "      <th>InvoiceDate</th>\n",
       "      <th>Price</th>\n",
       "      <th>Customer ID</th>\n",
       "      <th>Country</th>\n",
       "    </tr>\n",
       "  </thead>\n",
       "  <tbody>\n",
       "    <tr>\n",
       "      <th>525456</th>\n",
       "      <td>538171</td>\n",
       "      <td>22271</td>\n",
       "      <td>FELTCRAFT DOLL ROSIE</td>\n",
       "      <td>2</td>\n",
       "      <td>12/09/2010 20:01</td>\n",
       "      <td>2.95</td>\n",
       "      <td>17530</td>\n",
       "      <td>United Kingdom</td>\n",
       "    </tr>\n",
       "    <tr>\n",
       "      <th>525457</th>\n",
       "      <td>538171</td>\n",
       "      <td>22750</td>\n",
       "      <td>FELTCRAFT PRINCESS LOLA DOLL</td>\n",
       "      <td>1</td>\n",
       "      <td>12/09/2010 20:01</td>\n",
       "      <td>3.75</td>\n",
       "      <td>17530</td>\n",
       "      <td>United Kingdom</td>\n",
       "    </tr>\n",
       "    <tr>\n",
       "      <th>525458</th>\n",
       "      <td>538171</td>\n",
       "      <td>22751</td>\n",
       "      <td>FELTCRAFT PRINCESS OLIVIA DOLL</td>\n",
       "      <td>1</td>\n",
       "      <td>12/09/2010 20:01</td>\n",
       "      <td>3.75</td>\n",
       "      <td>17530</td>\n",
       "      <td>United Kingdom</td>\n",
       "    </tr>\n",
       "    <tr>\n",
       "      <th>525459</th>\n",
       "      <td>538171</td>\n",
       "      <td>20970</td>\n",
       "      <td>PINK FLORAL FELTCRAFT SHOULDER BAG</td>\n",
       "      <td>2</td>\n",
       "      <td>12/09/2010 20:01</td>\n",
       "      <td>3.75</td>\n",
       "      <td>17530</td>\n",
       "      <td>United Kingdom</td>\n",
       "    </tr>\n",
       "    <tr>\n",
       "      <th>525460</th>\n",
       "      <td>538171</td>\n",
       "      <td>21931</td>\n",
       "      <td>JUMBO STORAGE BAG SUKI</td>\n",
       "      <td>2</td>\n",
       "      <td>12/09/2010 20:01</td>\n",
       "      <td>1.95</td>\n",
       "      <td>17530</td>\n",
       "      <td>United Kingdom</td>\n",
       "    </tr>\n",
       "  </tbody>\n",
       "</table>\n",
       "</div>"
      ],
      "text/plain": [
       "       Invoice StockCode                         Description  Quantity  \\\n",
       "525456  538171     22271                FELTCRAFT DOLL ROSIE         2   \n",
       "525457  538171     22750        FELTCRAFT PRINCESS LOLA DOLL         1   \n",
       "525458  538171     22751      FELTCRAFT PRINCESS OLIVIA DOLL         1   \n",
       "525459  538171     20970  PINK FLORAL FELTCRAFT SHOULDER BAG         2   \n",
       "525460  538171     21931              JUMBO STORAGE BAG SUKI         2   \n",
       "\n",
       "             InvoiceDate  Price Customer ID         Country  \n",
       "525456  12/09/2010 20:01   2.95       17530  United Kingdom  \n",
       "525457  12/09/2010 20:01   3.75       17530  United Kingdom  \n",
       "525458  12/09/2010 20:01   3.75       17530  United Kingdom  \n",
       "525459  12/09/2010 20:01   3.75       17530  United Kingdom  \n",
       "525460  12/09/2010 20:01   1.95       17530  United Kingdom  "
      ]
     },
     "execution_count": 19,
     "metadata": {},
     "output_type": "execute_result"
    }
   ],
   "source": [
    "base_retails_df.tail()"
   ]
  },
  {
   "cell_type": "markdown",
   "metadata": {},
   "source": [
    "---\n",
    "Based on the top and bottom data, it's likely a general retail store. I'll maintain the previously defined generic 'retail' nomenclature."
   ]
  },
  {
   "cell_type": "markdown",
   "metadata": {},
   "source": [
    "##### E - Reviewing data uniqueness"
   ]
  },
  {
   "cell_type": "code",
   "execution_count": 20,
   "metadata": {},
   "outputs": [
    {
     "data": {
      "text/plain": [
       "Invoice        28816\n",
       "StockCode       4632\n",
       "Description     4681\n",
       "Quantity         825\n",
       "InvoiceDate    25296\n",
       "Price           1607\n",
       "Customer ID     4384\n",
       "Country           41\n",
       "dtype: int64"
      ]
     },
     "execution_count": 20,
     "metadata": {},
     "output_type": "execute_result"
    }
   ],
   "source": [
    "base_retails_df.nunique()"
   ]
  },
  {
   "cell_type": "markdown",
   "metadata": {},
   "source": [
    "### 1 - Going deeper into base errors and data types"
   ]
  },
  {
   "cell_type": "markdown",
   "metadata": {},
   "source": [
    "##### A - Specialized Data Corrections"
   ]
  },
  {
   "cell_type": "code",
   "execution_count": 21,
   "metadata": {},
   "outputs": [],
   "source": [
    "retails_df_stage_I = base_retails_df.copy()"
   ]
  },
  {
   "cell_type": "markdown",
   "metadata": {},
   "source": [
    "---\n",
    "Stage 0 - Data specific and column corrections"
   ]
  },
  {
   "cell_type": "markdown",
   "metadata": {},
   "source": [
    "> Country column - understanding overall logic"
   ]
  },
  {
   "cell_type": "code",
   "execution_count": 22,
   "metadata": {},
   "outputs": [
    {
     "data": {
      "text/plain": [
       "['United Kingdom',\n",
       " 'France',\n",
       " 'USA',\n",
       " 'Belgium',\n",
       " 'Australia',\n",
       " 'EIRE',\n",
       " 'Germany',\n",
       " 'Portugal',\n",
       " 'Japan',\n",
       " 'Denmark',\n",
       " 'Nigeria',\n",
       " 'Netherlands',\n",
       " 'Poland',\n",
       " 'Spain',\n",
       " 'Channel Islands',\n",
       " 'Italy',\n",
       " 'Cyprus',\n",
       " 'Greece',\n",
       " 'Norway',\n",
       " 'Austria',\n",
       " 'Sweden',\n",
       " 'United Arab Emirates',\n",
       " 'Finland',\n",
       " 'Switzerland',\n",
       " 'Unspecified',\n",
       " 'Malta',\n",
       " 'Bahrain',\n",
       " 'RSA',\n",
       " 'Bermuda',\n",
       " 'Hong Kong',\n",
       " 'Singapore',\n",
       " 'Thailand',\n",
       " 'Israel',\n",
       " 'Lithuania',\n",
       " nan,\n",
       " 'West Indies',\n",
       " 'Lebanon',\n",
       " 'Korea',\n",
       " 'Brazil',\n",
       " 'Canada',\n",
       " 'Iceland',\n",
       " 'U.K.']"
      ]
     },
     "execution_count": 22,
     "metadata": {},
     "output_type": "execute_result"
    }
   ],
   "source": [
    "list(retails_df_stage_I['Country'].unique())"
   ]
  },
  {
   "cell_type": "markdown",
   "metadata": {},
   "source": [
    "> Country column - Cleaning and mapping correct values"
   ]
  },
  {
   "cell_type": "code",
   "execution_count": 23,
   "metadata": {},
   "outputs": [],
   "source": [
    "# sanitize data\n",
    "retails_df_stage_I['Country'] = retails_df_stage_I['Country'].apply(sanitize_text)"
   ]
  },
  {
   "cell_type": "code",
   "execution_count": 24,
   "metadata": {},
   "outputs": [],
   "source": [
    "# correct acronyms and normalizing location names\n",
    "retails_df_stage_I['Country'] = retails_df_stage_I['Country'].replace(NORMATIZE_LOCATION_MAP)"
   ]
  },
  {
   "cell_type": "code",
   "execution_count": 25,
   "metadata": {},
   "outputs": [
    {
     "data": {
      "text/plain": [
       "Country\n",
       "United Kingdom          92.463316\n",
       "Ireland                  1.838685\n",
       "Germany                  1.547114\n",
       "France                   1.098529\n",
       "Netherlands              0.526997\n",
       "Spain                    0.243229\n",
       "Switzerland              0.225910\n",
       "Portugal                 0.209543\n",
       "Belgium                  0.200598\n",
       "Channel Islands          0.172430\n",
       "Sweden                   0.171669\n",
       "Italy                    0.139124\n",
       "Australia                0.124469\n",
       "Cyprus                   0.105437\n",
       "Austria                  0.102202\n",
       "Greece                   0.098396\n",
       "United Arab Emirates     0.082218\n",
       "Denmark                  0.081457\n",
       "Norway                   0.070228\n",
       "Finland                  0.067373\n",
       "co0z0                    0.058999\n",
       "United States            0.046438\n",
       "Japan                    0.042632\n",
       "Poland                   0.036922\n",
       "Malta                    0.032735\n",
       "Lithuania                0.029309\n",
       "Singapore                0.022267\n",
       "South Africa             0.021126\n",
       "Bahrain                  0.020364\n",
       "Canada                   0.014655\n",
       "Thailand                 0.014464\n",
       "Hong Kong                0.014464\n",
       "Israel                   0.014084\n",
       "Iceland                  0.013513\n",
       "Korea                    0.011990\n",
       "Brazil                   0.011800\n",
       "West Indies              0.010277\n",
       "Bermuda                  0.006471\n",
       "Nigeria                  0.006090\n",
       "Lebanon                  0.002474\n",
       "Name: proportion, dtype: float64"
      ]
     },
     "execution_count": 25,
     "metadata": {},
     "output_type": "execute_result"
    }
   ],
   "source": [
    "# overall data consistency\n",
    "retails_df_stage_I['Country'].value_counts(normalize=True) * 100"
   ]
  },
  {
   "cell_type": "markdown",
   "metadata": {},
   "source": [
    "> Customer ID column - understanding overall logic"
   ]
  },
  {
   "cell_type": "code",
   "execution_count": 26,
   "metadata": {},
   "outputs": [
    {
     "data": {
      "text/html": [
       "<div>\n",
       "<style scoped>\n",
       "    .dataframe tbody tr th:only-of-type {\n",
       "        vertical-align: middle;\n",
       "    }\n",
       "\n",
       "    .dataframe tbody tr th {\n",
       "        vertical-align: top;\n",
       "    }\n",
       "\n",
       "    .dataframe thead th {\n",
       "        text-align: right;\n",
       "    }\n",
       "</style>\n",
       "<table border=\"1\" class=\"dataframe\">\n",
       "  <thead>\n",
       "    <tr style=\"text-align: right;\">\n",
       "      <th></th>\n",
       "      <th>Invoice</th>\n",
       "      <th>StockCode</th>\n",
       "      <th>Description</th>\n",
       "      <th>Quantity</th>\n",
       "      <th>InvoiceDate</th>\n",
       "      <th>Price</th>\n",
       "      <th>Customer ID</th>\n",
       "      <th>Country</th>\n",
       "    </tr>\n",
       "  </thead>\n",
       "  <tbody>\n",
       "    <tr>\n",
       "      <th>176263</th>\n",
       "      <td>506141</td>\n",
       "      <td>21670</td>\n",
       "      <td>BLUE SPOT CERAMIC DRAWER KNOB</td>\n",
       "      <td>1</td>\n",
       "      <td>4/27/2010 16:16</td>\n",
       "      <td>0.0</td>\n",
       "      <td>TEST</td>\n",
       "      <td>United Kingdom</td>\n",
       "    </tr>\n",
       "    <tr>\n",
       "      <th>176264</th>\n",
       "      <td>506141</td>\n",
       "      <td>79160</td>\n",
       "      <td>HEART SHAPE WIRELESS DOORBELL</td>\n",
       "      <td>1</td>\n",
       "      <td>4/27/2010 16:16</td>\n",
       "      <td>0.0</td>\n",
       "      <td>TEST</td>\n",
       "      <td>United Kingdom</td>\n",
       "    </tr>\n",
       "    <tr>\n",
       "      <th>176265</th>\n",
       "      <td>506141</td>\n",
       "      <td>90112</td>\n",
       "      <td>PINK DOLLY HAIR CLIPS</td>\n",
       "      <td>1</td>\n",
       "      <td>4/27/2010 16:16</td>\n",
       "      <td>0.0</td>\n",
       "      <td>TEST</td>\n",
       "      <td>United Kingdom</td>\n",
       "    </tr>\n",
       "    <tr>\n",
       "      <th>176266</th>\n",
       "      <td>506141</td>\n",
       "      <td>90100</td>\n",
       "      <td>NECKLACE+BRACELET SET PINK DAISY</td>\n",
       "      <td>1</td>\n",
       "      <td>4/27/2010 16:16</td>\n",
       "      <td>0.0</td>\n",
       "      <td>TEST</td>\n",
       "      <td>United Kingdom</td>\n",
       "    </tr>\n",
       "    <tr>\n",
       "      <th>176267</th>\n",
       "      <td>506141</td>\n",
       "      <td>85226A</td>\n",
       "      <td>WHITE/BLUE PULL BACK RACING CAR</td>\n",
       "      <td>1</td>\n",
       "      <td>4/27/2010 16:16</td>\n",
       "      <td>0.0</td>\n",
       "      <td>TEST</td>\n",
       "      <td>United Kingdom</td>\n",
       "    </tr>\n",
       "    <tr>\n",
       "      <th>176268</th>\n",
       "      <td>506141</td>\n",
       "      <td>21890</td>\n",
       "      <td>S/6 WOODEN SKITTLES IN COTTON BAG</td>\n",
       "      <td>1</td>\n",
       "      <td>4/27/2010 16:16</td>\n",
       "      <td>0.0</td>\n",
       "      <td>TEST</td>\n",
       "      <td>United Kingdom</td>\n",
       "    </tr>\n",
       "    <tr>\n",
       "      <th>176269</th>\n",
       "      <td>506141</td>\n",
       "      <td>21826</td>\n",
       "      <td>EIGHT PIECE DINOSAUR SET</td>\n",
       "      <td>1</td>\n",
       "      <td>4/27/2010 16:16</td>\n",
       "      <td>-100.0</td>\n",
       "      <td>TEST</td>\n",
       "      <td>United Kingdom</td>\n",
       "    </tr>\n",
       "  </tbody>\n",
       "</table>\n",
       "</div>"
      ],
      "text/plain": [
       "       Invoice StockCode                        Description  Quantity  \\\n",
       "176263  506141     21670      BLUE SPOT CERAMIC DRAWER KNOB         1   \n",
       "176264  506141     79160      HEART SHAPE WIRELESS DOORBELL         1   \n",
       "176265  506141     90112              PINK DOLLY HAIR CLIPS         1   \n",
       "176266  506141     90100   NECKLACE+BRACELET SET PINK DAISY         1   \n",
       "176267  506141    85226A    WHITE/BLUE PULL BACK RACING CAR         1   \n",
       "176268  506141     21890  S/6 WOODEN SKITTLES IN COTTON BAG         1   \n",
       "176269  506141     21826           EIGHT PIECE DINOSAUR SET         1   \n",
       "\n",
       "            InvoiceDate  Price Customer ID         Country  \n",
       "176263  4/27/2010 16:16    0.0        TEST  United Kingdom  \n",
       "176264  4/27/2010 16:16    0.0        TEST  United Kingdom  \n",
       "176265  4/27/2010 16:16    0.0        TEST  United Kingdom  \n",
       "176266  4/27/2010 16:16    0.0        TEST  United Kingdom  \n",
       "176267  4/27/2010 16:16    0.0        TEST  United Kingdom  \n",
       "176268  4/27/2010 16:16    0.0        TEST  United Kingdom  \n",
       "176269  4/27/2010 16:16 -100.0        TEST  United Kingdom  "
      ]
     },
     "execution_count": 26,
     "metadata": {},
     "output_type": "execute_result"
    }
   ],
   "source": [
    "# validating customer id format, to understand if all values are alphanumeric\n",
    "pattern = r'[a-z]'\n",
    "retails_df_stage_I[retails_df_stage_I['Customer ID'].str.contains(pattern, na=False, regex=True, case=False)]"
   ]
  },
  {
   "cell_type": "markdown",
   "metadata": {},
   "source": [
    "\\+  Search for test in all columns"
   ]
  },
  {
   "cell_type": "markdown",
   "metadata": {},
   "source": [
    "> Price column - understanding overall logic"
   ]
  },
  {
   "cell_type": "code",
   "execution_count": 27,
   "metadata": {},
   "outputs": [
    {
     "data": {
      "text/plain": [
       "count    525439.000000\n",
       "mean          4.688669\n",
       "std         146.130044\n",
       "min      -53594.360000\n",
       "25%           1.250000\n",
       "50%           2.100000\n",
       "75%           4.210000\n",
       "max       25111.090000\n",
       "Name: Price, dtype: float64"
      ]
     },
     "execution_count": 27,
     "metadata": {},
     "output_type": "execute_result"
    }
   ],
   "source": [
    "retails_df_stage_I['Price'].describe()"
   ]
  },
  {
   "cell_type": "code",
   "execution_count": 28,
   "metadata": {},
   "outputs": [],
   "source": [
    "# checking values that are less than or equal to 0\n",
    "non_and_zero_prices_df = retails_df_stage_I.query(\"Price <= 0\")"
   ]
  },
  {
   "cell_type": "code",
   "execution_count": 29,
   "metadata": {},
   "outputs": [
    {
     "data": {
      "text/html": [
       "<div>\n",
       "<style scoped>\n",
       "    .dataframe tbody tr th:only-of-type {\n",
       "        vertical-align: middle;\n",
       "    }\n",
       "\n",
       "    .dataframe tbody tr th {\n",
       "        vertical-align: top;\n",
       "    }\n",
       "\n",
       "    .dataframe thead th {\n",
       "        text-align: right;\n",
       "    }\n",
       "</style>\n",
       "<table border=\"1\" class=\"dataframe\">\n",
       "  <thead>\n",
       "    <tr style=\"text-align: right;\">\n",
       "      <th></th>\n",
       "      <th>Invoice</th>\n",
       "      <th>StockCode</th>\n",
       "      <th>Description</th>\n",
       "      <th>Quantity</th>\n",
       "      <th>InvoiceDate</th>\n",
       "      <th>Price</th>\n",
       "      <th>Customer ID</th>\n",
       "      <th>Country</th>\n",
       "    </tr>\n",
       "  </thead>\n",
       "  <tbody>\n",
       "    <tr>\n",
       "      <th>263</th>\n",
       "      <td>489464</td>\n",
       "      <td>21733</td>\n",
       "      <td>85123a mixed</td>\n",
       "      <td>-96</td>\n",
       "      <td>12/01/2009 10:52</td>\n",
       "      <td>0.0</td>\n",
       "      <td>NaN</td>\n",
       "      <td>United Kingdom</td>\n",
       "    </tr>\n",
       "    <tr>\n",
       "      <th>283</th>\n",
       "      <td>489463</td>\n",
       "      <td>71477</td>\n",
       "      <td>short</td>\n",
       "      <td>-240</td>\n",
       "      <td>12/01/2009 10:52</td>\n",
       "      <td>0.0</td>\n",
       "      <td>NaN</td>\n",
       "      <td>United Kingdom</td>\n",
       "    </tr>\n",
       "    <tr>\n",
       "      <th>284</th>\n",
       "      <td>489467</td>\n",
       "      <td>85123A</td>\n",
       "      <td>21733 mixed</td>\n",
       "      <td>-192</td>\n",
       "      <td>12/01/2009 10:53</td>\n",
       "      <td>0.0</td>\n",
       "      <td>NaN</td>\n",
       "      <td>United Kingdom</td>\n",
       "    </tr>\n",
       "    <tr>\n",
       "      <th>470</th>\n",
       "      <td>489521</td>\n",
       "      <td>21646</td>\n",
       "      <td>NaN</td>\n",
       "      <td>-50</td>\n",
       "      <td>12/01/2009 11:44</td>\n",
       "      <td>0.0</td>\n",
       "      <td>NaN</td>\n",
       "      <td>United Kingdom</td>\n",
       "    </tr>\n",
       "    <tr>\n",
       "      <th>3114</th>\n",
       "      <td>489655</td>\n",
       "      <td>20683</td>\n",
       "      <td>NaN</td>\n",
       "      <td>-44</td>\n",
       "      <td>12/01/2009 17:26</td>\n",
       "      <td>0.0</td>\n",
       "      <td>NaN</td>\n",
       "      <td>United Kingdom</td>\n",
       "    </tr>\n",
       "  </tbody>\n",
       "</table>\n",
       "</div>"
      ],
      "text/plain": [
       "     Invoice StockCode   Description  Quantity       InvoiceDate  Price  \\\n",
       "263   489464     21733  85123a mixed       -96  12/01/2009 10:52    0.0   \n",
       "283   489463     71477         short      -240  12/01/2009 10:52    0.0   \n",
       "284   489467    85123A   21733 mixed      -192  12/01/2009 10:53    0.0   \n",
       "470   489521     21646           NaN       -50  12/01/2009 11:44    0.0   \n",
       "3114  489655     20683           NaN       -44  12/01/2009 17:26    0.0   \n",
       "\n",
       "     Customer ID         Country  \n",
       "263          NaN  United Kingdom  \n",
       "283          NaN  United Kingdom  \n",
       "284          NaN  United Kingdom  \n",
       "470          NaN  United Kingdom  \n",
       "3114         NaN  United Kingdom  "
      ]
     },
     "execution_count": 29,
     "metadata": {},
     "output_type": "execute_result"
    }
   ],
   "source": [
    "non_and_zero_prices_df.head()"
   ]
  },
  {
   "cell_type": "code",
   "execution_count": 30,
   "metadata": {},
   "outputs": [
    {
     "data": {
      "text/plain": [
       "Invoice        3350\n",
       "StockCode      2197\n",
       "Description     381\n",
       "Quantity        514\n",
       "InvoiceDate    2295\n",
       "Price             5\n",
       "Customer ID      25\n",
       "Country           5\n",
       "dtype: int64"
      ]
     },
     "execution_count": 30,
     "metadata": {},
     "output_type": "execute_result"
    }
   ],
   "source": [
    "non_and_zero_prices_df.nunique()"
   ]
  },
  {
   "cell_type": "code",
   "execution_count": 31,
   "metadata": {},
   "outputs": [
    {
     "data": {
      "text/html": [
       "<div>\n",
       "<style scoped>\n",
       "    .dataframe tbody tr th:only-of-type {\n",
       "        vertical-align: middle;\n",
       "    }\n",
       "\n",
       "    .dataframe tbody tr th {\n",
       "        vertical-align: top;\n",
       "    }\n",
       "\n",
       "    .dataframe thead th {\n",
       "        text-align: right;\n",
       "    }\n",
       "</style>\n",
       "<table border=\"1\" class=\"dataframe\">\n",
       "  <thead>\n",
       "    <tr style=\"text-align: right;\">\n",
       "      <th></th>\n",
       "      <th>Invoice</th>\n",
       "      <th>StockCode</th>\n",
       "      <th>Description</th>\n",
       "      <th>Quantity</th>\n",
       "      <th>InvoiceDate</th>\n",
       "      <th>Price</th>\n",
       "      <th>Customer ID</th>\n",
       "      <th>Country</th>\n",
       "    </tr>\n",
       "  </thead>\n",
       "  <tbody>\n",
       "    <tr>\n",
       "      <th>263</th>\n",
       "      <td>489464</td>\n",
       "      <td>21733</td>\n",
       "      <td>85123a mixed</td>\n",
       "      <td>-96</td>\n",
       "      <td>12/01/2009 10:52</td>\n",
       "      <td>0.0</td>\n",
       "      <td>NaN</td>\n",
       "      <td>United Kingdom</td>\n",
       "    </tr>\n",
       "    <tr>\n",
       "      <th>283</th>\n",
       "      <td>489463</td>\n",
       "      <td>71477</td>\n",
       "      <td>short</td>\n",
       "      <td>-240</td>\n",
       "      <td>12/01/2009 10:52</td>\n",
       "      <td>0.0</td>\n",
       "      <td>NaN</td>\n",
       "      <td>United Kingdom</td>\n",
       "    </tr>\n",
       "    <tr>\n",
       "      <th>284</th>\n",
       "      <td>489467</td>\n",
       "      <td>85123A</td>\n",
       "      <td>21733 mixed</td>\n",
       "      <td>-192</td>\n",
       "      <td>12/01/2009 10:53</td>\n",
       "      <td>0.0</td>\n",
       "      <td>NaN</td>\n",
       "      <td>United Kingdom</td>\n",
       "    </tr>\n",
       "    <tr>\n",
       "      <th>470</th>\n",
       "      <td>489521</td>\n",
       "      <td>21646</td>\n",
       "      <td>NaN</td>\n",
       "      <td>-50</td>\n",
       "      <td>12/01/2009 11:44</td>\n",
       "      <td>0.0</td>\n",
       "      <td>NaN</td>\n",
       "      <td>United Kingdom</td>\n",
       "    </tr>\n",
       "    <tr>\n",
       "      <th>3114</th>\n",
       "      <td>489655</td>\n",
       "      <td>20683</td>\n",
       "      <td>NaN</td>\n",
       "      <td>-44</td>\n",
       "      <td>12/01/2009 17:26</td>\n",
       "      <td>0.0</td>\n",
       "      <td>NaN</td>\n",
       "      <td>United Kingdom</td>\n",
       "    </tr>\n",
       "  </tbody>\n",
       "</table>\n",
       "</div>"
      ],
      "text/plain": [
       "     Invoice StockCode   Description  Quantity       InvoiceDate  Price  \\\n",
       "263   489464     21733  85123a mixed       -96  12/01/2009 10:52    0.0   \n",
       "283   489463     71477         short      -240  12/01/2009 10:52    0.0   \n",
       "284   489467    85123A   21733 mixed      -192  12/01/2009 10:53    0.0   \n",
       "470   489521     21646           NaN       -50  12/01/2009 11:44    0.0   \n",
       "3114  489655     20683           NaN       -44  12/01/2009 17:26    0.0   \n",
       "\n",
       "     Customer ID         Country  \n",
       "263          NaN  United Kingdom  \n",
       "283          NaN  United Kingdom  \n",
       "284          NaN  United Kingdom  \n",
       "470          NaN  United Kingdom  \n",
       "3114         NaN  United Kingdom  "
      ]
     },
     "execution_count": 31,
     "metadata": {},
     "output_type": "execute_result"
    }
   ],
   "source": [
    "non_and_zero_prices_df.head()"
   ]
  },
  {
   "cell_type": "markdown",
   "metadata": {},
   "source": [
    "- What does \"mixed\" mean? Is it a `StockCode` that I should merge to understand more deeply?\n",
    "- What does \"short\" mean?\n",
    "- Could \"Dotcom sales\" refer to online sales for a specific product? If so, are we dealing with a hybrid store model?\n",
    "    - If yes, then it’s not just related to a product description, but rather the entire sale description."
   ]
  },
  {
   "cell_type": "markdown",
   "metadata": {},
   "source": [
    "\\+  Search for test in all columns  \n",
    "\\+  Search for Dotcom in all columns  "
   ]
  },
  {
   "cell_type": "code",
   "execution_count": 32,
   "metadata": {},
   "outputs": [],
   "source": [
    "# checking values that are greater than 0\n",
    "possile_effective_sales = retails_df_stage_I.query(\"Price > 0\")"
   ]
  },
  {
   "cell_type": "code",
   "execution_count": 33,
   "metadata": {},
   "outputs": [],
   "source": [
    "# checking possible obvious returns\n",
    "possible_product_returns = non_and_zero_prices_df.merge(\n",
    "    possile_effective_sales,\n",
    "    on=['Invoice', 'StockCode'],\n",
    "    suffixes=('_return', '_sale')\n",
    ")\n",
    "\n",
    "possible_effective_sales = None\n",
    "del possible_effective_sales"
   ]
  },
  {
   "cell_type": "code",
   "execution_count": 34,
   "metadata": {},
   "outputs": [
    {
     "data": {
      "text/html": [
       "<div>\n",
       "<style scoped>\n",
       "    .dataframe tbody tr th:only-of-type {\n",
       "        vertical-align: middle;\n",
       "    }\n",
       "\n",
       "    .dataframe tbody tr th {\n",
       "        vertical-align: top;\n",
       "    }\n",
       "\n",
       "    .dataframe thead th {\n",
       "        text-align: right;\n",
       "    }\n",
       "</style>\n",
       "<table border=\"1\" class=\"dataframe\">\n",
       "  <thead>\n",
       "    <tr style=\"text-align: right;\">\n",
       "      <th></th>\n",
       "      <th>Invoice</th>\n",
       "      <th>StockCode</th>\n",
       "      <th>Description_return</th>\n",
       "      <th>Quantity_return</th>\n",
       "      <th>InvoiceDate_return</th>\n",
       "      <th>Price_return</th>\n",
       "      <th>Customer ID_return</th>\n",
       "      <th>Country_return</th>\n",
       "      <th>Description_sale</th>\n",
       "      <th>Quantity_sale</th>\n",
       "      <th>InvoiceDate_sale</th>\n",
       "      <th>Price_sale</th>\n",
       "      <th>Customer ID_sale</th>\n",
       "      <th>Country_sale</th>\n",
       "    </tr>\n",
       "  </thead>\n",
       "  <tbody>\n",
       "    <tr>\n",
       "      <th>0</th>\n",
       "      <td>492079</td>\n",
       "      <td>85042</td>\n",
       "      <td>ANTIQUE LILY FAIRY LIGHTS</td>\n",
       "      <td>8</td>\n",
       "      <td>12/15/2009 13:49</td>\n",
       "      <td>0.0</td>\n",
       "      <td>15070</td>\n",
       "      <td>United Kingdom</td>\n",
       "      <td>ANTIQUE LILY FAIRY LIGHTS</td>\n",
       "      <td>8</td>\n",
       "      <td>12/15/2009 13:49</td>\n",
       "      <td>4.95</td>\n",
       "      <td>15070</td>\n",
       "      <td>United Kingdom</td>\n",
       "    </tr>\n",
       "  </tbody>\n",
       "</table>\n",
       "</div>"
      ],
      "text/plain": [
       "  Invoice StockCode         Description_return  Quantity_return  \\\n",
       "0  492079     85042  ANTIQUE LILY FAIRY LIGHTS                8   \n",
       "\n",
       "  InvoiceDate_return  Price_return Customer ID_return  Country_return  \\\n",
       "0   12/15/2009 13:49           0.0              15070  United Kingdom   \n",
       "\n",
       "            Description_sale  Quantity_sale  InvoiceDate_sale  Price_sale  \\\n",
       "0  ANTIQUE LILY FAIRY LIGHTS              8  12/15/2009 13:49        4.95   \n",
       "\n",
       "  Customer ID_sale    Country_sale  \n",
       "0            15070  United Kingdom  "
      ]
     },
     "execution_count": 34,
     "metadata": {},
     "output_type": "execute_result"
    }
   ],
   "source": [
    "# possible returns\n",
    "possible_product_returns.head(1)"
   ]
  },
  {
   "cell_type": "code",
   "execution_count": 35,
   "metadata": {},
   "outputs": [
    {
     "name": "stdout",
     "output_type": "stream",
     "text": [
      "<class 'pandas.core.frame.DataFrame'>\n",
      "RangeIndex: 21 entries, 0 to 20\n",
      "Data columns (total 14 columns):\n",
      " #   Column              Non-Null Count  Dtype  \n",
      "---  ------              --------------  -----  \n",
      " 0   Invoice             21 non-null     object \n",
      " 1   StockCode           21 non-null     object \n",
      " 2   Description_return  21 non-null     object \n",
      " 3   Quantity_return     21 non-null     int64  \n",
      " 4   InvoiceDate_return  21 non-null     object \n",
      " 5   Price_return        21 non-null     float64\n",
      " 6   Customer ID_return  4 non-null      object \n",
      " 7   Country_return      21 non-null     object \n",
      " 8   Description_sale    21 non-null     object \n",
      " 9   Quantity_sale       21 non-null     int64  \n",
      " 10  InvoiceDate_sale    21 non-null     object \n",
      " 11  Price_sale          21 non-null     float64\n",
      " 12  Customer ID_sale    4 non-null      object \n",
      " 13  Country_sale        21 non-null     object \n",
      "dtypes: float64(2), int64(2), object(10)\n",
      "memory usage: 2.4+ KB\n"
     ]
    }
   ],
   "source": [
    "possible_product_returns.info()"
   ]
  },
  {
   "cell_type": "code",
   "execution_count": 36,
   "metadata": {},
   "outputs": [],
   "source": [
    "# flag possible returns\n",
    "retails_df_stage_I['possible_product_return'] = retails_df_stage_I.apply(\n",
    "    lambda x: 1 if x['Invoice'] in possible_product_returns['Invoice'].values else 0,\n",
    "    axis=1\n",
    ")\n",
    "\n",
    "possible_product_returns = None\n",
    "del possible_product_returns"
   ]
  },
  {
   "cell_type": "code",
   "execution_count": 37,
   "metadata": {},
   "outputs": [
    {
     "data": {
      "text/html": [
       "<div>\n",
       "<style scoped>\n",
       "    .dataframe tbody tr th:only-of-type {\n",
       "        vertical-align: middle;\n",
       "    }\n",
       "\n",
       "    .dataframe tbody tr th {\n",
       "        vertical-align: top;\n",
       "    }\n",
       "\n",
       "    .dataframe thead th {\n",
       "        text-align: right;\n",
       "    }\n",
       "</style>\n",
       "<table border=\"1\" class=\"dataframe\">\n",
       "  <thead>\n",
       "    <tr style=\"text-align: right;\">\n",
       "      <th></th>\n",
       "      <th>Invoice</th>\n",
       "      <th>StockCode</th>\n",
       "      <th>Description</th>\n",
       "      <th>Quantity</th>\n",
       "      <th>InvoiceDate</th>\n",
       "      <th>Price</th>\n",
       "      <th>Customer ID</th>\n",
       "      <th>Country</th>\n",
       "    </tr>\n",
       "  </thead>\n",
       "  <tbody>\n",
       "    <tr>\n",
       "      <th>179403</th>\n",
       "      <td>A506401</td>\n",
       "      <td>B</td>\n",
       "      <td>Adjust bad debt</td>\n",
       "      <td>1</td>\n",
       "      <td>4/29/2010 13:36</td>\n",
       "      <td>-53594.36</td>\n",
       "      <td>NaN</td>\n",
       "      <td>United Kingdom</td>\n",
       "    </tr>\n",
       "    <tr>\n",
       "      <th>276274</th>\n",
       "      <td>A516228</td>\n",
       "      <td>B</td>\n",
       "      <td>Adjust bad debt</td>\n",
       "      <td>1</td>\n",
       "      <td>7/19/2010 11:24</td>\n",
       "      <td>-44031.79</td>\n",
       "      <td>NaN</td>\n",
       "      <td>United Kingdom</td>\n",
       "    </tr>\n",
       "    <tr>\n",
       "      <th>403472</th>\n",
       "      <td>A528059</td>\n",
       "      <td>B</td>\n",
       "      <td>Adjust bad debt</td>\n",
       "      <td>1</td>\n",
       "      <td>10/20/2010 12:04</td>\n",
       "      <td>-38925.87</td>\n",
       "      <td>NaN</td>\n",
       "      <td>United Kingdom</td>\n",
       "    </tr>\n",
       "    <tr>\n",
       "      <th>176269</th>\n",
       "      <td>506141</td>\n",
       "      <td>21826</td>\n",
       "      <td>EIGHT PIECE DINOSAUR SET</td>\n",
       "      <td>1</td>\n",
       "      <td>4/27/2010 16:16</td>\n",
       "      <td>-100.00</td>\n",
       "      <td>TEST</td>\n",
       "      <td>United Kingdom</td>\n",
       "    </tr>\n",
       "    <tr>\n",
       "      <th>525234</th>\n",
       "      <td>538161</td>\n",
       "      <td>46000S</td>\n",
       "      <td>Dotcom sales</td>\n",
       "      <td>-100</td>\n",
       "      <td>12/09/2010 17:25</td>\n",
       "      <td>0.00</td>\n",
       "      <td>NaN</td>\n",
       "      <td>United Kingdom</td>\n",
       "    </tr>\n",
       "  </tbody>\n",
       "</table>\n",
       "</div>"
      ],
      "text/plain": [
       "        Invoice StockCode               Description  Quantity  \\\n",
       "179403  A506401         B           Adjust bad debt         1   \n",
       "276274  A516228         B           Adjust bad debt         1   \n",
       "403472  A528059         B           Adjust bad debt         1   \n",
       "176269   506141     21826  EIGHT PIECE DINOSAUR SET         1   \n",
       "525234   538161    46000S              Dotcom sales      -100   \n",
       "\n",
       "             InvoiceDate     Price Customer ID         Country  \n",
       "179403   4/29/2010 13:36 -53594.36         NaN  United Kingdom  \n",
       "276274   7/19/2010 11:24 -44031.79         NaN  United Kingdom  \n",
       "403472  10/20/2010 12:04 -38925.87         NaN  United Kingdom  \n",
       "176269   4/27/2010 16:16   -100.00        TEST  United Kingdom  \n",
       "525234  12/09/2010 17:25      0.00         NaN  United Kingdom  "
      ]
     },
     "execution_count": 37,
     "metadata": {},
     "output_type": "execute_result"
    }
   ],
   "source": [
    "non_and_zero_prices_df.sort_values(by='Price', ascending=True).head()"
   ]
  },
  {
   "cell_type": "markdown",
   "metadata": {},
   "source": [
    "\\+  Search for test in all columns  \n",
    "\\+  Search for Dotcom in all columns   \n",
    "\\+  Search for general 'adjust' in all columns    "
   ]
  },
  {
   "cell_type": "code",
   "execution_count": 38,
   "metadata": {},
   "outputs": [
    {
     "data": {
      "text/html": [
       "<div>\n",
       "<style scoped>\n",
       "    .dataframe tbody tr th:only-of-type {\n",
       "        vertical-align: middle;\n",
       "    }\n",
       "\n",
       "    .dataframe tbody tr th {\n",
       "        vertical-align: top;\n",
       "    }\n",
       "\n",
       "    .dataframe thead th {\n",
       "        text-align: right;\n",
       "    }\n",
       "</style>\n",
       "<table border=\"1\" class=\"dataframe\">\n",
       "  <thead>\n",
       "    <tr style=\"text-align: right;\">\n",
       "      <th></th>\n",
       "      <th>Invoice</th>\n",
       "      <th>StockCode</th>\n",
       "      <th>Description</th>\n",
       "      <th>Quantity</th>\n",
       "      <th>InvoiceDate</th>\n",
       "      <th>Price</th>\n",
       "      <th>Customer ID</th>\n",
       "      <th>Country</th>\n",
       "      <th>possible_product_return</th>\n",
       "    </tr>\n",
       "  </thead>\n",
       "  <tbody>\n",
       "    <tr>\n",
       "      <th>179403</th>\n",
       "      <td>A506401</td>\n",
       "      <td>B</td>\n",
       "      <td>Adjust bad debt</td>\n",
       "      <td>1</td>\n",
       "      <td>4/29/2010 13:36</td>\n",
       "      <td>-53594.36</td>\n",
       "      <td>NaN</td>\n",
       "      <td>United Kingdom</td>\n",
       "      <td>0</td>\n",
       "    </tr>\n",
       "    <tr>\n",
       "      <th>253702</th>\n",
       "      <td>513826</td>\n",
       "      <td>47566B</td>\n",
       "      <td>stock credited from royal yacht inc</td>\n",
       "      <td>-144</td>\n",
       "      <td>6/29/2010 10:50</td>\n",
       "      <td>0.00</td>\n",
       "      <td>NaN</td>\n",
       "      <td>United Kingdom</td>\n",
       "      <td>0</td>\n",
       "    </tr>\n",
       "    <tr>\n",
       "      <th>276274</th>\n",
       "      <td>A516228</td>\n",
       "      <td>B</td>\n",
       "      <td>Adjust bad debt</td>\n",
       "      <td>1</td>\n",
       "      <td>7/19/2010 11:24</td>\n",
       "      <td>-44031.79</td>\n",
       "      <td>NaN</td>\n",
       "      <td>United Kingdom</td>\n",
       "      <td>0</td>\n",
       "    </tr>\n",
       "    <tr>\n",
       "      <th>363492</th>\n",
       "      <td>524570</td>\n",
       "      <td>84925D</td>\n",
       "      <td>incorrect credit</td>\n",
       "      <td>-372</td>\n",
       "      <td>9/29/2010 15:33</td>\n",
       "      <td>0.00</td>\n",
       "      <td>NaN</td>\n",
       "      <td>United Kingdom</td>\n",
       "      <td>0</td>\n",
       "    </tr>\n",
       "    <tr>\n",
       "      <th>363495</th>\n",
       "      <td>524572</td>\n",
       "      <td>84924D</td>\n",
       "      <td>eurobargain invc/credit</td>\n",
       "      <td>372</td>\n",
       "      <td>9/29/2010 15:34</td>\n",
       "      <td>0.00</td>\n",
       "      <td>NaN</td>\n",
       "      <td>United Kingdom</td>\n",
       "      <td>0</td>\n",
       "    </tr>\n",
       "    <tr>\n",
       "      <th>403472</th>\n",
       "      <td>A528059</td>\n",
       "      <td>B</td>\n",
       "      <td>Adjust bad debt</td>\n",
       "      <td>1</td>\n",
       "      <td>10/20/2010 12:04</td>\n",
       "      <td>-38925.87</td>\n",
       "      <td>NaN</td>\n",
       "      <td>United Kingdom</td>\n",
       "      <td>0</td>\n",
       "    </tr>\n",
       "  </tbody>\n",
       "</table>\n",
       "</div>"
      ],
      "text/plain": [
       "        Invoice StockCode                          Description  Quantity  \\\n",
       "179403  A506401         B                      Adjust bad debt         1   \n",
       "253702   513826    47566B  stock credited from royal yacht inc      -144   \n",
       "276274  A516228         B                      Adjust bad debt         1   \n",
       "363492   524570    84925D                     incorrect credit      -372   \n",
       "363495   524572    84924D              eurobargain invc/credit       372   \n",
       "403472  A528059         B                      Adjust bad debt         1   \n",
       "\n",
       "             InvoiceDate     Price Customer ID         Country  \\\n",
       "179403   4/29/2010 13:36 -53594.36         NaN  United Kingdom   \n",
       "253702   6/29/2010 10:50      0.00         NaN  United Kingdom   \n",
       "276274   7/19/2010 11:24 -44031.79         NaN  United Kingdom   \n",
       "363492   9/29/2010 15:33      0.00         NaN  United Kingdom   \n",
       "363495   9/29/2010 15:34      0.00         NaN  United Kingdom   \n",
       "403472  10/20/2010 12:04 -38925.87         NaN  United Kingdom   \n",
       "\n",
       "        possible_product_return  \n",
       "179403                        0  \n",
       "253702                        0  \n",
       "276274                        0  \n",
       "363492                        0  \n",
       "363495                        0  \n",
       "403472                        0  "
      ]
     },
     "execution_count": 38,
     "metadata": {},
     "output_type": "execute_result"
    }
   ],
   "source": [
    "# understanding adjust pattern related to price debs/fees/credit, etc\n",
    "pattern = r'adjust | fee |credit|debit'\n",
    "retails_df_stage_I[retails_df_stage_I['Description'].str.contains(pattern, na=False, regex=True, case=False)]"
   ]
  },
  {
   "cell_type": "markdown",
   "metadata": {},
   "source": [
    "\\+  Search for test in all columns  \n",
    "\\+  Search for Dotcom in all columns   \n",
    "\\+  Search for general 'adjust' in all columns    \n",
    "\\+  Search for general 'credit' in all columns    \n",
    "\\+  Search for general 'debit' in all columns    \n",
    "\\+  Search for general 'fee' in all columns    \n",
    "\\+  Search for general 'eurobargain' in all columns    "
   ]
  },
  {
   "cell_type": "code",
   "execution_count": 39,
   "metadata": {},
   "outputs": [],
   "source": [
    "# flag financial details on df\n",
    "pattern = r'adjust | fee |credit|debit'\n",
    "\n",
    "retails_df_stage_I['financial_details'] = retails_df_stage_I.apply(\n",
    "    lambda x: 1 if re.search(pattern, str(x['Description']), re.IGNORECASE) else 0,\n",
    "    axis=1\n",
    ")"
   ]
  },
  {
   "cell_type": "code",
   "execution_count": 40,
   "metadata": {},
   "outputs": [
    {
     "data": {
      "text/plain": [
       "Invoice                    28816\n",
       "StockCode                   4632\n",
       "Description                 4681\n",
       "Quantity                     825\n",
       "InvoiceDate                25296\n",
       "Price                       1607\n",
       "Customer ID                 4384\n",
       "Country                       40\n",
       "possible_product_return        2\n",
       "financial_details              2\n",
       "dtype: int64"
      ]
     },
     "execution_count": 40,
     "metadata": {},
     "output_type": "execute_result"
    }
   ],
   "source": [
    "retails_df_stage_I.nunique()"
   ]
  },
  {
   "cell_type": "markdown",
   "metadata": {},
   "source": [
    "\\+  Search for 'test' in all columns  \n",
    "\\+  Search for 'Dotcom' in all columns   \n",
    "\\+  Search for general 'adjust' in all columns    \n",
    "\\+  Search for general 'credit' in all columns    \n",
    "\\+  Search for general 'debit' in all columns    \n",
    "\\+  Search for general 'fee' in all columns    \n",
    "\\+  Search for general 'eurobargain' in all columns    \n",
    "\\+  Search for general non-alphanumeric in description    "
   ]
  },
  {
   "cell_type": "code",
   "execution_count": null,
   "metadata": {},
   "outputs": [],
   "source": [
    "# tag possible financial details\n",
    "retails_df_stage_I['possible_financial_details'] = retails_df_stage_I.apply(\n",
    "    lambda x: 1 if x['Invoice'] in non_and_zero_prices_df['Invoice'].values else 0,\n",
    "    axis=1\n",
    ")\n",
    "\n",
    "\n",
    "non_and_zero_prices_df = None\n",
    "del non_and_zero_prices_df"
   ]
  },
  {
   "cell_type": "markdown",
   "metadata": {},
   "source": [
    "> Understandig Quantity"
   ]
  },
  {
   "cell_type": "code",
   "execution_count": null,
   "metadata": {},
   "outputs": [],
   "source": [
    "retails_df_stage_I['Quantity'].value_counts()"
   ]
  },
  {
   "cell_type": "markdown",
   "metadata": {},
   "source": [
    "> Understandig stock code"
   ]
  },
  {
   "cell_type": "code",
   "execution_count": null,
   "metadata": {},
   "outputs": [],
   "source": [
    "pattern = r'[a-z]'\n",
    "filtered_stock_code = retails_df_stage_I[retails_df_stage_I['StockCode'].str.contains(pattern, na=False, regex=True, case=False)]"
   ]
  },
  {
   "cell_type": "code",
   "execution_count": null,
   "metadata": {},
   "outputs": [],
   "source": [
    "# understanding patterns on non-numeric stock codes\n",
    "filtered_stock_code = filtered_stock_code.copy()\n",
    "filtered_stock_code['code_len'] = filtered_stock_code['StockCode'].apply(len)\n",
    "\n",
    "filtered_stock_code['code_len'].value_counts()"
   ]
  },
  {
   "cell_type": "code",
   "execution_count": null,
   "metadata": {},
   "outputs": [],
   "source": [
    "filtered_stock_code = filtered_stock_code.sort_values(by='code_len', ascending=False)"
   ]
  },
  {
   "cell_type": "code",
   "execution_count": null,
   "metadata": {},
   "outputs": [],
   "source": [
    "filtered_stock_code.query(\"code_len == 1\").head()"
   ]
  },
  {
   "cell_type": "markdown",
   "metadata": {},
   "source": [
    "- AMAZON FEE\n",
    "- "
   ]
  },
  {
   "cell_type": "code",
   "execution_count": null,
   "metadata": {},
   "outputs": [],
   "source": [
    "filtered_stock_code.query(\"code_len == 7\")['StockCode'].value_counts()"
   ]
  },
  {
   "cell_type": "code",
   "execution_count": null,
   "metadata": {},
   "outputs": [],
   "source": [
    "# understanding overall test data\n",
    "\n",
    "pattern = 'test'\n",
    "\n",
    "retails_df_stage_I[\n",
    "    retails_df_stage_I.astype(str).apply(lambda col: col.str.contains(pattern, case=False, regex=True)).any(axis=1)\n",
    "]"
   ]
  },
  {
   "cell_type": "markdown",
   "metadata": {},
   "source": [
    "ADJUST2  \n",
    "test mapped"
   ]
  },
  {
   "cell_type": "code",
   "execution_count": null,
   "metadata": {},
   "outputs": [],
   "source": [
    "# fact: adjustment_sales\n",
    "pattern = 'adjust'\n",
    "adjustment_sales = retails_df_stage_I[\n",
    "    retails_df_stage_I.astype(str).apply(lambda col: col.str.contains(pattern, case=False, regex=True)).any(axis=1)\n",
    "]"
   ]
  },
  {
   "cell_type": "code",
   "execution_count": null,
   "metadata": {},
   "outputs": [],
   "source": [
    "outliers.describe()"
   ]
  },
  {
   "cell_type": "code",
   "execution_count": null,
   "metadata": {},
   "outputs": [],
   "source": [
    "non_outliers"
   ]
  },
  {
   "cell_type": "markdown",
   "metadata": {},
   "source": [
    "> Search for debt/credit in all columns"
   ]
  },
  {
   "cell_type": "code",
   "execution_count": null,
   "metadata": {},
   "outputs": [],
   "source": [
    "pattern = 'debt|credit'\n",
    "\n",
    "retails_df_stage_I[\n",
    "    retails_df_stage_I.astype(str)\n",
    "    .apply(lambda col: col.str.contains(pattern, case=False, regex=True))\n",
    "    .any(axis=1)\n",
    "]"
   ]
  },
  {
   "cell_type": "code",
   "execution_count": null,
   "metadata": {},
   "outputs": [],
   "source": [
    "pattern = 'test'\n",
    "\n",
    "retails_df_stage_I[\n",
    "    retails_df_stage_I.astype(str)\n",
    "    .apply(lambda col: col.str.contains(pattern, case=False, regex=True))\n",
    "    .any(axis=1)\n",
    "]"
   ]
  },
  {
   "cell_type": "code",
   "execution_count": null,
   "metadata": {},
   "outputs": [],
   "source": []
  },
  {
   "cell_type": "code",
   "execution_count": null,
   "metadata": {},
   "outputs": [],
   "source": [
    "retails_df_stage_I[retails_df_stage_I['customer_id'].isnull()].sort_values(by='description')"
   ]
  },
  {
   "cell_type": "markdown",
   "metadata": {},
   "source": [
    "---\n",
    "\n",
    "lineage save: stage 1"
   ]
  },
  {
   "cell_type": "code",
   "execution_count": null,
   "metadata": {},
   "outputs": [],
   "source": [
    "retails_lineage_I_path = os.path.join(\n",
    "    cwd_path,\n",
    "    'retails_lineage_I.parquet'\n",
    ")"
   ]
  },
  {
   "cell_type": "code",
   "execution_count": null,
   "metadata": {},
   "outputs": [],
   "source": [
    "retails_df_stage_I.to_parquet(\n",
    "    retails_lineage_I_path,\n",
    "    index=False,\n",
    "    compression='snappy'\n",
    ")"
   ]
  },
  {
   "cell_type": "code",
   "execution_count": null,
   "metadata": {},
   "outputs": [],
   "source": [
    "retails_df_stage = None\n",
    "del retails_df_stage"
   ]
  },
  {
   "cell_type": "markdown",
   "metadata": {},
   "source": [
    "##### N - Overal data types to consistent formats"
   ]
  },
  {
   "cell_type": "code",
   "execution_count": null,
   "metadata": {},
   "outputs": [],
   "source": [
    "retails_df_stage_II = pd.read_parquet(retails_lineage_I_path)\n",
    "# base_retails_df = None\n",
    "# del base_retails_df"
   ]
  },
  {
   "cell_type": "code",
   "execution_count": null,
   "metadata": {},
   "outputs": [],
   "source": [
    "# column name normalization\n",
    "retails_df_stage_II.columns = ['invoice', 'stock_code', 'description', 'quantity', 'invoice_date', 'price', 'customer_id', 'country']\n",
    "\n",
    "# rename column\n",
    "retails_df_stage_II.rename(columns={'country': 'location'}, inplace=True)"
   ]
  },
  {
   "cell_type": "code",
   "execution_count": null,
   "metadata": {},
   "outputs": [],
   "source": [
    "# base dtypes\n",
    "\n",
    "# formating dtypes on data\n",
    "retails_df_stage_II['invoice'] = sanitize_column_data(bg_logger, retails_df_stage_II, 'invoice')\n",
    "retails_df_stage_II['stock_code'] = sanitize_column_data(bg_logger, retails_df_stage_II, 'stock_code')\n",
    "retails_df_stage_II['description'] = sanitize_column_data(bg_logger, retails_df_stage_II, 'description')\n",
    "retails_df_stage_II['customer_id'] = sanitize_column_data(bg_logger, retails_df_stage_II, 'customer_id')\n",
    "retails_df_stage_II['country'] = sanitize_column_data(bg_logger, retails_df_stage_II, 'country')"
   ]
  },
  {
   "cell_type": "code",
   "execution_count": null,
   "metadata": {},
   "outputs": [],
   "source": [
    "# checking stage corrections\n",
    "retails_df_stage_I.info()"
   ]
  },
  {
   "cell_type": "code",
   "execution_count": null,
   "metadata": {},
   "outputs": [],
   "source": [
    "# specialized DTYPES\n",
    "retails_df_stage_II['quantity'] = pd.to_numeric(retails_df_stage_I['quantity'], errors='coerce')\n",
    "retails_df_stage_II['price'] = pd.to_numeric(retails_df_stage_I['price'], errors='coerce')"
   ]
  },
  {
   "cell_type": "code",
   "execution_count": null,
   "metadata": {},
   "outputs": [],
   "source": [
    "# checking stage corrections\n",
    "retails_df_stage_II.info()"
   ]
  },
  {
   "cell_type": "code",
   "execution_count": null,
   "metadata": {},
   "outputs": [],
   "source": [
    "# treating different date formats and converting to ISO 8601\n",
    "retails_df_stage_II['invoice_date'] = pd.to_datetime(retails_df_stage_I['invoice_date'], errors='coerce')\n",
    "retails_df_stage_II['invoice_date'] = retails_df_stage_I['invoice_date'].dt.strftime('%Y-%m-%dT%H:%M:%S')"
   ]
  },
  {
   "cell_type": "code",
   "execution_count": null,
   "metadata": {},
   "outputs": [],
   "source": [
    "retails_df_stage_II.info()"
   ]
  },
  {
   "cell_type": "code",
   "execution_count": null,
   "metadata": {},
   "outputs": [],
   "source": [
    "memory_usage = retails_df_stage_I.reset_index(drop=True).memory_usage(deep=True) / (1024 * 1024)\n",
    "bg_logger.info('Old memory usage: %.2f MB x New memory usage: %.2f MB', format_base_memory_usage.sum(), memory_usage.sum())"
   ]
  },
  {
   "cell_type": "markdown",
   "metadata": {},
   "source": [
    "---\n",
    "Stage I - Dtypes base format"
   ]
  },
  {
   "cell_type": "code",
   "execution_count": null,
   "metadata": {},
   "outputs": [],
   "source": [
    "# removing object memory references\n",
    "memory_usage = None\n",
    "base_memory_usage = None\n",
    "format_base_memory_usage = None\n",
    "\n",
    "# removing from escope\n",
    "del memory_usage, base_memory_usage, format_base_memory_usage"
   ]
  },
  {
   "cell_type": "markdown",
   "metadata": {},
   "source": [
    "> Overall data consistency"
   ]
  },
  {
   "cell_type": "code",
   "execution_count": null,
   "metadata": {},
   "outputs": [],
   "source": [
    "retails_df_stage_II.describe()"
   ]
  },
  {
   "cell_type": "code",
   "execution_count": null,
   "metadata": {},
   "outputs": [],
   "source": [
    "retails_df_stage_II.info()"
   ]
  },
  {
   "cell_type": "code",
   "execution_count": null,
   "metadata": {},
   "outputs": [],
   "source": [
    "retails_df_stage_II.describe()"
   ]
  },
  {
   "cell_type": "markdown",
   "metadata": {},
   "source": [
    "---\n",
    "\n",
    "lineage save: stage 2"
   ]
  },
  {
   "cell_type": "code",
   "execution_count": null,
   "metadata": {},
   "outputs": [],
   "source": [
    "retails_df_stage_II_path = os.path.join(\n",
    "    cwd_path,\n",
    "    'retails_lineage_I.parquet'\n",
    ")"
   ]
  },
  {
   "cell_type": "code",
   "execution_count": null,
   "metadata": {},
   "outputs": [],
   "source": [
    "retails_df_stage_II.to_parquet(\n",
    "    retails_df_stage_II_path,\n",
    "    index=False,\n",
    "    compression='snappy'\n",
    ")"
   ]
  },
  {
   "cell_type": "code",
   "execution_count": null,
   "metadata": {},
   "outputs": [],
   "source": [
    "retails_df_stage_II_path = None\n",
    "del retails_df_stage_II"
   ]
  },
  {
   "cell_type": "code",
   "execution_count": null,
   "metadata": {},
   "outputs": [],
   "source": []
  },
  {
   "cell_type": "code",
   "execution_count": null,
   "metadata": {},
   "outputs": [],
   "source": []
  },
  {
   "cell_type": "markdown",
   "metadata": {},
   "source": [
    "0   Invoice      525461 non-null  object   \n",
    "1   StockCode    525461 non-null  object   \n",
    "2   Description  522533 non-null  object   \n",
    "3   Quantity     525461 non-null  int64    \n",
    "4   InvoiceDate  525461 non-null  object   \n",
    "5   Price        525439 non-null  float64  \n",
    "6   Customer ID  417541 non-null  object   \n",
    "7   Country      525430 non-null  object   "
   ]
  },
  {
   "cell_type": "code",
   "execution_count": null,
   "metadata": {},
   "outputs": [],
   "source": []
  },
  {
   "cell_type": "code",
   "execution_count": null,
   "metadata": {},
   "outputs": [],
   "source": []
  },
  {
   "cell_type": "markdown",
   "metadata": {},
   "source": [
    "# Warehouse definitions"
   ]
  },
  {
   "cell_type": "code",
   "execution_count": null,
   "metadata": {},
   "outputs": [],
   "source": []
  },
  {
   "cell_type": "code",
   "execution_count": null,
   "metadata": {},
   "outputs": [],
   "source": []
  },
  {
   "cell_type": "code",
   "execution_count": null,
   "metadata": {},
   "outputs": [],
   "source": []
  },
  {
   "cell_type": "code",
   "execution_count": null,
   "metadata": {},
   "outputs": [],
   "source": []
  }
 ],
 "metadata": {
  "kernelspec": {
   "display_name": ".venv_ipynb",
   "language": "python",
   "name": "python3"
  },
  "language_info": {
   "codemirror_mode": {
    "name": "ipython",
    "version": 3
   },
   "file_extension": ".py",
   "mimetype": "text/x-python",
   "name": "python",
   "nbconvert_exporter": "python",
   "pygments_lexer": "ipython3",
   "version": "3.12.1"
  }
 },
 "nbformat": 4,
 "nbformat_minor": 2
}
