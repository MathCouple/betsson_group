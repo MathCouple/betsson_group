{
 "cells": [
  {
   "cell_type": "markdown",
   "metadata": {},
   "source": [
    "# requirements"
   ]
  },
  {
   "cell_type": "code",
   "execution_count": 1,
   "metadata": {},
   "outputs": [],
   "source": [
    "# !pip install sqlalchemy\n",
    "# !pip install py7zr\n",
    "# !pip install pandas\n",
    "# !pip install pyarrow\n",
    "# !pip install py7zr sqlalchemy pandas pyarrow"
   ]
  },
  {
   "cell_type": "markdown",
   "metadata": {},
   "source": [
    "# Imports"
   ]
  },
  {
   "cell_type": "code",
   "execution_count": null,
   "metadata": {},
   "outputs": [],
   "source": [
    "import os\n",
    "import logging\n",
    "import uuid\n",
    "from datetime import (\n",
    "    datetime,\n",
    "    timezone\n",
    ")\n",
    "import re\n",
    "import unicodedata"
   ]
  },
  {
   "cell_type": "code",
   "execution_count": null,
   "metadata": {},
   "outputs": [],
   "source": [
    "# import sqlalchemy as sa\n",
    "import pandas as pd\n",
    "import py7zr"
   ]
  },
  {
   "cell_type": "markdown",
   "metadata": {},
   "source": [
    "# Utils & functions"
   ]
  },
  {
   "cell_type": "markdown",
   "metadata": {},
   "source": [
    "### logger"
   ]
  },
  {
   "cell_type": "code",
   "execution_count": null,
   "metadata": {},
   "outputs": [],
   "source": [
    "# Logger\n",
    "class __UUIDFilter(logging.Filter):\n",
    "    \"\"\"\n",
    "    Internal utils\n",
    "    Filter that adds a UUID4 to the log record.\n",
    "    \"\"\"\n",
    "    def filter(self, record):\n",
    "        record.uuid4 = uuid.uuid4()\n",
    "        return True\n",
    "\n",
    "def create_logger(log_file=None):\n",
    "    \"\"\"\n",
    "    Creates a logger that writes messages to a file and writes them to the console.\n",
    "\n",
    "    :param log_file: Name of the log file.\n",
    "    :return: Configured logger.\n",
    "    \"\"\"\n",
    "    # Logger creation\n",
    "    logger = logging.getLogger(__name__)\n",
    "    logger.setLevel(logging.DEBUG)\n",
    "\n",
    "    # Custom log format with UTC timestamp and UUID4\n",
    "    log_format = logging.Formatter(\n",
    "        '%(asctime)s - %(levelname)s - [%(funcName)s] - [%(uuid4)s] - %(message)s',\n",
    "        datefmt=\"%Y-%m-%dT%H:%M:%S%z\"\n",
    "    )\n",
    "\n",
    "    # Force the UTC time to appear in all handlers\n",
    "    logging.Formatter.converter = lambda *args: datetime.now(timezone.utc).timetuple()\n",
    "\n",
    "    uuid_filter = __UUIDFilter()\n",
    "    logger.addFilter(uuid_filter)\n",
    "\n",
    "    # File writer handler\n",
    "    if log_file:\n",
    "        file_handler = logging.FileHandler(log_file)\n",
    "        file_handler.setLevel(logging.DEBUG)\n",
    "        file_handler.setFormatter(log_format)\n",
    "        logger.addHandler(file_handler)\n",
    "\n",
    "    # Console handler\n",
    "    console_handler = logging.StreamHandler()\n",
    "    console_handler.setLevel(logging.DEBUG)\n",
    "    console_handler.setFormatter(log_format)\n",
    "    logger.addHandler(console_handler)\n",
    "\n",
    "    return logger"
   ]
  },
  {
   "cell_type": "markdown",
   "metadata": {},
   "source": [
    "### extract_7z"
   ]
  },
  {
   "cell_type": "code",
   "execution_count": null,
   "metadata": {},
   "outputs": [],
   "source": [
    "def extract_7z(bg_logger, file_path):\n",
    "    \"\"\"\n",
    "    Extracts a 7z file to the same directory as the compressed file.\n",
    "\n",
    "    :param bg_logger: initialized logger\n",
    "    :param file_path: Path to the 7z file to extract.\n",
    "    \"\"\"\n",
    "    # Record start time\n",
    "    start_time = datetime.now()\n",
    "\n",
    "    # Get extraction directory\n",
    "    extract_dir = os.path.dirname(file_path)\n",
    "\n",
    "    # Extract the 7z file\n",
    "    with py7zr.SevenZipFile(file_path, mode='r') as z:\n",
    "        z.extractall(path=extract_dir)\n",
    "\n",
    "    # Calculate extraction duration\n",
    "    duration = datetime.now() - start_time\n",
    "\n",
    "    # Log success message with extraction details\n",
    "    bg_logger.info(\n",
    "        \"Data successfully extracted to directory %s. Duration: %s\",\n",
    "        extract_dir, duration\n",
    "    )\n",
    "    extract_dir = None\n",
    "    del extract_dir\n"
   ]
  },
  {
   "cell_type": "markdown",
   "metadata": {},
   "source": [
    "### sanitize_column_data"
   ]
  },
  {
   "cell_type": "code",
   "execution_count": null,
   "metadata": {},
   "outputs": [],
   "source": [
    "def sanitize_column_data(bg_logger, df, column, c_dtype=str, fillna_v='0z0'):\n",
    "    \"\"\"\n",
    "    Corrects and specializes the data column format, replacing invalid values with NaN.\n",
    "    Args:\n",
    "        bg_logger: Logger instance for logging.\n",
    "        df: DataFrame containing the data.\n",
    "        column: Column to be transformed.\n",
    "        c_dtype: Target data type (default is str).\n",
    "        fillna_v: Value to fill NaN values (default is 'Unknown').\n",
    "    Returns:\n",
    "        The transformed column.\n",
    "    \"\"\"\n",
    "    start_time = datetime.now()\n",
    "    df[column] = df[column].fillna(fillna_v).str.strip()\n",
    "\n",
    "    bg_logger.info(\n",
    "        \"Specializing column data '%s' to '%s'. It took %s\",\n",
    "        column, str(c_dtype), str(datetime.now() - start_time)\n",
    "    )\n",
    "    return df[column]"
   ]
  },
  {
   "cell_type": "markdown",
   "metadata": {},
   "source": [
    "### sanitize_text"
   ]
  },
  {
   "cell_type": "code",
   "execution_count": null,
   "metadata": {},
   "outputs": [],
   "source": [
    "def sanitize_text(text):\n",
    "    \"\"\"\n",
    "    Normalizes text by:\n",
    "    - Removing special characters\n",
    "    - Replacing accented characters with their unaccented counterparts\n",
    "        Note: This is a symbol-based scenario, meaning it only considers simple transformations.\n",
    "        For words requiring special handling (e.g., unique characters in specific languages),\n",
    "        we would need to either create a custom mapping or use a specialized\n",
    "        library for broader support.\n",
    "    - Removing extra spaces\n",
    "\n",
    "    Args:\n",
    "        text (str): The input string to normalize.\n",
    "\n",
    "    Returns:\n",
    "        str: The normalized text.\n",
    "    \"\"\"\n",
    "    if not isinstance(text, str):\n",
    "        return text  # Return as-is if not a string\n",
    "\n",
    "    # 1. Remove accents\n",
    "    text = ''.join(\n",
    "        c for c in unicodedata.normalize('NFD', text) \n",
    "        if unicodedata.category(c) != 'Mn'\n",
    "    )\n",
    "\n",
    "    # 2. Remove special characters*\n",
    "    text = re.sub(r'[^a-zA-Z0-9\\s]', '', text)\n",
    "\n",
    "    # 3. Remove extra spaces\n",
    "    text = re.sub(r'\\s+', ' ', text).strip()\n",
    "\n",
    "    return text"
   ]
  },
  {
   "cell_type": "markdown",
   "metadata": {},
   "source": [
    "### data maps"
   ]
  },
  {
   "cell_type": "code",
   "execution_count": null,
   "metadata": {},
   "outputs": [],
   "source": [
    "NORMATIZE_LOCATION_MAP = {\n",
    "    \"USA\": \"United States\",\n",
    "    \"US\": \"United States\",\n",
    "    \"UK\": \"United Kingdom\",\n",
    "    \"EIRE\": \"Ireland\",\n",
    "    \"RSA\": \"South Africa\",\n",
    "    \"Unspecified\": \"co0z0\",\n",
    "}"
   ]
  },
  {
   "cell_type": "markdown",
   "metadata": {},
   "source": [
    "# Pipeline"
   ]
  },
  {
   "cell_type": "markdown",
   "metadata": {},
   "source": [
    "### Logger init"
   ]
  },
  {
   "cell_type": "code",
   "execution_count": null,
   "metadata": {},
   "outputs": [],
   "source": [
    "# initialize logger\n",
    "bg_logger = create_logger()"
   ]
  },
  {
   "cell_type": "markdown",
   "metadata": {},
   "source": [
    "### base path reference"
   ]
  },
  {
   "cell_type": "code",
   "execution_count": 34,
   "metadata": {},
   "outputs": [],
   "source": [
    "# Get the current working directory\n",
    "cwd_path = os.getcwd()"
   ]
  },
  {
   "cell_type": "markdown",
   "metadata": {},
   "source": [
    "## Base data process"
   ]
  },
  {
   "cell_type": "markdown",
   "metadata": {},
   "source": [
    "### Importing base DF"
   ]
  },
  {
   "cell_type": "code",
   "execution_count": 35,
   "metadata": {},
   "outputs": [],
   "source": [
    "base_df_path = os.path.join(\n",
    "    cwd_path,\n",
    "    '_ingestion',\n",
    "    'Invoices_Year_2009-2010.7z'\n",
    ")"
   ]
  },
  {
   "cell_type": "code",
   "execution_count": 36,
   "metadata": {},
   "outputs": [
    {
     "name": "stderr",
     "output_type": "stream",
     "text": [
      "2024-11-23T19:32:54-0300 - INFO - [extract_7z] - [bdc1adf9-bdde-42ea-81a8-6a6d27c43708] - Data successfully extracted to directory c:\\Users\\mathu\\Desktop\\projetos\\A\\betsson_group\\_ingestion. Duration: 0:00:00.516834\n",
      "2024-11-23T19:32:54-0300 - INFO - [extract_7z] - [bdc1adf9-bdde-42ea-81a8-6a6d27c43708] - Data successfully extracted to directory c:\\Users\\mathu\\Desktop\\projetos\\A\\betsson_group\\_ingestion. Duration: 0:00:00.516834\n"
     ]
    }
   ],
   "source": [
    "extract_7z(bg_logger, base_df_path)"
   ]
  },
  {
   "cell_type": "code",
   "execution_count": 37,
   "metadata": {},
   "outputs": [],
   "source": [
    "# os path join to avoid os-specific path issues\n",
    "\n",
    "# get csv base df\n",
    "base_retails_df = pd.read_csv(\n",
    "    os.path.join(\n",
    "        cwd_path,\n",
    "        '_ingestion',\n",
    "        'Invoices_Year_2009-2010.csv'\n",
    "    ),\n",
    "    sep=',',\n",
    "    encoding='latin1',\n",
    "    low_memory=False\n",
    ")"
   ]
  },
  {
   "cell_type": "markdown",
   "metadata": {},
   "source": [
    "### 0 - Briefly check the data"
   ]
  },
  {
   "cell_type": "markdown",
   "metadata": {},
   "source": [
    "##### A - dataset base info"
   ]
  },
  {
   "cell_type": "code",
   "execution_count": 38,
   "metadata": {},
   "outputs": [
    {
     "name": "stdout",
     "output_type": "stream",
     "text": [
      "<class 'pandas.core.frame.DataFrame'>\n",
      "RangeIndex: 525461 entries, 0 to 525460\n",
      "Data columns (total 8 columns):\n",
      " #   Column       Non-Null Count   Dtype  \n",
      "---  ------       --------------   -----  \n",
      " 0   Invoice      525461 non-null  object \n",
      " 1   StockCode    525461 non-null  object \n",
      " 2   Description  522533 non-null  object \n",
      " 3   Quantity     525461 non-null  int64  \n",
      " 4   InvoiceDate  525461 non-null  object \n",
      " 5   Price        525439 non-null  float64\n",
      " 6   Customer ID  417541 non-null  object \n",
      " 7   Country      525430 non-null  object \n",
      "dtypes: float64(1), int64(1), object(6)\n",
      "memory usage: 32.1+ MB\n"
     ]
    }
   ],
   "source": [
    "base_retails_df.info()"
   ]
  },
  {
   "cell_type": "markdown",
   "metadata": {},
   "source": [
    "##### B - understanding data variations"
   ]
  },
  {
   "cell_type": "code",
   "execution_count": 39,
   "metadata": {},
   "outputs": [
    {
     "data": {
      "text/html": [
       "<div>\n",
       "<style scoped>\n",
       "    .dataframe tbody tr th:only-of-type {\n",
       "        vertical-align: middle;\n",
       "    }\n",
       "\n",
       "    .dataframe tbody tr th {\n",
       "        vertical-align: top;\n",
       "    }\n",
       "\n",
       "    .dataframe thead th {\n",
       "        text-align: right;\n",
       "    }\n",
       "</style>\n",
       "<table border=\"1\" class=\"dataframe\">\n",
       "  <thead>\n",
       "    <tr style=\"text-align: right;\">\n",
       "      <th></th>\n",
       "      <th>Quantity</th>\n",
       "      <th>Price</th>\n",
       "    </tr>\n",
       "  </thead>\n",
       "  <tbody>\n",
       "    <tr>\n",
       "      <th>count</th>\n",
       "      <td>525461.000000</td>\n",
       "      <td>525439.000000</td>\n",
       "    </tr>\n",
       "    <tr>\n",
       "      <th>mean</th>\n",
       "      <td>10.337667</td>\n",
       "      <td>4.688669</td>\n",
       "    </tr>\n",
       "    <tr>\n",
       "      <th>std</th>\n",
       "      <td>107.424110</td>\n",
       "      <td>146.130044</td>\n",
       "    </tr>\n",
       "    <tr>\n",
       "      <th>min</th>\n",
       "      <td>-9600.000000</td>\n",
       "      <td>-53594.360000</td>\n",
       "    </tr>\n",
       "    <tr>\n",
       "      <th>25%</th>\n",
       "      <td>1.000000</td>\n",
       "      <td>1.250000</td>\n",
       "    </tr>\n",
       "    <tr>\n",
       "      <th>50%</th>\n",
       "      <td>3.000000</td>\n",
       "      <td>2.100000</td>\n",
       "    </tr>\n",
       "    <tr>\n",
       "      <th>75%</th>\n",
       "      <td>10.000000</td>\n",
       "      <td>4.210000</td>\n",
       "    </tr>\n",
       "    <tr>\n",
       "      <th>max</th>\n",
       "      <td>19152.000000</td>\n",
       "      <td>25111.090000</td>\n",
       "    </tr>\n",
       "  </tbody>\n",
       "</table>\n",
       "</div>"
      ],
      "text/plain": [
       "            Quantity          Price\n",
       "count  525461.000000  525439.000000\n",
       "mean       10.337667       4.688669\n",
       "std       107.424110     146.130044\n",
       "min     -9600.000000  -53594.360000\n",
       "25%         1.000000       1.250000\n",
       "50%         3.000000       2.100000\n",
       "75%        10.000000       4.210000\n",
       "max     19152.000000   25111.090000"
      ]
     },
     "execution_count": 39,
     "metadata": {},
     "output_type": "execute_result"
    }
   ],
   "source": [
    "base_retails_df.describe()"
   ]
  },
  {
   "cell_type": "code",
   "execution_count": 40,
   "metadata": {},
   "outputs": [
    {
     "data": {
      "text/plain": [
       "Invoice             0\n",
       "StockCode           0\n",
       "Description      2928\n",
       "Quantity            0\n",
       "InvoiceDate         0\n",
       "Price              22\n",
       "Customer ID    107920\n",
       "Country            31\n",
       "dtype: int64"
      ]
     },
     "execution_count": 40,
     "metadata": {},
     "output_type": "execute_result"
    }
   ],
   "source": [
    "base_retails_df.isnull().sum()"
   ]
  },
  {
   "cell_type": "markdown",
   "metadata": {},
   "source": [
    "##### C - Understanding base memory usage"
   ]
  },
  {
   "cell_type": "code",
   "execution_count": 41,
   "metadata": {},
   "outputs": [
    {
     "name": "stderr",
     "output_type": "stream",
     "text": [
      "2024-11-23T19:33:43-0300 - INFO - [<module>] - [20de9223-6f64-4fac-8092-34f6faee4353] - 212.19 MB\n",
      "2024-11-23T19:33:43-0300 - INFO - [<module>] - [20de9223-6f64-4fac-8092-34f6faee4353] - 212.19 MB\n"
     ]
    },
    {
     "data": {
      "text/plain": [
       "Index               128\n",
       "Invoice        33114252\n",
       "StockCode      32651237\n",
       "Description    43837135\n",
       "Quantity        4203688\n",
       "InvoiceDate    38130704\n",
       "Price           4203688\n",
       "Customer ID    29340975\n",
       "Country        37017895\n",
       "dtype: int64"
      ]
     },
     "execution_count": 41,
     "metadata": {},
     "output_type": "execute_result"
    }
   ],
   "source": [
    "base_memory_usage = base_retails_df.reset_index(drop=True).memory_usage(deep=True)\n",
    "format_base_memory_usage = base_memory_usage.sum() / (1024 * 1024)\n",
    "bg_logger.info(f'{format_base_memory_usage:.2f} MB')\n",
    "base_memory_usage"
   ]
  },
  {
   "cell_type": "markdown",
   "metadata": {},
   "source": [
    "##### D - Overview Top and Bottom data"
   ]
  },
  {
   "cell_type": "code",
   "execution_count": 42,
   "metadata": {},
   "outputs": [
    {
     "data": {
      "text/html": [
       "<div>\n",
       "<style scoped>\n",
       "    .dataframe tbody tr th:only-of-type {\n",
       "        vertical-align: middle;\n",
       "    }\n",
       "\n",
       "    .dataframe tbody tr th {\n",
       "        vertical-align: top;\n",
       "    }\n",
       "\n",
       "    .dataframe thead th {\n",
       "        text-align: right;\n",
       "    }\n",
       "</style>\n",
       "<table border=\"1\" class=\"dataframe\">\n",
       "  <thead>\n",
       "    <tr style=\"text-align: right;\">\n",
       "      <th></th>\n",
       "      <th>Invoice</th>\n",
       "      <th>StockCode</th>\n",
       "      <th>Description</th>\n",
       "      <th>Quantity</th>\n",
       "      <th>InvoiceDate</th>\n",
       "      <th>Price</th>\n",
       "      <th>Customer ID</th>\n",
       "      <th>Country</th>\n",
       "    </tr>\n",
       "  </thead>\n",
       "  <tbody>\n",
       "    <tr>\n",
       "      <th>0</th>\n",
       "      <td>489434</td>\n",
       "      <td>85048</td>\n",
       "      <td>15CM CHRISTMAS GLASS BALL 20 LIGHTS</td>\n",
       "      <td>12</td>\n",
       "      <td>12/01/2009 07:45</td>\n",
       "      <td>6.95</td>\n",
       "      <td>13085</td>\n",
       "      <td>United Kingdom</td>\n",
       "    </tr>\n",
       "    <tr>\n",
       "      <th>1</th>\n",
       "      <td>489434</td>\n",
       "      <td>79323P</td>\n",
       "      <td>PINK CHERRY LIGHTS</td>\n",
       "      <td>12</td>\n",
       "      <td>12/01/2009 07:45</td>\n",
       "      <td>6.75</td>\n",
       "      <td>13085</td>\n",
       "      <td>United Kingdom</td>\n",
       "    </tr>\n",
       "    <tr>\n",
       "      <th>2</th>\n",
       "      <td>489434</td>\n",
       "      <td>79323W</td>\n",
       "      <td>WHITE CHERRY LIGHTS</td>\n",
       "      <td>12</td>\n",
       "      <td>12/01/2009 07:45</td>\n",
       "      <td>6.75</td>\n",
       "      <td>13085</td>\n",
       "      <td>United Kingdom</td>\n",
       "    </tr>\n",
       "    <tr>\n",
       "      <th>3</th>\n",
       "      <td>489434</td>\n",
       "      <td>22041</td>\n",
       "      <td>RECORD FRAME 7\" SINGLE SIZE</td>\n",
       "      <td>48</td>\n",
       "      <td>12/01/2009 07:45</td>\n",
       "      <td>2.10</td>\n",
       "      <td>13085</td>\n",
       "      <td>United Kingdom</td>\n",
       "    </tr>\n",
       "    <tr>\n",
       "      <th>4</th>\n",
       "      <td>489434</td>\n",
       "      <td>21232</td>\n",
       "      <td>STRAWBERRY CERAMIC TRINKET BOX</td>\n",
       "      <td>24</td>\n",
       "      <td>12/01/2009 07:45</td>\n",
       "      <td>1.25</td>\n",
       "      <td>13085</td>\n",
       "      <td>United Kingdom</td>\n",
       "    </tr>\n",
       "  </tbody>\n",
       "</table>\n",
       "</div>"
      ],
      "text/plain": [
       "  Invoice StockCode                          Description  Quantity  \\\n",
       "0  489434     85048  15CM CHRISTMAS GLASS BALL 20 LIGHTS        12   \n",
       "1  489434    79323P                   PINK CHERRY LIGHTS        12   \n",
       "2  489434    79323W                  WHITE CHERRY LIGHTS        12   \n",
       "3  489434     22041         RECORD FRAME 7\" SINGLE SIZE         48   \n",
       "4  489434     21232       STRAWBERRY CERAMIC TRINKET BOX        24   \n",
       "\n",
       "        InvoiceDate  Price Customer ID         Country  \n",
       "0  12/01/2009 07:45   6.95       13085  United Kingdom  \n",
       "1  12/01/2009 07:45   6.75       13085  United Kingdom  \n",
       "2  12/01/2009 07:45   6.75       13085  United Kingdom  \n",
       "3  12/01/2009 07:45   2.10       13085  United Kingdom  \n",
       "4  12/01/2009 07:45   1.25       13085  United Kingdom  "
      ]
     },
     "execution_count": 42,
     "metadata": {},
     "output_type": "execute_result"
    }
   ],
   "source": [
    "base_retails_df.head()"
   ]
  },
  {
   "cell_type": "code",
   "execution_count": 43,
   "metadata": {},
   "outputs": [
    {
     "data": {
      "text/html": [
       "<div>\n",
       "<style scoped>\n",
       "    .dataframe tbody tr th:only-of-type {\n",
       "        vertical-align: middle;\n",
       "    }\n",
       "\n",
       "    .dataframe tbody tr th {\n",
       "        vertical-align: top;\n",
       "    }\n",
       "\n",
       "    .dataframe thead th {\n",
       "        text-align: right;\n",
       "    }\n",
       "</style>\n",
       "<table border=\"1\" class=\"dataframe\">\n",
       "  <thead>\n",
       "    <tr style=\"text-align: right;\">\n",
       "      <th></th>\n",
       "      <th>Invoice</th>\n",
       "      <th>StockCode</th>\n",
       "      <th>Description</th>\n",
       "      <th>Quantity</th>\n",
       "      <th>InvoiceDate</th>\n",
       "      <th>Price</th>\n",
       "      <th>Customer ID</th>\n",
       "      <th>Country</th>\n",
       "    </tr>\n",
       "  </thead>\n",
       "  <tbody>\n",
       "    <tr>\n",
       "      <th>525456</th>\n",
       "      <td>538171</td>\n",
       "      <td>22271</td>\n",
       "      <td>FELTCRAFT DOLL ROSIE</td>\n",
       "      <td>2</td>\n",
       "      <td>12/09/2010 20:01</td>\n",
       "      <td>2.95</td>\n",
       "      <td>17530</td>\n",
       "      <td>United Kingdom</td>\n",
       "    </tr>\n",
       "    <tr>\n",
       "      <th>525457</th>\n",
       "      <td>538171</td>\n",
       "      <td>22750</td>\n",
       "      <td>FELTCRAFT PRINCESS LOLA DOLL</td>\n",
       "      <td>1</td>\n",
       "      <td>12/09/2010 20:01</td>\n",
       "      <td>3.75</td>\n",
       "      <td>17530</td>\n",
       "      <td>United Kingdom</td>\n",
       "    </tr>\n",
       "    <tr>\n",
       "      <th>525458</th>\n",
       "      <td>538171</td>\n",
       "      <td>22751</td>\n",
       "      <td>FELTCRAFT PRINCESS OLIVIA DOLL</td>\n",
       "      <td>1</td>\n",
       "      <td>12/09/2010 20:01</td>\n",
       "      <td>3.75</td>\n",
       "      <td>17530</td>\n",
       "      <td>United Kingdom</td>\n",
       "    </tr>\n",
       "    <tr>\n",
       "      <th>525459</th>\n",
       "      <td>538171</td>\n",
       "      <td>20970</td>\n",
       "      <td>PINK FLORAL FELTCRAFT SHOULDER BAG</td>\n",
       "      <td>2</td>\n",
       "      <td>12/09/2010 20:01</td>\n",
       "      <td>3.75</td>\n",
       "      <td>17530</td>\n",
       "      <td>United Kingdom</td>\n",
       "    </tr>\n",
       "    <tr>\n",
       "      <th>525460</th>\n",
       "      <td>538171</td>\n",
       "      <td>21931</td>\n",
       "      <td>JUMBO STORAGE BAG SUKI</td>\n",
       "      <td>2</td>\n",
       "      <td>12/09/2010 20:01</td>\n",
       "      <td>1.95</td>\n",
       "      <td>17530</td>\n",
       "      <td>United Kingdom</td>\n",
       "    </tr>\n",
       "  </tbody>\n",
       "</table>\n",
       "</div>"
      ],
      "text/plain": [
       "       Invoice StockCode                         Description  Quantity  \\\n",
       "525456  538171     22271                FELTCRAFT DOLL ROSIE         2   \n",
       "525457  538171     22750        FELTCRAFT PRINCESS LOLA DOLL         1   \n",
       "525458  538171     22751      FELTCRAFT PRINCESS OLIVIA DOLL         1   \n",
       "525459  538171     20970  PINK FLORAL FELTCRAFT SHOULDER BAG         2   \n",
       "525460  538171     21931              JUMBO STORAGE BAG SUKI         2   \n",
       "\n",
       "             InvoiceDate  Price Customer ID         Country  \n",
       "525456  12/09/2010 20:01   2.95       17530  United Kingdom  \n",
       "525457  12/09/2010 20:01   3.75       17530  United Kingdom  \n",
       "525458  12/09/2010 20:01   3.75       17530  United Kingdom  \n",
       "525459  12/09/2010 20:01   3.75       17530  United Kingdom  \n",
       "525460  12/09/2010 20:01   1.95       17530  United Kingdom  "
      ]
     },
     "execution_count": 43,
     "metadata": {},
     "output_type": "execute_result"
    }
   ],
   "source": [
    "base_retails_df.tail()"
   ]
  },
  {
   "cell_type": "markdown",
   "metadata": {},
   "source": [
    "---\n",
    "Based on the top and bottom data, it's likely a general retail store. I'll maintain the previously defined generic 'retail' nomenclature."
   ]
  },
  {
   "cell_type": "markdown",
   "metadata": {},
   "source": [
    "##### E - Reviewing data uniqueness"
   ]
  },
  {
   "cell_type": "code",
   "execution_count": 44,
   "metadata": {},
   "outputs": [
    {
     "data": {
      "text/plain": [
       "Invoice        28816\n",
       "StockCode       4632\n",
       "Description     4681\n",
       "Quantity         825\n",
       "InvoiceDate    25296\n",
       "Price           1607\n",
       "Customer ID     4384\n",
       "Country           41\n",
       "dtype: int64"
      ]
     },
     "execution_count": 44,
     "metadata": {},
     "output_type": "execute_result"
    }
   ],
   "source": [
    "base_retails_df.nunique()"
   ]
  },
  {
   "cell_type": "code",
   "execution_count": 45,
   "metadata": {},
   "outputs": [
    {
     "data": {
      "text/plain": [
       "['United Kingdom',\n",
       " 'France',\n",
       " 'USA',\n",
       " 'Belgium',\n",
       " 'Australia',\n",
       " 'EIRE',\n",
       " 'Germany',\n",
       " 'Portugal',\n",
       " 'Japan',\n",
       " 'Denmark',\n",
       " 'Nigeria',\n",
       " 'Netherlands',\n",
       " 'Poland',\n",
       " 'Spain',\n",
       " 'Channel Islands',\n",
       " 'Italy',\n",
       " 'Cyprus',\n",
       " 'Greece',\n",
       " 'Norway',\n",
       " 'Austria',\n",
       " 'Sweden',\n",
       " 'United Arab Emirates',\n",
       " 'Finland',\n",
       " 'Switzerland',\n",
       " 'Unspecified',\n",
       " 'Malta',\n",
       " 'Bahrain',\n",
       " 'RSA',\n",
       " 'Bermuda',\n",
       " 'Hong Kong',\n",
       " 'Singapore',\n",
       " 'Thailand',\n",
       " 'Israel',\n",
       " 'Lithuania',\n",
       " nan,\n",
       " 'West Indies',\n",
       " 'Lebanon',\n",
       " 'Korea',\n",
       " 'Brazil',\n",
       " 'Canada',\n",
       " 'Iceland',\n",
       " 'U.K.']"
      ]
     },
     "execution_count": 45,
     "metadata": {},
     "output_type": "execute_result"
    }
   ],
   "source": [
    "list(base_retails_df['Country'].unique())"
   ]
  },
  {
   "cell_type": "markdown",
   "metadata": {},
   "source": [
    "### 1 - Going deeper into base errors and data types"
   ]
  },
  {
   "cell_type": "markdown",
   "metadata": {},
   "source": [
    "##### A - Correcting data types to consistent formats"
   ]
  },
  {
   "cell_type": "code",
   "execution_count": 46,
   "metadata": {},
   "outputs": [],
   "source": [
    "retails_df_stage = base_retails_df.copy()\n",
    "\n",
    "# base_retails_df = None\n",
    "# del base_retails_df"
   ]
  },
  {
   "cell_type": "markdown",
   "metadata": {},
   "source": [
    "---\n",
    "Stage 0 - Dtypes base format"
   ]
  },
  {
   "cell_type": "code",
   "execution_count": null,
   "metadata": {},
   "outputs": [
    {
     "name": "stderr",
     "output_type": "stream",
     "text": [
      "2024-11-23T19:33:48-0300 - INFO - [sanitize_column_data] - [19cdf634-dfc3-4943-9df6-fc941e32b38b] - Specializing column data 'Invoice' to '<class 'str'>'. It took 0:00:00.152145\n",
      "2024-11-23T19:33:48-0300 - INFO - [sanitize_column_data] - [19cdf634-dfc3-4943-9df6-fc941e32b38b] - Specializing column data 'Invoice' to '<class 'str'>'. It took 0:00:00.152145\n",
      "2024-11-23T19:33:48-0300 - INFO - [sanitize_column_data] - [e00ce3c2-90fe-491d-ba64-7f4a204e588e] - Specializing column data 'StockCode' to '<class 'str'>'. It took 0:00:00.157396\n",
      "2024-11-23T19:33:48-0300 - INFO - [sanitize_column_data] - [e00ce3c2-90fe-491d-ba64-7f4a204e588e] - Specializing column data 'StockCode' to '<class 'str'>'. It took 0:00:00.157396\n",
      "2024-11-23T19:33:48-0300 - INFO - [sanitize_column_data] - [150a24ff-015f-48e6-a094-70df933d2bac] - Specializing column data 'Description' to '<class 'str'>'. It took 0:00:00.179007\n",
      "2024-11-23T19:33:48-0300 - INFO - [sanitize_column_data] - [150a24ff-015f-48e6-a094-70df933d2bac] - Specializing column data 'Description' to '<class 'str'>'. It took 0:00:00.179007\n",
      "2024-11-23T19:33:48-0300 - INFO - [sanitize_column_data] - [f81f91ad-a659-4bfd-989c-0eacc0a4f9d3] - Specializing column data 'Customer ID' to '<class 'str'>'. It took 0:00:00.199713\n",
      "2024-11-23T19:33:48-0300 - INFO - [sanitize_column_data] - [f81f91ad-a659-4bfd-989c-0eacc0a4f9d3] - Specializing column data 'Customer ID' to '<class 'str'>'. It took 0:00:00.199713\n",
      "2024-11-23T19:33:49-0300 - INFO - [sanitize_column_data] - [a071471a-e99d-441e-b8a5-10d95230cac3] - Specializing column data 'Country' to '<class 'str'>'. It took 0:00:00.158949\n",
      "2024-11-23T19:33:49-0300 - INFO - [sanitize_column_data] - [a071471a-e99d-441e-b8a5-10d95230cac3] - Specializing column data 'Country' to '<class 'str'>'. It took 0:00:00.158949\n"
     ]
    }
   ],
   "source": [
    "# base dtypes\n",
    "\n",
    "# setting them as str and fillna with '0z0' to avoid issues with the data\n",
    "retails_df_stage['Invoice'] = sanitize_column_data(bg_logger, retails_df_stage, 'Invoice', fillna_v='Unspecified')\n",
    "retails_df_stage['StockCode'] = sanitize_column_data(bg_logger, retails_df_stage, 'StockCode', fillna_v='Unspecified')\n",
    "retails_df_stage['Description'] = sanitize_column_data(bg_logger, retails_df_stage, 'Description', fillna_v='Unspecified')\n",
    "retails_df_stage['Customer ID'] = sanitize_column_data(bg_logger, retails_df_stage, 'Customer ID', fillna_v='Unspecified')\n",
    "retails_df_stage['Country'] = sanitize_column_data(bg_logger, retails_df_stage, 'Country', fillna_v='Unspecified')"
   ]
  },
  {
   "cell_type": "code",
   "execution_count": 48,
   "metadata": {},
   "outputs": [
    {
     "name": "stdout",
     "output_type": "stream",
     "text": [
      "<class 'pandas.core.frame.DataFrame'>\n",
      "RangeIndex: 525461 entries, 0 to 525460\n",
      "Data columns (total 8 columns):\n",
      " #   Column       Non-Null Count   Dtype  \n",
      "---  ------       --------------   -----  \n",
      " 0   Invoice      525461 non-null  object \n",
      " 1   StockCode    525461 non-null  object \n",
      " 2   Description  525461 non-null  object \n",
      " 3   Quantity     525461 non-null  int64  \n",
      " 4   InvoiceDate  525461 non-null  object \n",
      " 5   Price        525439 non-null  float64\n",
      " 6   Customer ID  525461 non-null  object \n",
      " 7   Country      525461 non-null  object \n",
      "dtypes: float64(1), int64(1), object(6)\n",
      "memory usage: 32.1+ MB\n"
     ]
    }
   ],
   "source": [
    "# checking stage corrections\n",
    "retails_df_stage.info()"
   ]
  },
  {
   "cell_type": "code",
   "execution_count": 49,
   "metadata": {},
   "outputs": [],
   "source": [
    "# specialized DTYPES\n",
    "retails_df_stage['Quantity'] = pd.to_numeric(retails_df_stage['Quantity'], errors='coerce')\n",
    "retails_df_stage['Price'] = pd.to_numeric(retails_df_stage['Price'], errors='coerce')"
   ]
  },
  {
   "cell_type": "code",
   "execution_count": 50,
   "metadata": {},
   "outputs": [
    {
     "name": "stdout",
     "output_type": "stream",
     "text": [
      "<class 'pandas.core.frame.DataFrame'>\n",
      "RangeIndex: 525461 entries, 0 to 525460\n",
      "Data columns (total 8 columns):\n",
      " #   Column       Non-Null Count   Dtype  \n",
      "---  ------       --------------   -----  \n",
      " 0   Invoice      525461 non-null  object \n",
      " 1   StockCode    525461 non-null  object \n",
      " 2   Description  525461 non-null  object \n",
      " 3   Quantity     525461 non-null  int64  \n",
      " 4   InvoiceDate  525461 non-null  object \n",
      " 5   Price        525439 non-null  float64\n",
      " 6   Customer ID  525461 non-null  object \n",
      " 7   Country      525461 non-null  object \n",
      "dtypes: float64(1), int64(1), object(6)\n",
      "memory usage: 32.1+ MB\n"
     ]
    }
   ],
   "source": [
    "# checking stage corrections\n",
    "retails_df_stage.info()"
   ]
  },
  {
   "cell_type": "code",
   "execution_count": 51,
   "metadata": {},
   "outputs": [],
   "source": [
    "# treating different date formats and converting to ISO 8601\n",
    "retails_df_stage['InvoiceDate'] = pd.to_datetime(retails_df_stage['InvoiceDate'], errors='coerce')\n",
    "retails_df_stage['InvoiceDate'] = retails_df_stage['InvoiceDate'].dt.strftime('%Y-%m-%dT%H:%M:%S')"
   ]
  },
  {
   "cell_type": "code",
   "execution_count": 52,
   "metadata": {},
   "outputs": [
    {
     "name": "stdout",
     "output_type": "stream",
     "text": [
      "<class 'pandas.core.frame.DataFrame'>\n",
      "RangeIndex: 525461 entries, 0 to 525460\n",
      "Data columns (total 8 columns):\n",
      " #   Column       Non-Null Count   Dtype  \n",
      "---  ------       --------------   -----  \n",
      " 0   Invoice      525461 non-null  object \n",
      " 1   StockCode    525461 non-null  object \n",
      " 2   Description  525461 non-null  object \n",
      " 3   Quantity     525461 non-null  int64  \n",
      " 4   InvoiceDate  525461 non-null  object \n",
      " 5   Price        525439 non-null  float64\n",
      " 6   Customer ID  525461 non-null  object \n",
      " 7   Country      525461 non-null  object \n",
      "dtypes: float64(1), int64(1), object(6)\n",
      "memory usage: 32.1+ MB\n"
     ]
    }
   ],
   "source": [
    "retails_df_stage.info()"
   ]
  },
  {
   "cell_type": "code",
   "execution_count": 53,
   "metadata": {},
   "outputs": [
    {
     "name": "stderr",
     "output_type": "stream",
     "text": [
      "2024-11-23T19:34:29-0300 - INFO - [<module>] - [fa331cf5-e5dc-4816-97bd-05bc179c00a9] - Old memory usage: 212.19 MB x New memory usage: 217.62 MB\n",
      "2024-11-23T19:34:29-0300 - INFO - [<module>] - [fa331cf5-e5dc-4816-97bd-05bc179c00a9] - Old memory usage: 212.19 MB x New memory usage: 217.62 MB\n"
     ]
    }
   ],
   "source": [
    "memory_usage = retails_df_stage.reset_index(drop=True).memory_usage(deep=True) / (1024 * 1024)\n",
    "bg_logger.info('Old memory usage: %.2f MB x New memory usage: %.2f MB', format_base_memory_usage.sum(), memory_usage.sum())"
   ]
  },
  {
   "cell_type": "code",
   "execution_count": 54,
   "metadata": {},
   "outputs": [],
   "source": [
    "# removing object memory references\n",
    "memory_usage = None\n",
    "base_memory_usage = None\n",
    "format_base_memory_usage = None\n",
    "\n",
    "# removing from escope\n",
    "del memory_usage, base_memory_usage, format_base_memory_usage"
   ]
  },
  {
   "cell_type": "markdown",
   "metadata": {},
   "source": [
    "##### B - Overall data consistency"
   ]
  },
  {
   "cell_type": "code",
   "execution_count": 55,
   "metadata": {},
   "outputs": [
    {
     "data": {
      "text/html": [
       "<div>\n",
       "<style scoped>\n",
       "    .dataframe tbody tr th:only-of-type {\n",
       "        vertical-align: middle;\n",
       "    }\n",
       "\n",
       "    .dataframe tbody tr th {\n",
       "        vertical-align: top;\n",
       "    }\n",
       "\n",
       "    .dataframe thead th {\n",
       "        text-align: right;\n",
       "    }\n",
       "</style>\n",
       "<table border=\"1\" class=\"dataframe\">\n",
       "  <thead>\n",
       "    <tr style=\"text-align: right;\">\n",
       "      <th></th>\n",
       "      <th>Quantity</th>\n",
       "      <th>Price</th>\n",
       "    </tr>\n",
       "  </thead>\n",
       "  <tbody>\n",
       "    <tr>\n",
       "      <th>count</th>\n",
       "      <td>525461.000000</td>\n",
       "      <td>525439.000000</td>\n",
       "    </tr>\n",
       "    <tr>\n",
       "      <th>mean</th>\n",
       "      <td>10.337667</td>\n",
       "      <td>4.688669</td>\n",
       "    </tr>\n",
       "    <tr>\n",
       "      <th>std</th>\n",
       "      <td>107.424110</td>\n",
       "      <td>146.130044</td>\n",
       "    </tr>\n",
       "    <tr>\n",
       "      <th>min</th>\n",
       "      <td>-9600.000000</td>\n",
       "      <td>-53594.360000</td>\n",
       "    </tr>\n",
       "    <tr>\n",
       "      <th>25%</th>\n",
       "      <td>1.000000</td>\n",
       "      <td>1.250000</td>\n",
       "    </tr>\n",
       "    <tr>\n",
       "      <th>50%</th>\n",
       "      <td>3.000000</td>\n",
       "      <td>2.100000</td>\n",
       "    </tr>\n",
       "    <tr>\n",
       "      <th>75%</th>\n",
       "      <td>10.000000</td>\n",
       "      <td>4.210000</td>\n",
       "    </tr>\n",
       "    <tr>\n",
       "      <th>max</th>\n",
       "      <td>19152.000000</td>\n",
       "      <td>25111.090000</td>\n",
       "    </tr>\n",
       "  </tbody>\n",
       "</table>\n",
       "</div>"
      ],
      "text/plain": [
       "            Quantity          Price\n",
       "count  525461.000000  525439.000000\n",
       "mean       10.337667       4.688669\n",
       "std       107.424110     146.130044\n",
       "min     -9600.000000  -53594.360000\n",
       "25%         1.000000       1.250000\n",
       "50%         3.000000       2.100000\n",
       "75%        10.000000       4.210000\n",
       "max     19152.000000   25111.090000"
      ]
     },
     "execution_count": 55,
     "metadata": {},
     "output_type": "execute_result"
    }
   ],
   "source": [
    "retails_df_stage.describe()"
   ]
  },
  {
   "cell_type": "code",
   "execution_count": 56,
   "metadata": {},
   "outputs": [
    {
     "name": "stdout",
     "output_type": "stream",
     "text": [
      "<class 'pandas.core.frame.DataFrame'>\n",
      "RangeIndex: 525461 entries, 0 to 525460\n",
      "Data columns (total 8 columns):\n",
      " #   Column       Non-Null Count   Dtype  \n",
      "---  ------       --------------   -----  \n",
      " 0   Invoice      525461 non-null  object \n",
      " 1   StockCode    525461 non-null  object \n",
      " 2   Description  525461 non-null  object \n",
      " 3   Quantity     525461 non-null  int64  \n",
      " 4   InvoiceDate  525461 non-null  object \n",
      " 5   Price        525439 non-null  float64\n",
      " 6   Customer ID  525461 non-null  object \n",
      " 7   Country      525461 non-null  object \n",
      "dtypes: float64(1), int64(1), object(6)\n",
      "memory usage: 32.1+ MB\n"
     ]
    }
   ],
   "source": [
    "retails_df_stage.info()"
   ]
  },
  {
   "cell_type": "code",
   "execution_count": 57,
   "metadata": {},
   "outputs": [
    {
     "data": {
      "text/html": [
       "<div>\n",
       "<style scoped>\n",
       "    .dataframe tbody tr th:only-of-type {\n",
       "        vertical-align: middle;\n",
       "    }\n",
       "\n",
       "    .dataframe tbody tr th {\n",
       "        vertical-align: top;\n",
       "    }\n",
       "\n",
       "    .dataframe thead th {\n",
       "        text-align: right;\n",
       "    }\n",
       "</style>\n",
       "<table border=\"1\" class=\"dataframe\">\n",
       "  <thead>\n",
       "    <tr style=\"text-align: right;\">\n",
       "      <th></th>\n",
       "      <th>Quantity</th>\n",
       "      <th>Price</th>\n",
       "    </tr>\n",
       "  </thead>\n",
       "  <tbody>\n",
       "    <tr>\n",
       "      <th>count</th>\n",
       "      <td>525461.000000</td>\n",
       "      <td>525439.000000</td>\n",
       "    </tr>\n",
       "    <tr>\n",
       "      <th>mean</th>\n",
       "      <td>10.337667</td>\n",
       "      <td>4.688669</td>\n",
       "    </tr>\n",
       "    <tr>\n",
       "      <th>std</th>\n",
       "      <td>107.424110</td>\n",
       "      <td>146.130044</td>\n",
       "    </tr>\n",
       "    <tr>\n",
       "      <th>min</th>\n",
       "      <td>-9600.000000</td>\n",
       "      <td>-53594.360000</td>\n",
       "    </tr>\n",
       "    <tr>\n",
       "      <th>25%</th>\n",
       "      <td>1.000000</td>\n",
       "      <td>1.250000</td>\n",
       "    </tr>\n",
       "    <tr>\n",
       "      <th>50%</th>\n",
       "      <td>3.000000</td>\n",
       "      <td>2.100000</td>\n",
       "    </tr>\n",
       "    <tr>\n",
       "      <th>75%</th>\n",
       "      <td>10.000000</td>\n",
       "      <td>4.210000</td>\n",
       "    </tr>\n",
       "    <tr>\n",
       "      <th>max</th>\n",
       "      <td>19152.000000</td>\n",
       "      <td>25111.090000</td>\n",
       "    </tr>\n",
       "  </tbody>\n",
       "</table>\n",
       "</div>"
      ],
      "text/plain": [
       "            Quantity          Price\n",
       "count  525461.000000  525439.000000\n",
       "mean       10.337667       4.688669\n",
       "std       107.424110     146.130044\n",
       "min     -9600.000000  -53594.360000\n",
       "25%         1.000000       1.250000\n",
       "50%         3.000000       2.100000\n",
       "75%        10.000000       4.210000\n",
       "max     19152.000000   25111.090000"
      ]
     },
     "execution_count": 57,
     "metadata": {},
     "output_type": "execute_result"
    }
   ],
   "source": [
    "retails_df_stage.describe()"
   ]
  },
  {
   "cell_type": "markdown",
   "metadata": {},
   "source": [
    "---\n",
    "checkpoint lineage: 0"
   ]
  },
  {
   "cell_type": "code",
   "execution_count": 58,
   "metadata": {},
   "outputs": [],
   "source": [
    "retails_lineage_0_path = os.path.join(\n",
    "    cwd_path,\n",
    "    'dump',\n",
    "    'retails_df_stage.parquet'\n",
    ")"
   ]
  },
  {
   "cell_type": "code",
   "execution_count": 59,
   "metadata": {},
   "outputs": [],
   "source": [
    "retails_df_stage.to_parquet(\n",
    "    retails_lineage_0_path,\n",
    "    index=False,\n",
    "    compression='snappy'\n",
    ")"
   ]
  },
  {
   "cell_type": "code",
   "execution_count": 60,
   "metadata": {},
   "outputs": [],
   "source": [
    "retails_df_stage = None\n",
    "del retails_df_stage"
   ]
  },
  {
   "cell_type": "markdown",
   "metadata": {},
   "source": [
    "##### C - Specialized Data Corrections"
   ]
  },
  {
   "cell_type": "code",
   "execution_count": 61,
   "metadata": {},
   "outputs": [],
   "source": [
    "retails_df_stage_I = pd.read_parquet(retails_lineage_0_path)"
   ]
  },
  {
   "cell_type": "markdown",
   "metadata": {},
   "source": [
    "---\n",
    "Stage 1 - Data specif and column corrections"
   ]
  },
  {
   "cell_type": "code",
   "execution_count": 71,
   "metadata": {},
   "outputs": [
    {
     "data": {
      "text/plain": [
       "Index(['invoice', 'stockcode', 'description', 'quantity', 'invoicedate',\n",
       "       'price', 'customerid', 'country'],\n",
       "      dtype='object')"
      ]
     },
     "execution_count": 71,
     "metadata": {},
     "output_type": "execute_result"
    }
   ],
   "source": [
    "retails_df_stage_I.columns = [sanitize_text(col).lower().replace(' ', '_') for col in retails_df_stage_I.columns]\n",
    "retails_df_stage_I.columns"
   ]
  },
  {
   "cell_type": "markdown",
   "metadata": {},
   "source": [
    "> Country column - understanding overall logic"
   ]
  },
  {
   "cell_type": "code",
   "execution_count": 72,
   "metadata": {},
   "outputs": [
    {
     "data": {
      "text/plain": [
       "['United Kingdom',\n",
       " 'France',\n",
       " 'United States',\n",
       " 'Belgium',\n",
       " 'Australia',\n",
       " 'Ireland',\n",
       " 'Germany',\n",
       " 'Portugal',\n",
       " 'Japan',\n",
       " 'Denmark',\n",
       " 'Nigeria',\n",
       " 'Netherlands',\n",
       " 'Poland',\n",
       " 'Spain',\n",
       " 'Channel Islands',\n",
       " 'Italy',\n",
       " 'Cyprus',\n",
       " 'Greece',\n",
       " 'Norway',\n",
       " 'Austria',\n",
       " 'Sweden',\n",
       " 'United Arab Emirates',\n",
       " 'Finland',\n",
       " 'Switzerland',\n",
       " 'co0z0',\n",
       " 'Malta',\n",
       " 'Bahrain',\n",
       " 'South Africa',\n",
       " 'Bermuda',\n",
       " 'Hong Kong',\n",
       " 'Singapore',\n",
       " 'Thailand',\n",
       " 'Israel',\n",
       " 'Lithuania',\n",
       " 'West Indies',\n",
       " 'Lebanon',\n",
       " 'Korea',\n",
       " 'Brazil',\n",
       " 'Canada',\n",
       " 'Iceland']"
      ]
     },
     "execution_count": 72,
     "metadata": {},
     "output_type": "execute_result"
    }
   ],
   "source": [
    "list(retails_df_stage_I['country'].unique())"
   ]
  },
  {
   "cell_type": "markdown",
   "metadata": {},
   "source": [
    "> Country column - Cleaning and mapping correct values"
   ]
  },
  {
   "cell_type": "code",
   "execution_count": null,
   "metadata": {},
   "outputs": [],
   "source": [
    "# sanitize data\n",
    "retails_df_stage_I['country'] = retails_df_stage_I['Country'].apply(sanitize_text)"
   ]
  },
  {
   "cell_type": "code",
   "execution_count": null,
   "metadata": {},
   "outputs": [],
   "source": [
    "# correct acronyms and normalizing location names\n",
    "retails_df_stage_I['country'] = retails_df_stage_I['Country'].replace(NORMATIZE_LOCATION_MAP)"
   ]
  },
  {
   "cell_type": "code",
   "execution_count": null,
   "metadata": {},
   "outputs": [
    {
     "data": {
      "text/plain": [
       "Country\n",
       "United Kingdom          92.457861\n",
       "Ireland                  1.838576\n",
       "Germany                  1.547023\n",
       "France                   1.098464\n",
       "Netherlands              0.526966\n",
       "Spain                    0.243215\n",
       "Switzerland              0.225897\n",
       "Portugal                 0.209530\n",
       "Belgium                  0.200586\n",
       "Channel Islands          0.172420\n",
       "Sweden                   0.171659\n",
       "Italy                    0.139116\n",
       "Australia                0.124462\n",
       "Cyprus                   0.105431\n",
       "Austria                  0.102196\n",
       "Greece                   0.098390\n",
       "United Arab Emirates     0.082214\n",
       "Denmark                  0.081452\n",
       "Norway                   0.070224\n",
       "Finland                  0.067369\n",
       "co0z0                    0.064895\n",
       "United States            0.046435\n",
       "Japan                    0.042629\n",
       "Poland                   0.036920\n",
       "Malta                    0.032733\n",
       "Lithuania                0.029308\n",
       "Singapore                0.022266\n",
       "South Africa             0.021124\n",
       "Bahrain                  0.020363\n",
       "Canada                   0.014654\n",
       "Hong Kong                0.014463\n",
       "Thailand                 0.014463\n",
       "Israel                   0.014083\n",
       "Iceland                  0.013512\n",
       "Korea                    0.011989\n",
       "Brazil                   0.011799\n",
       "West Indies              0.010277\n",
       "Bermuda                  0.006471\n",
       "Nigeria                  0.006090\n",
       "Lebanon                  0.002474\n",
       "Name: proportion, dtype: float64"
      ]
     },
     "execution_count": 65,
     "metadata": {},
     "output_type": "execute_result"
    }
   ],
   "source": [
    "# overall data consistency\n",
    "retails_df_stage_I['country'].value_counts(normalize=True) * 100"
   ]
  },
  {
   "cell_type": "markdown",
   "metadata": {},
   "source": [
    "> Customer ID column - understanding overall logic"
   ]
  },
  {
   "cell_type": "code",
   "execution_count": 67,
   "metadata": {},
   "outputs": [
    {
     "data": {
      "text/plain": [
       "Customer ID\n",
       "Unspecified    107920\n",
       "14911            5710\n",
       "17841            5114\n",
       "14606            3927\n",
       "14156            2710\n",
       "                ...  \n",
       "18246               1\n",
       "13096               1\n",
       "14914               1\n",
       "16786               1\n",
       "13222               1\n",
       "Name: count, Length: 4385, dtype: int64"
      ]
     },
     "execution_count": 67,
     "metadata": {},
     "output_type": "execute_result"
    }
   ],
   "source": [
    "retails_df_stage_I['Customer ID'].value_counts()"
   ]
  },
  {
   "cell_type": "markdown",
   "metadata": {},
   "source": [
    "0   Invoice      525461 non-null  object \n",
    "1   StockCode    525461 non-null  object \n",
    "2   Description  522533 non-null  object \n",
    "3   Quantity     525461 non-null  int64  \n",
    "4   InvoiceDate  525461 non-null  object \n",
    "5   Price        525439 non-null  float64\n",
    "6   Customer ID  417541 non-null  object \n",
    "7   Country      525430 non-null  object "
   ]
  },
  {
   "cell_type": "code",
   "execution_count": null,
   "metadata": {},
   "outputs": [],
   "source": []
  },
  {
   "cell_type": "code",
   "execution_count": null,
   "metadata": {},
   "outputs": [],
   "source": []
  },
  {
   "cell_type": "markdown",
   "metadata": {},
   "source": [
    "# Warehouse definitions"
   ]
  },
  {
   "cell_type": "code",
   "execution_count": null,
   "metadata": {},
   "outputs": [],
   "source": []
  },
  {
   "cell_type": "code",
   "execution_count": null,
   "metadata": {},
   "outputs": [],
   "source": []
  },
  {
   "cell_type": "code",
   "execution_count": null,
   "metadata": {},
   "outputs": [],
   "source": []
  },
  {
   "cell_type": "code",
   "execution_count": null,
   "metadata": {},
   "outputs": [],
   "source": []
  }
 ],
 "metadata": {
  "kernelspec": {
   "display_name": ".venv_ipynb",
   "language": "python",
   "name": "python3"
  },
  "language_info": {
   "codemirror_mode": {
    "name": "ipython",
    "version": 3
   },
   "file_extension": ".py",
   "mimetype": "text/x-python",
   "name": "python",
   "nbconvert_exporter": "python",
   "pygments_lexer": "ipython3",
   "version": "3.12.1"
  }
 },
 "nbformat": 4,
 "nbformat_minor": 2
}
