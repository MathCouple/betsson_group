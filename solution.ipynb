{
 "cells": [
  {
   "cell_type": "markdown",
   "metadata": {},
   "source": [
    "# requirements"
   ]
  },
  {
   "cell_type": "code",
   "execution_count": 1,
   "metadata": {},
   "outputs": [],
   "source": [
    "# !pip install sqlalchemy\n",
    "# !pip install py7zr\n",
    "# !pip install pandas\n",
    "# !pip install pyarrow\n",
    "# !pip install py7zr sqlalchemy pandas pyarrow"
   ]
  },
  {
   "cell_type": "markdown",
   "metadata": {},
   "source": [
    "# Imports"
   ]
  },
  {
   "cell_type": "code",
   "execution_count": 2,
   "metadata": {},
   "outputs": [],
   "source": [
    "import os\n",
    "import logging\n",
    "import uuid\n",
    "from datetime import (\n",
    "    datetime,\n",
    "    timezone\n",
    ")\n",
    "import re\n",
    "import unicodedata"
   ]
  },
  {
   "cell_type": "code",
   "execution_count": 3,
   "metadata": {},
   "outputs": [],
   "source": [
    "# import sqlalchemy as sa\n",
    "import pandas as pd\n",
    "import py7zr"
   ]
  },
  {
   "cell_type": "markdown",
   "metadata": {},
   "source": [
    "# Utils & functions"
   ]
  },
  {
   "cell_type": "markdown",
   "metadata": {},
   "source": [
    "### logger"
   ]
  },
  {
   "cell_type": "code",
   "execution_count": 4,
   "metadata": {},
   "outputs": [],
   "source": [
    "# Logger\n",
    "class __UUIDFilter(logging.Filter):\n",
    "    \"\"\"\n",
    "    Internal utils\n",
    "    Filter that adds a UUID4 to the log record.\n",
    "    \"\"\"\n",
    "    def filter(self, record):\n",
    "        record.uuid4 = uuid.uuid4()\n",
    "        return True\n",
    "\n",
    "def create_logger(log_file=None):\n",
    "    \"\"\"\n",
    "    Creates a logger that writes messages to a file and writes them to the console.\n",
    "\n",
    "    :param log_file: Name of the log file.\n",
    "    :return: Configured logger.\n",
    "    \"\"\"\n",
    "    # Logger creation\n",
    "    logger = logging.getLogger(__name__)\n",
    "    logger.setLevel(logging.DEBUG)\n",
    "\n",
    "    # Custom log format with UTC timestamp and UUID4\n",
    "    log_format = logging.Formatter(\n",
    "        '%(asctime)s - %(levelname)s - [%(funcName)s] - [%(uuid4)s] - %(message)s',\n",
    "        datefmt=\"%Y-%m-%dT%H:%M:%S%z\"\n",
    "    )\n",
    "\n",
    "    # Force the UTC time to appear in all handlers\n",
    "    logging.Formatter.converter = lambda *args: datetime.now(timezone.utc).timetuple()\n",
    "\n",
    "    uuid_filter = __UUIDFilter()\n",
    "    logger.addFilter(uuid_filter)\n",
    "\n",
    "    # File writer handler\n",
    "    if log_file:\n",
    "        file_handler = logging.FileHandler(log_file)\n",
    "        file_handler.setLevel(logging.DEBUG)\n",
    "        file_handler.setFormatter(log_format)\n",
    "        logger.addHandler(file_handler)\n",
    "\n",
    "    # Console handler\n",
    "    console_handler = logging.StreamHandler()\n",
    "    console_handler.setLevel(logging.DEBUG)\n",
    "    console_handler.setFormatter(log_format)\n",
    "    logger.addHandler(console_handler)\n",
    "\n",
    "    return logger"
   ]
  },
  {
   "cell_type": "markdown",
   "metadata": {},
   "source": [
    "### extract_7z"
   ]
  },
  {
   "cell_type": "code",
   "execution_count": 5,
   "metadata": {},
   "outputs": [],
   "source": [
    "def extract_7z(bg_logger, file_path):\n",
    "    \"\"\"\n",
    "    Extracts a 7z file to the same directory as the compressed file.\n",
    "\n",
    "    :param bg_logger: initialized logger\n",
    "    :param file_path: Path to the 7z file to extract.\n",
    "    \"\"\"\n",
    "    # Record start time\n",
    "    start_time = datetime.now()\n",
    "\n",
    "    # Get extraction directory\n",
    "    extract_dir = os.path.dirname(file_path)\n",
    "\n",
    "    # Extract the 7z file\n",
    "    with py7zr.SevenZipFile(file_path, mode='r') as z:\n",
    "        z.extractall(path=extract_dir)\n",
    "\n",
    "    # Calculate extraction duration\n",
    "    duration = datetime.now() - start_time\n",
    "\n",
    "    # Log success message with extraction details\n",
    "    bg_logger.info(\n",
    "        \"Data successfully extracted to directory %s. Duration: %s\",\n",
    "        extract_dir, duration\n",
    "    )\n",
    "    extract_dir = None\n",
    "    del extract_dir\n"
   ]
  },
  {
   "cell_type": "markdown",
   "metadata": {},
   "source": [
    "### sanitize_column_data"
   ]
  },
  {
   "cell_type": "code",
   "execution_count": 6,
   "metadata": {},
   "outputs": [],
   "source": [
    "def sanitize_column_data(bg_logger, df, column, c_dtype=str):\n",
    "    \"\"\"\n",
    "    Corrects and specializes the data column format, replacing invalid values with NaN.\n",
    "    Args:\n",
    "        bg_logger: Logger instance for logging.\n",
    "        df: DataFrame containing the data.\n",
    "        column: Column to be transformed.\n",
    "        c_dtype: Target data type (default is str).\n",
    "    Returns:\n",
    "        The transformed column.\n",
    "    \"\"\"\n",
    "    start_time = datetime.now()\n",
    "    df[column] = df[column].str.strip()\n",
    "\n",
    "    bg_logger.info(\n",
    "        \"Specializing column data '%s' to '%s'. It took %s\",\n",
    "        column, str(c_dtype), str(datetime.now() - start_time)\n",
    "    )\n",
    "    return df[column]"
   ]
  },
  {
   "cell_type": "markdown",
   "metadata": {},
   "source": [
    "### sanitize_text"
   ]
  },
  {
   "cell_type": "code",
   "execution_count": 7,
   "metadata": {},
   "outputs": [],
   "source": [
    "def sanitize_text(text):\n",
    "    \"\"\"\n",
    "    Normalizes text by:\n",
    "    - Removing special characters\n",
    "    - Replacing accented characters with their unaccented counterparts\n",
    "        Note: This is a symbol-based scenario, meaning it only considers simple transformations.\n",
    "        For words requiring special handling (e.g., unique characters in specific languages),\n",
    "        we would need to either create a custom mapping or use a specialized\n",
    "        library for broader support.\n",
    "    - Removing extra spaces\n",
    "\n",
    "    Args:\n",
    "        text (str): The input string to normalize.\n",
    "\n",
    "    Returns:\n",
    "        str: The normalized text.\n",
    "    \"\"\"\n",
    "    if not isinstance(text, str):\n",
    "        return text  # Return as-is if not a string\n",
    "\n",
    "    # 1. Remove accents\n",
    "    text = ''.join(\n",
    "        c for c in unicodedata.normalize('NFD', text) \n",
    "        if unicodedata.category(c) != 'Mn'\n",
    "    )\n",
    "\n",
    "    # 2. Remove special characters*\n",
    "    text = re.sub(r'[^a-zA-Z0-9\\s]', '', text)\n",
    "\n",
    "    # 3. Remove extra spaces\n",
    "    text = re.sub(r'\\s+', ' ', text).strip()\n",
    "\n",
    "    return text"
   ]
  },
  {
   "cell_type": "markdown",
   "metadata": {},
   "source": [
    "### data maps"
   ]
  },
  {
   "cell_type": "code",
   "execution_count": 8,
   "metadata": {},
   "outputs": [],
   "source": [
    "NORMATIZE_LOCATION_MAP = {\n",
    "    \"USA\": \"United States\",\n",
    "    \"US\": \"United States\",\n",
    "    \"UK\": \"United Kingdom\",\n",
    "    \"EIRE\": \"Ireland\",\n",
    "    \"RSA\": \"South Africa\",\n",
    "    \"Unspecified\": \"co0z0\",\n",
    "}"
   ]
  },
  {
   "cell_type": "markdown",
   "metadata": {},
   "source": [
    "# Pipeline"
   ]
  },
  {
   "cell_type": "markdown",
   "metadata": {},
   "source": [
    "### Logger init"
   ]
  },
  {
   "cell_type": "code",
   "execution_count": 9,
   "metadata": {},
   "outputs": [],
   "source": [
    "# initialize logger\n",
    "bg_logger = create_logger()"
   ]
  },
  {
   "cell_type": "markdown",
   "metadata": {},
   "source": [
    "### base path reference"
   ]
  },
  {
   "cell_type": "code",
   "execution_count": 10,
   "metadata": {},
   "outputs": [],
   "source": [
    "# Get the current working directory\n",
    "cwd_path = os.getcwd()"
   ]
  },
  {
   "cell_type": "markdown",
   "metadata": {},
   "source": [
    "## Base data process"
   ]
  },
  {
   "cell_type": "markdown",
   "metadata": {},
   "source": [
    "### Importing base DF"
   ]
  },
  {
   "cell_type": "code",
   "execution_count": 11,
   "metadata": {},
   "outputs": [],
   "source": [
    "base_df_path = os.path.join(\n",
    "    cwd_path,\n",
    "    'ingestion',\n",
    "    'Invoices_Year_2009-2010.7z'\n",
    ")"
   ]
  },
  {
   "cell_type": "code",
   "execution_count": 12,
   "metadata": {},
   "outputs": [
    {
     "name": "stderr",
     "output_type": "stream",
     "text": [
      "2024-11-24T05:48:21 - INFO - [extract_7z] - [945df8ac-784c-4d4d-bca3-039dd7b1dae5] - Data successfully extracted to directory /workspaces/betsson_group/ingestion. Duration: 0:00:00.428891\n"
     ]
    }
   ],
   "source": [
    "extract_7z(bg_logger, base_df_path)"
   ]
  },
  {
   "cell_type": "code",
   "execution_count": 13,
   "metadata": {},
   "outputs": [],
   "source": [
    "# os path join to avoid os-specific path issues\n",
    "\n",
    "# get csv base df\n",
    "base_retails_df = pd.read_csv(\n",
    "    os.path.join(\n",
    "        cwd_path,\n",
    "        'ingestion',\n",
    "        'Invoices_Year_2009-2010.csv'\n",
    "    ),\n",
    "    sep=',',\n",
    "    encoding='latin1',\n",
    "    low_memory=False\n",
    ")"
   ]
  },
  {
   "cell_type": "markdown",
   "metadata": {},
   "source": [
    "### 0 - Briefly check the data"
   ]
  },
  {
   "cell_type": "markdown",
   "metadata": {},
   "source": [
    "##### A - dataset base info"
   ]
  },
  {
   "cell_type": "code",
   "execution_count": 14,
   "metadata": {},
   "outputs": [
    {
     "name": "stdout",
     "output_type": "stream",
     "text": [
      "<class 'pandas.core.frame.DataFrame'>\n",
      "RangeIndex: 525461 entries, 0 to 525460\n",
      "Data columns (total 8 columns):\n",
      " #   Column       Non-Null Count   Dtype  \n",
      "---  ------       --------------   -----  \n",
      " 0   Invoice      525461 non-null  object \n",
      " 1   StockCode    525461 non-null  object \n",
      " 2   Description  522533 non-null  object \n",
      " 3   Quantity     525461 non-null  int64  \n",
      " 4   InvoiceDate  525461 non-null  object \n",
      " 5   Price        525439 non-null  float64\n",
      " 6   Customer ID  417541 non-null  object \n",
      " 7   Country      525430 non-null  object \n",
      "dtypes: float64(1), int64(1), object(6)\n",
      "memory usage: 32.1+ MB\n"
     ]
    }
   ],
   "source": [
    "base_retails_df.info()"
   ]
  },
  {
   "cell_type": "markdown",
   "metadata": {},
   "source": [
    "##### B - understanding data variations"
   ]
  },
  {
   "cell_type": "code",
   "execution_count": 15,
   "metadata": {},
   "outputs": [
    {
     "data": {
      "text/html": [
       "<div>\n",
       "<style scoped>\n",
       "    .dataframe tbody tr th:only-of-type {\n",
       "        vertical-align: middle;\n",
       "    }\n",
       "\n",
       "    .dataframe tbody tr th {\n",
       "        vertical-align: top;\n",
       "    }\n",
       "\n",
       "    .dataframe thead th {\n",
       "        text-align: right;\n",
       "    }\n",
       "</style>\n",
       "<table border=\"1\" class=\"dataframe\">\n",
       "  <thead>\n",
       "    <tr style=\"text-align: right;\">\n",
       "      <th></th>\n",
       "      <th>Quantity</th>\n",
       "      <th>Price</th>\n",
       "    </tr>\n",
       "  </thead>\n",
       "  <tbody>\n",
       "    <tr>\n",
       "      <th>count</th>\n",
       "      <td>525461.000000</td>\n",
       "      <td>525439.000000</td>\n",
       "    </tr>\n",
       "    <tr>\n",
       "      <th>mean</th>\n",
       "      <td>10.337667</td>\n",
       "      <td>4.688669</td>\n",
       "    </tr>\n",
       "    <tr>\n",
       "      <th>std</th>\n",
       "      <td>107.424110</td>\n",
       "      <td>146.130044</td>\n",
       "    </tr>\n",
       "    <tr>\n",
       "      <th>min</th>\n",
       "      <td>-9600.000000</td>\n",
       "      <td>-53594.360000</td>\n",
       "    </tr>\n",
       "    <tr>\n",
       "      <th>25%</th>\n",
       "      <td>1.000000</td>\n",
       "      <td>1.250000</td>\n",
       "    </tr>\n",
       "    <tr>\n",
       "      <th>50%</th>\n",
       "      <td>3.000000</td>\n",
       "      <td>2.100000</td>\n",
       "    </tr>\n",
       "    <tr>\n",
       "      <th>75%</th>\n",
       "      <td>10.000000</td>\n",
       "      <td>4.210000</td>\n",
       "    </tr>\n",
       "    <tr>\n",
       "      <th>max</th>\n",
       "      <td>19152.000000</td>\n",
       "      <td>25111.090000</td>\n",
       "    </tr>\n",
       "  </tbody>\n",
       "</table>\n",
       "</div>"
      ],
      "text/plain": [
       "            Quantity          Price\n",
       "count  525461.000000  525439.000000\n",
       "mean       10.337667       4.688669\n",
       "std       107.424110     146.130044\n",
       "min     -9600.000000  -53594.360000\n",
       "25%         1.000000       1.250000\n",
       "50%         3.000000       2.100000\n",
       "75%        10.000000       4.210000\n",
       "max     19152.000000   25111.090000"
      ]
     },
     "execution_count": 15,
     "metadata": {},
     "output_type": "execute_result"
    }
   ],
   "source": [
    "base_retails_df.describe()"
   ]
  },
  {
   "cell_type": "code",
   "execution_count": 16,
   "metadata": {},
   "outputs": [
    {
     "data": {
      "text/plain": [
       "Invoice             0\n",
       "StockCode           0\n",
       "Description      2928\n",
       "Quantity            0\n",
       "InvoiceDate         0\n",
       "Price              22\n",
       "Customer ID    107920\n",
       "Country            31\n",
       "dtype: int64"
      ]
     },
     "execution_count": 16,
     "metadata": {},
     "output_type": "execute_result"
    }
   ],
   "source": [
    "base_retails_df.isnull().sum()"
   ]
  },
  {
   "cell_type": "markdown",
   "metadata": {},
   "source": [
    "##### C - Understanding base memory usage"
   ]
  },
  {
   "cell_type": "code",
   "execution_count": 17,
   "metadata": {},
   "outputs": [
    {
     "name": "stderr",
     "output_type": "stream",
     "text": [
      "2024-11-24T05:48:23 - INFO - [<module>] - [ef3bf194-b2fd-4926-b6dc-a2c1d8d6209d] - 188.98 MB\n"
     ]
    },
    {
     "data": {
      "text/plain": [
       "Index               132\n",
       "Invoice        28910564\n",
       "StockCode      28447549\n",
       "Description    39656495\n",
       "Quantity        4203688\n",
       "InvoiceDate    33927016\n",
       "Price           4203688\n",
       "Customer ID    26000647\n",
       "Country        32814455\n",
       "dtype: int64"
      ]
     },
     "execution_count": 17,
     "metadata": {},
     "output_type": "execute_result"
    }
   ],
   "source": [
    "base_memory_usage = base_retails_df.reset_index(drop=True).memory_usage(deep=True)\n",
    "format_base_memory_usage = base_memory_usage.sum() / (1024 * 1024)\n",
    "bg_logger.info(f'{format_base_memory_usage:.2f} MB')\n",
    "base_memory_usage"
   ]
  },
  {
   "cell_type": "markdown",
   "metadata": {},
   "source": [
    "##### D - Overview Top and Bottom data"
   ]
  },
  {
   "cell_type": "code",
   "execution_count": 18,
   "metadata": {},
   "outputs": [
    {
     "data": {
      "text/html": [
       "<div>\n",
       "<style scoped>\n",
       "    .dataframe tbody tr th:only-of-type {\n",
       "        vertical-align: middle;\n",
       "    }\n",
       "\n",
       "    .dataframe tbody tr th {\n",
       "        vertical-align: top;\n",
       "    }\n",
       "\n",
       "    .dataframe thead th {\n",
       "        text-align: right;\n",
       "    }\n",
       "</style>\n",
       "<table border=\"1\" class=\"dataframe\">\n",
       "  <thead>\n",
       "    <tr style=\"text-align: right;\">\n",
       "      <th></th>\n",
       "      <th>Invoice</th>\n",
       "      <th>StockCode</th>\n",
       "      <th>Description</th>\n",
       "      <th>Quantity</th>\n",
       "      <th>InvoiceDate</th>\n",
       "      <th>Price</th>\n",
       "      <th>Customer ID</th>\n",
       "      <th>Country</th>\n",
       "    </tr>\n",
       "  </thead>\n",
       "  <tbody>\n",
       "    <tr>\n",
       "      <th>0</th>\n",
       "      <td>489434</td>\n",
       "      <td>85048</td>\n",
       "      <td>15CM CHRISTMAS GLASS BALL 20 LIGHTS</td>\n",
       "      <td>12</td>\n",
       "      <td>12/01/2009 07:45</td>\n",
       "      <td>6.95</td>\n",
       "      <td>13085</td>\n",
       "      <td>United Kingdom</td>\n",
       "    </tr>\n",
       "    <tr>\n",
       "      <th>1</th>\n",
       "      <td>489434</td>\n",
       "      <td>79323P</td>\n",
       "      <td>PINK CHERRY LIGHTS</td>\n",
       "      <td>12</td>\n",
       "      <td>12/01/2009 07:45</td>\n",
       "      <td>6.75</td>\n",
       "      <td>13085</td>\n",
       "      <td>United Kingdom</td>\n",
       "    </tr>\n",
       "    <tr>\n",
       "      <th>2</th>\n",
       "      <td>489434</td>\n",
       "      <td>79323W</td>\n",
       "      <td>WHITE CHERRY LIGHTS</td>\n",
       "      <td>12</td>\n",
       "      <td>12/01/2009 07:45</td>\n",
       "      <td>6.75</td>\n",
       "      <td>13085</td>\n",
       "      <td>United Kingdom</td>\n",
       "    </tr>\n",
       "    <tr>\n",
       "      <th>3</th>\n",
       "      <td>489434</td>\n",
       "      <td>22041</td>\n",
       "      <td>RECORD FRAME 7\" SINGLE SIZE</td>\n",
       "      <td>48</td>\n",
       "      <td>12/01/2009 07:45</td>\n",
       "      <td>2.10</td>\n",
       "      <td>13085</td>\n",
       "      <td>United Kingdom</td>\n",
       "    </tr>\n",
       "    <tr>\n",
       "      <th>4</th>\n",
       "      <td>489434</td>\n",
       "      <td>21232</td>\n",
       "      <td>STRAWBERRY CERAMIC TRINKET BOX</td>\n",
       "      <td>24</td>\n",
       "      <td>12/01/2009 07:45</td>\n",
       "      <td>1.25</td>\n",
       "      <td>13085</td>\n",
       "      <td>United Kingdom</td>\n",
       "    </tr>\n",
       "  </tbody>\n",
       "</table>\n",
       "</div>"
      ],
      "text/plain": [
       "  Invoice StockCode                          Description  Quantity  \\\n",
       "0  489434     85048  15CM CHRISTMAS GLASS BALL 20 LIGHTS        12   \n",
       "1  489434    79323P                   PINK CHERRY LIGHTS        12   \n",
       "2  489434    79323W                  WHITE CHERRY LIGHTS        12   \n",
       "3  489434     22041         RECORD FRAME 7\" SINGLE SIZE         48   \n",
       "4  489434     21232       STRAWBERRY CERAMIC TRINKET BOX        24   \n",
       "\n",
       "        InvoiceDate  Price Customer ID         Country  \n",
       "0  12/01/2009 07:45   6.95       13085  United Kingdom  \n",
       "1  12/01/2009 07:45   6.75       13085  United Kingdom  \n",
       "2  12/01/2009 07:45   6.75       13085  United Kingdom  \n",
       "3  12/01/2009 07:45   2.10       13085  United Kingdom  \n",
       "4  12/01/2009 07:45   1.25       13085  United Kingdom  "
      ]
     },
     "execution_count": 18,
     "metadata": {},
     "output_type": "execute_result"
    }
   ],
   "source": [
    "base_retails_df.head()"
   ]
  },
  {
   "cell_type": "code",
   "execution_count": 19,
   "metadata": {},
   "outputs": [
    {
     "data": {
      "text/html": [
       "<div>\n",
       "<style scoped>\n",
       "    .dataframe tbody tr th:only-of-type {\n",
       "        vertical-align: middle;\n",
       "    }\n",
       "\n",
       "    .dataframe tbody tr th {\n",
       "        vertical-align: top;\n",
       "    }\n",
       "\n",
       "    .dataframe thead th {\n",
       "        text-align: right;\n",
       "    }\n",
       "</style>\n",
       "<table border=\"1\" class=\"dataframe\">\n",
       "  <thead>\n",
       "    <tr style=\"text-align: right;\">\n",
       "      <th></th>\n",
       "      <th>Invoice</th>\n",
       "      <th>StockCode</th>\n",
       "      <th>Description</th>\n",
       "      <th>Quantity</th>\n",
       "      <th>InvoiceDate</th>\n",
       "      <th>Price</th>\n",
       "      <th>Customer ID</th>\n",
       "      <th>Country</th>\n",
       "    </tr>\n",
       "  </thead>\n",
       "  <tbody>\n",
       "    <tr>\n",
       "      <th>525456</th>\n",
       "      <td>538171</td>\n",
       "      <td>22271</td>\n",
       "      <td>FELTCRAFT DOLL ROSIE</td>\n",
       "      <td>2</td>\n",
       "      <td>12/09/2010 20:01</td>\n",
       "      <td>2.95</td>\n",
       "      <td>17530</td>\n",
       "      <td>United Kingdom</td>\n",
       "    </tr>\n",
       "    <tr>\n",
       "      <th>525457</th>\n",
       "      <td>538171</td>\n",
       "      <td>22750</td>\n",
       "      <td>FELTCRAFT PRINCESS LOLA DOLL</td>\n",
       "      <td>1</td>\n",
       "      <td>12/09/2010 20:01</td>\n",
       "      <td>3.75</td>\n",
       "      <td>17530</td>\n",
       "      <td>United Kingdom</td>\n",
       "    </tr>\n",
       "    <tr>\n",
       "      <th>525458</th>\n",
       "      <td>538171</td>\n",
       "      <td>22751</td>\n",
       "      <td>FELTCRAFT PRINCESS OLIVIA DOLL</td>\n",
       "      <td>1</td>\n",
       "      <td>12/09/2010 20:01</td>\n",
       "      <td>3.75</td>\n",
       "      <td>17530</td>\n",
       "      <td>United Kingdom</td>\n",
       "    </tr>\n",
       "    <tr>\n",
       "      <th>525459</th>\n",
       "      <td>538171</td>\n",
       "      <td>20970</td>\n",
       "      <td>PINK FLORAL FELTCRAFT SHOULDER BAG</td>\n",
       "      <td>2</td>\n",
       "      <td>12/09/2010 20:01</td>\n",
       "      <td>3.75</td>\n",
       "      <td>17530</td>\n",
       "      <td>United Kingdom</td>\n",
       "    </tr>\n",
       "    <tr>\n",
       "      <th>525460</th>\n",
       "      <td>538171</td>\n",
       "      <td>21931</td>\n",
       "      <td>JUMBO STORAGE BAG SUKI</td>\n",
       "      <td>2</td>\n",
       "      <td>12/09/2010 20:01</td>\n",
       "      <td>1.95</td>\n",
       "      <td>17530</td>\n",
       "      <td>United Kingdom</td>\n",
       "    </tr>\n",
       "  </tbody>\n",
       "</table>\n",
       "</div>"
      ],
      "text/plain": [
       "       Invoice StockCode                         Description  Quantity  \\\n",
       "525456  538171     22271                FELTCRAFT DOLL ROSIE         2   \n",
       "525457  538171     22750        FELTCRAFT PRINCESS LOLA DOLL         1   \n",
       "525458  538171     22751      FELTCRAFT PRINCESS OLIVIA DOLL         1   \n",
       "525459  538171     20970  PINK FLORAL FELTCRAFT SHOULDER BAG         2   \n",
       "525460  538171     21931              JUMBO STORAGE BAG SUKI         2   \n",
       "\n",
       "             InvoiceDate  Price Customer ID         Country  \n",
       "525456  12/09/2010 20:01   2.95       17530  United Kingdom  \n",
       "525457  12/09/2010 20:01   3.75       17530  United Kingdom  \n",
       "525458  12/09/2010 20:01   3.75       17530  United Kingdom  \n",
       "525459  12/09/2010 20:01   3.75       17530  United Kingdom  \n",
       "525460  12/09/2010 20:01   1.95       17530  United Kingdom  "
      ]
     },
     "execution_count": 19,
     "metadata": {},
     "output_type": "execute_result"
    }
   ],
   "source": [
    "base_retails_df.tail()"
   ]
  },
  {
   "cell_type": "markdown",
   "metadata": {},
   "source": [
    "---\n",
    "Based on the top and bottom data, it's likely a general retail store. I'll maintain the previously defined generic 'retail' nomenclature."
   ]
  },
  {
   "cell_type": "markdown",
   "metadata": {},
   "source": [
    "##### E - Reviewing data uniqueness"
   ]
  },
  {
   "cell_type": "code",
   "execution_count": 20,
   "metadata": {},
   "outputs": [
    {
     "data": {
      "text/plain": [
       "Invoice        28816\n",
       "StockCode       4632\n",
       "Description     4681\n",
       "Quantity         825\n",
       "InvoiceDate    25296\n",
       "Price           1607\n",
       "Customer ID     4384\n",
       "Country           41\n",
       "dtype: int64"
      ]
     },
     "execution_count": 20,
     "metadata": {},
     "output_type": "execute_result"
    }
   ],
   "source": [
    "base_retails_df.nunique()"
   ]
  },
  {
   "cell_type": "code",
   "execution_count": 21,
   "metadata": {},
   "outputs": [
    {
     "data": {
      "text/plain": [
       "['United Kingdom',\n",
       " 'France',\n",
       " 'USA',\n",
       " 'Belgium',\n",
       " 'Australia',\n",
       " 'EIRE',\n",
       " 'Germany',\n",
       " 'Portugal',\n",
       " 'Japan',\n",
       " 'Denmark',\n",
       " 'Nigeria',\n",
       " 'Netherlands',\n",
       " 'Poland',\n",
       " 'Spain',\n",
       " 'Channel Islands',\n",
       " 'Italy',\n",
       " 'Cyprus',\n",
       " 'Greece',\n",
       " 'Norway',\n",
       " 'Austria',\n",
       " 'Sweden',\n",
       " 'United Arab Emirates',\n",
       " 'Finland',\n",
       " 'Switzerland',\n",
       " 'Unspecified',\n",
       " 'Malta',\n",
       " 'Bahrain',\n",
       " 'RSA',\n",
       " 'Bermuda',\n",
       " 'Hong Kong',\n",
       " 'Singapore',\n",
       " 'Thailand',\n",
       " 'Israel',\n",
       " 'Lithuania',\n",
       " nan,\n",
       " 'West Indies',\n",
       " 'Lebanon',\n",
       " 'Korea',\n",
       " 'Brazil',\n",
       " 'Canada',\n",
       " 'Iceland',\n",
       " 'U.K.']"
      ]
     },
     "execution_count": 21,
     "metadata": {},
     "output_type": "execute_result"
    }
   ],
   "source": [
    "list(base_retails_df['Country'].unique())"
   ]
  },
  {
   "cell_type": "markdown",
   "metadata": {},
   "source": [
    "### 1 - Going deeper into base errors and data types"
   ]
  },
  {
   "cell_type": "markdown",
   "metadata": {},
   "source": [
    "##### A - Correcting data types to consistent formats"
   ]
  },
  {
   "cell_type": "code",
   "execution_count": 22,
   "metadata": {},
   "outputs": [],
   "source": [
    "retails_df_stage = base_retails_df.copy()\n",
    "\n",
    "# base_retails_df = None\n",
    "# del base_retails_df"
   ]
  },
  {
   "cell_type": "markdown",
   "metadata": {},
   "source": [
    "---\n",
    "Stage 0 - Dtypes base format"
   ]
  },
  {
   "cell_type": "code",
   "execution_count": 23,
   "metadata": {},
   "outputs": [],
   "source": [
    "# column name normalization\n",
    "retails_df_stage.columns = ['invoice', 'stock_code', 'description', 'quantity', 'invoice_date', 'price', 'customer_id', 'country']"
   ]
  },
  {
   "cell_type": "code",
   "execution_count": 24,
   "metadata": {},
   "outputs": [
    {
     "name": "stderr",
     "output_type": "stream",
     "text": [
      "2024-11-24T05:48:23 - INFO - [sanitize_column_data] - [2609426b-546a-42af-bbcf-91b0ce26ca5a] - Specializing column data 'invoice' to '<class 'str'>'. It took 0:00:00.067334\n",
      "2024-11-24T05:48:23 - INFO - [sanitize_column_data] - [0418f301-10eb-4eca-936a-5035563a0448] - Specializing column data 'stock_code' to '<class 'str'>'. It took 0:00:00.072845\n",
      "2024-11-24T05:48:23 - INFO - [sanitize_column_data] - [39770a0f-6301-4cb9-9331-c28b57852399] - Specializing column data 'description' to '<class 'str'>'. It took 0:00:00.071535\n",
      "2024-11-24T05:48:24 - INFO - [sanitize_column_data] - [376c2572-6a9d-4385-832e-4c343031efa8] - Specializing column data 'customer_id' to '<class 'str'>'. It took 0:00:00.057748\n",
      "2024-11-24T05:48:24 - INFO - [sanitize_column_data] - [8b77d26a-b742-43a4-b3c0-383470ff5c9b] - Specializing column data 'country' to '<class 'str'>'. It took 0:00:00.080778\n"
     ]
    }
   ],
   "source": [
    "# base dtypes\n",
    "\n",
    "# formating dtypes on data\n",
    "retails_df_stage['invoice'] = sanitize_column_data(bg_logger, retails_df_stage, 'invoice')\n",
    "retails_df_stage['stock_code'] = sanitize_column_data(bg_logger, retails_df_stage, 'stock_code')\n",
    "retails_df_stage['description'] = sanitize_column_data(bg_logger, retails_df_stage, 'description')\n",
    "retails_df_stage['customer_id'] = sanitize_column_data(bg_logger, retails_df_stage, 'customer_id')\n",
    "retails_df_stage['country'] = sanitize_column_data(bg_logger, retails_df_stage, 'country')"
   ]
  },
  {
   "cell_type": "code",
   "execution_count": 25,
   "metadata": {},
   "outputs": [
    {
     "name": "stdout",
     "output_type": "stream",
     "text": [
      "<class 'pandas.core.frame.DataFrame'>\n",
      "RangeIndex: 525461 entries, 0 to 525460\n",
      "Data columns (total 8 columns):\n",
      " #   Column        Non-Null Count   Dtype  \n",
      "---  ------        --------------   -----  \n",
      " 0   invoice       525461 non-null  object \n",
      " 1   stock_code    525461 non-null  object \n",
      " 2   description   522533 non-null  object \n",
      " 3   quantity      525461 non-null  int64  \n",
      " 4   invoice_date  525461 non-null  object \n",
      " 5   price         525439 non-null  float64\n",
      " 6   customer_id   417541 non-null  object \n",
      " 7   country       525430 non-null  object \n",
      "dtypes: float64(1), int64(1), object(6)\n",
      "memory usage: 32.1+ MB\n"
     ]
    }
   ],
   "source": [
    "# checking stage corrections\n",
    "retails_df_stage.info()"
   ]
  },
  {
   "cell_type": "code",
   "execution_count": 26,
   "metadata": {},
   "outputs": [],
   "source": [
    "# specialized DTYPES\n",
    "retails_df_stage['quantity'] = pd.to_numeric(retails_df_stage['quantity'], errors='coerce')\n",
    "retails_df_stage['price'] = pd.to_numeric(retails_df_stage['price'], errors='coerce')"
   ]
  },
  {
   "cell_type": "code",
   "execution_count": 27,
   "metadata": {},
   "outputs": [
    {
     "name": "stdout",
     "output_type": "stream",
     "text": [
      "<class 'pandas.core.frame.DataFrame'>\n",
      "RangeIndex: 525461 entries, 0 to 525460\n",
      "Data columns (total 8 columns):\n",
      " #   Column        Non-Null Count   Dtype  \n",
      "---  ------        --------------   -----  \n",
      " 0   invoice       525461 non-null  object \n",
      " 1   stock_code    525461 non-null  object \n",
      " 2   description   522533 non-null  object \n",
      " 3   quantity      525461 non-null  int64  \n",
      " 4   invoice_date  525461 non-null  object \n",
      " 5   price         525439 non-null  float64\n",
      " 6   customer_id   417541 non-null  object \n",
      " 7   country       525430 non-null  object \n",
      "dtypes: float64(1), int64(1), object(6)\n",
      "memory usage: 32.1+ MB\n"
     ]
    }
   ],
   "source": [
    "# checking stage corrections\n",
    "retails_df_stage.info()"
   ]
  },
  {
   "cell_type": "code",
   "execution_count": 28,
   "metadata": {},
   "outputs": [],
   "source": [
    "# treating different date formats and converting to ISO 8601\n",
    "retails_df_stage['invoice_date'] = pd.to_datetime(retails_df_stage['invoice_date'], errors='coerce')\n",
    "retails_df_stage['invoice_date'] = retails_df_stage['invoice_date'].dt.strftime('%Y-%m-%dT%H:%M:%S')"
   ]
  },
  {
   "cell_type": "code",
   "execution_count": 29,
   "metadata": {},
   "outputs": [
    {
     "name": "stdout",
     "output_type": "stream",
     "text": [
      "<class 'pandas.core.frame.DataFrame'>\n",
      "RangeIndex: 525461 entries, 0 to 525460\n",
      "Data columns (total 8 columns):\n",
      " #   Column        Non-Null Count   Dtype  \n",
      "---  ------        --------------   -----  \n",
      " 0   invoice       525461 non-null  object \n",
      " 1   stock_code    525461 non-null  object \n",
      " 2   description   522533 non-null  object \n",
      " 3   quantity      525461 non-null  int64  \n",
      " 4   invoice_date  525461 non-null  object \n",
      " 5   price         525439 non-null  float64\n",
      " 6   customer_id   417541 non-null  object \n",
      " 7   country       525430 non-null  object \n",
      "dtypes: float64(1), int64(1), object(6)\n",
      "memory usage: 32.1+ MB\n"
     ]
    }
   ],
   "source": [
    "retails_df_stage.info()"
   ]
  },
  {
   "cell_type": "code",
   "execution_count": 30,
   "metadata": {},
   "outputs": [
    {
     "name": "stderr",
     "output_type": "stream",
     "text": [
      "2024-11-24T05:48:28 - INFO - [<module>] - [638d65da-69ef-4b45-8abf-c2be71389025] - Old memory usage: 188.98 MB x New memory usage: 190.61 MB\n"
     ]
    }
   ],
   "source": [
    "memory_usage = retails_df_stage.reset_index(drop=True).memory_usage(deep=True) / (1024 * 1024)\n",
    "bg_logger.info('Old memory usage: %.2f MB x New memory usage: %.2f MB', format_base_memory_usage.sum(), memory_usage.sum())"
   ]
  },
  {
   "cell_type": "code",
   "execution_count": 31,
   "metadata": {},
   "outputs": [],
   "source": [
    "# removing object memory references\n",
    "memory_usage = None\n",
    "base_memory_usage = None\n",
    "format_base_memory_usage = None\n",
    "\n",
    "# removing from escope\n",
    "del memory_usage, base_memory_usage, format_base_memory_usage"
   ]
  },
  {
   "cell_type": "markdown",
   "metadata": {},
   "source": [
    "##### B - Overall data consistency"
   ]
  },
  {
   "cell_type": "code",
   "execution_count": 32,
   "metadata": {},
   "outputs": [
    {
     "data": {
      "text/html": [
       "<div>\n",
       "<style scoped>\n",
       "    .dataframe tbody tr th:only-of-type {\n",
       "        vertical-align: middle;\n",
       "    }\n",
       "\n",
       "    .dataframe tbody tr th {\n",
       "        vertical-align: top;\n",
       "    }\n",
       "\n",
       "    .dataframe thead th {\n",
       "        text-align: right;\n",
       "    }\n",
       "</style>\n",
       "<table border=\"1\" class=\"dataframe\">\n",
       "  <thead>\n",
       "    <tr style=\"text-align: right;\">\n",
       "      <th></th>\n",
       "      <th>quantity</th>\n",
       "      <th>price</th>\n",
       "    </tr>\n",
       "  </thead>\n",
       "  <tbody>\n",
       "    <tr>\n",
       "      <th>count</th>\n",
       "      <td>525461.000000</td>\n",
       "      <td>525439.000000</td>\n",
       "    </tr>\n",
       "    <tr>\n",
       "      <th>mean</th>\n",
       "      <td>10.337667</td>\n",
       "      <td>4.688669</td>\n",
       "    </tr>\n",
       "    <tr>\n",
       "      <th>std</th>\n",
       "      <td>107.424110</td>\n",
       "      <td>146.130044</td>\n",
       "    </tr>\n",
       "    <tr>\n",
       "      <th>min</th>\n",
       "      <td>-9600.000000</td>\n",
       "      <td>-53594.360000</td>\n",
       "    </tr>\n",
       "    <tr>\n",
       "      <th>25%</th>\n",
       "      <td>1.000000</td>\n",
       "      <td>1.250000</td>\n",
       "    </tr>\n",
       "    <tr>\n",
       "      <th>50%</th>\n",
       "      <td>3.000000</td>\n",
       "      <td>2.100000</td>\n",
       "    </tr>\n",
       "    <tr>\n",
       "      <th>75%</th>\n",
       "      <td>10.000000</td>\n",
       "      <td>4.210000</td>\n",
       "    </tr>\n",
       "    <tr>\n",
       "      <th>max</th>\n",
       "      <td>19152.000000</td>\n",
       "      <td>25111.090000</td>\n",
       "    </tr>\n",
       "  </tbody>\n",
       "</table>\n",
       "</div>"
      ],
      "text/plain": [
       "            quantity          price\n",
       "count  525461.000000  525439.000000\n",
       "mean       10.337667       4.688669\n",
       "std       107.424110     146.130044\n",
       "min     -9600.000000  -53594.360000\n",
       "25%         1.000000       1.250000\n",
       "50%         3.000000       2.100000\n",
       "75%        10.000000       4.210000\n",
       "max     19152.000000   25111.090000"
      ]
     },
     "execution_count": 32,
     "metadata": {},
     "output_type": "execute_result"
    }
   ],
   "source": [
    "retails_df_stage.describe()"
   ]
  },
  {
   "cell_type": "code",
   "execution_count": 33,
   "metadata": {},
   "outputs": [
    {
     "name": "stdout",
     "output_type": "stream",
     "text": [
      "<class 'pandas.core.frame.DataFrame'>\n",
      "RangeIndex: 525461 entries, 0 to 525460\n",
      "Data columns (total 8 columns):\n",
      " #   Column        Non-Null Count   Dtype  \n",
      "---  ------        --------------   -----  \n",
      " 0   invoice       525461 non-null  object \n",
      " 1   stock_code    525461 non-null  object \n",
      " 2   description   522533 non-null  object \n",
      " 3   quantity      525461 non-null  int64  \n",
      " 4   invoice_date  525461 non-null  object \n",
      " 5   price         525439 non-null  float64\n",
      " 6   customer_id   417541 non-null  object \n",
      " 7   country       525430 non-null  object \n",
      "dtypes: float64(1), int64(1), object(6)\n",
      "memory usage: 32.1+ MB\n"
     ]
    }
   ],
   "source": [
    "retails_df_stage.info()"
   ]
  },
  {
   "cell_type": "code",
   "execution_count": 34,
   "metadata": {},
   "outputs": [
    {
     "data": {
      "text/html": [
       "<div>\n",
       "<style scoped>\n",
       "    .dataframe tbody tr th:only-of-type {\n",
       "        vertical-align: middle;\n",
       "    }\n",
       "\n",
       "    .dataframe tbody tr th {\n",
       "        vertical-align: top;\n",
       "    }\n",
       "\n",
       "    .dataframe thead th {\n",
       "        text-align: right;\n",
       "    }\n",
       "</style>\n",
       "<table border=\"1\" class=\"dataframe\">\n",
       "  <thead>\n",
       "    <tr style=\"text-align: right;\">\n",
       "      <th></th>\n",
       "      <th>quantity</th>\n",
       "      <th>price</th>\n",
       "    </tr>\n",
       "  </thead>\n",
       "  <tbody>\n",
       "    <tr>\n",
       "      <th>count</th>\n",
       "      <td>525461.000000</td>\n",
       "      <td>525439.000000</td>\n",
       "    </tr>\n",
       "    <tr>\n",
       "      <th>mean</th>\n",
       "      <td>10.337667</td>\n",
       "      <td>4.688669</td>\n",
       "    </tr>\n",
       "    <tr>\n",
       "      <th>std</th>\n",
       "      <td>107.424110</td>\n",
       "      <td>146.130044</td>\n",
       "    </tr>\n",
       "    <tr>\n",
       "      <th>min</th>\n",
       "      <td>-9600.000000</td>\n",
       "      <td>-53594.360000</td>\n",
       "    </tr>\n",
       "    <tr>\n",
       "      <th>25%</th>\n",
       "      <td>1.000000</td>\n",
       "      <td>1.250000</td>\n",
       "    </tr>\n",
       "    <tr>\n",
       "      <th>50%</th>\n",
       "      <td>3.000000</td>\n",
       "      <td>2.100000</td>\n",
       "    </tr>\n",
       "    <tr>\n",
       "      <th>75%</th>\n",
       "      <td>10.000000</td>\n",
       "      <td>4.210000</td>\n",
       "    </tr>\n",
       "    <tr>\n",
       "      <th>max</th>\n",
       "      <td>19152.000000</td>\n",
       "      <td>25111.090000</td>\n",
       "    </tr>\n",
       "  </tbody>\n",
       "</table>\n",
       "</div>"
      ],
      "text/plain": [
       "            quantity          price\n",
       "count  525461.000000  525439.000000\n",
       "mean       10.337667       4.688669\n",
       "std       107.424110     146.130044\n",
       "min     -9600.000000  -53594.360000\n",
       "25%         1.000000       1.250000\n",
       "50%         3.000000       2.100000\n",
       "75%        10.000000       4.210000\n",
       "max     19152.000000   25111.090000"
      ]
     },
     "execution_count": 34,
     "metadata": {},
     "output_type": "execute_result"
    }
   ],
   "source": [
    "retails_df_stage.describe()"
   ]
  },
  {
   "cell_type": "markdown",
   "metadata": {},
   "source": [
    "---\n",
    "checkpoint lineage: 0"
   ]
  },
  {
   "cell_type": "code",
   "execution_count": 35,
   "metadata": {},
   "outputs": [],
   "source": [
    "retails_lineage_0_path = os.path.join(\n",
    "    cwd_path,\n",
    "    'temp_stage_1.parquet'\n",
    ")"
   ]
  },
  {
   "cell_type": "code",
   "execution_count": 36,
   "metadata": {},
   "outputs": [],
   "source": [
    "retails_df_stage.to_parquet(\n",
    "    retails_lineage_0_path,\n",
    "    index=False,\n",
    "    compression='snappy'\n",
    ")"
   ]
  },
  {
   "cell_type": "code",
   "execution_count": 37,
   "metadata": {},
   "outputs": [],
   "source": [
    "retails_df_stage = None\n",
    "del retails_df_stage"
   ]
  },
  {
   "cell_type": "markdown",
   "metadata": {},
   "source": [
    "##### C - Specialized Data Corrections"
   ]
  },
  {
   "cell_type": "code",
   "execution_count": 38,
   "metadata": {},
   "outputs": [],
   "source": [
    "retails_df_stage_I = pd.read_parquet(retails_lineage_0_path)"
   ]
  },
  {
   "cell_type": "markdown",
   "metadata": {},
   "source": [
    "---\n",
    "Stage 1 - Data specif and column corrections"
   ]
  },
  {
   "cell_type": "markdown",
   "metadata": {},
   "source": [
    "> Country column - understanding overall logic"
   ]
  },
  {
   "cell_type": "code",
   "execution_count": 39,
   "metadata": {},
   "outputs": [
    {
     "data": {
      "text/plain": [
       "['United Kingdom',\n",
       " 'France',\n",
       " 'USA',\n",
       " 'Belgium',\n",
       " 'Australia',\n",
       " 'EIRE',\n",
       " 'Germany',\n",
       " 'Portugal',\n",
       " 'Japan',\n",
       " 'Denmark',\n",
       " 'Nigeria',\n",
       " 'Netherlands',\n",
       " 'Poland',\n",
       " 'Spain',\n",
       " 'Channel Islands',\n",
       " 'Italy',\n",
       " 'Cyprus',\n",
       " 'Greece',\n",
       " 'Norway',\n",
       " 'Austria',\n",
       " 'Sweden',\n",
       " 'United Arab Emirates',\n",
       " 'Finland',\n",
       " 'Switzerland',\n",
       " 'Unspecified',\n",
       " 'Malta',\n",
       " 'Bahrain',\n",
       " 'RSA',\n",
       " 'Bermuda',\n",
       " 'Hong Kong',\n",
       " 'Singapore',\n",
       " 'Thailand',\n",
       " 'Israel',\n",
       " 'Lithuania',\n",
       " None,\n",
       " 'West Indies',\n",
       " 'Lebanon',\n",
       " 'Korea',\n",
       " 'Brazil',\n",
       " 'Canada',\n",
       " 'Iceland',\n",
       " 'U.K.']"
      ]
     },
     "execution_count": 39,
     "metadata": {},
     "output_type": "execute_result"
    }
   ],
   "source": [
    "list(retails_df_stage_I['country'].unique())"
   ]
  },
  {
   "cell_type": "markdown",
   "metadata": {},
   "source": [
    "> Country column - Cleaning and mapping correct values"
   ]
  },
  {
   "cell_type": "code",
   "execution_count": 40,
   "metadata": {},
   "outputs": [],
   "source": [
    "# sanitize data\n",
    "retails_df_stage_I['country'] = retails_df_stage_I['country'].apply(sanitize_text)"
   ]
  },
  {
   "cell_type": "code",
   "execution_count": 41,
   "metadata": {},
   "outputs": [],
   "source": [
    "# correct acronyms and normalizing location names\n",
    "retails_df_stage_I['country'] = retails_df_stage_I['country'].replace(NORMATIZE_LOCATION_MAP)"
   ]
  },
  {
   "cell_type": "code",
   "execution_count": 42,
   "metadata": {},
   "outputs": [
    {
     "data": {
      "text/plain": [
       "country\n",
       "United Kingdom          92.463316\n",
       "Ireland                  1.838685\n",
       "Germany                  1.547114\n",
       "France                   1.098529\n",
       "Netherlands              0.526997\n",
       "Spain                    0.243229\n",
       "Switzerland              0.225910\n",
       "Portugal                 0.209543\n",
       "Belgium                  0.200598\n",
       "Channel Islands          0.172430\n",
       "Sweden                   0.171669\n",
       "Italy                    0.139124\n",
       "Australia                0.124469\n",
       "Cyprus                   0.105437\n",
       "Austria                  0.102202\n",
       "Greece                   0.098396\n",
       "United Arab Emirates     0.082218\n",
       "Denmark                  0.081457\n",
       "Norway                   0.070228\n",
       "Finland                  0.067373\n",
       "co0z0                    0.058999\n",
       "United States            0.046438\n",
       "Japan                    0.042632\n",
       "Poland                   0.036922\n",
       "Malta                    0.032735\n",
       "Lithuania                0.029309\n",
       "Singapore                0.022267\n",
       "South Africa             0.021126\n",
       "Bahrain                  0.020364\n",
       "Canada                   0.014655\n",
       "Thailand                 0.014464\n",
       "Hong Kong                0.014464\n",
       "Israel                   0.014084\n",
       "Iceland                  0.013513\n",
       "Korea                    0.011990\n",
       "Brazil                   0.011800\n",
       "West Indies              0.010277\n",
       "Bermuda                  0.006471\n",
       "Nigeria                  0.006090\n",
       "Lebanon                  0.002474\n",
       "Name: proportion, dtype: float64"
      ]
     },
     "execution_count": 42,
     "metadata": {},
     "output_type": "execute_result"
    }
   ],
   "source": [
    "# overall data consistency\n",
    "retails_df_stage_I['country'].value_counts(normalize=True) * 100"
   ]
  },
  {
   "cell_type": "markdown",
   "metadata": {},
   "source": [
    "> Customer ID column - understanding overall logic"
   ]
  },
  {
   "cell_type": "code",
   "execution_count": null,
   "metadata": {},
   "outputs": [
    {
     "data": {
      "text/html": [
       "<div>\n",
       "<style scoped>\n",
       "    .dataframe tbody tr th:only-of-type {\n",
       "        vertical-align: middle;\n",
       "    }\n",
       "\n",
       "    .dataframe tbody tr th {\n",
       "        vertical-align: top;\n",
       "    }\n",
       "\n",
       "    .dataframe thead th {\n",
       "        text-align: right;\n",
       "    }\n",
       "</style>\n",
       "<table border=\"1\" class=\"dataframe\">\n",
       "  <thead>\n",
       "    <tr style=\"text-align: right;\">\n",
       "      <th></th>\n",
       "      <th>invoice</th>\n",
       "      <th>stock_code</th>\n",
       "      <th>description</th>\n",
       "      <th>quantity</th>\n",
       "      <th>invoice_date</th>\n",
       "      <th>price</th>\n",
       "      <th>customer_id</th>\n",
       "      <th>country</th>\n",
       "    </tr>\n",
       "  </thead>\n",
       "  <tbody>\n",
       "    <tr>\n",
       "      <th>176263</th>\n",
       "      <td>506141</td>\n",
       "      <td>21670</td>\n",
       "      <td>BLUE SPOT CERAMIC DRAWER KNOB</td>\n",
       "      <td>1</td>\n",
       "      <td>2010-04-27T16:16:00</td>\n",
       "      <td>0.0</td>\n",
       "      <td>TEST</td>\n",
       "      <td>United Kingdom</td>\n",
       "    </tr>\n",
       "    <tr>\n",
       "      <th>176264</th>\n",
       "      <td>506141</td>\n",
       "      <td>79160</td>\n",
       "      <td>HEART SHAPE WIRELESS DOORBELL</td>\n",
       "      <td>1</td>\n",
       "      <td>2010-04-27T16:16:00</td>\n",
       "      <td>0.0</td>\n",
       "      <td>TEST</td>\n",
       "      <td>United Kingdom</td>\n",
       "    </tr>\n",
       "    <tr>\n",
       "      <th>176265</th>\n",
       "      <td>506141</td>\n",
       "      <td>90112</td>\n",
       "      <td>PINK DOLLY HAIR CLIPS</td>\n",
       "      <td>1</td>\n",
       "      <td>2010-04-27T16:16:00</td>\n",
       "      <td>0.0</td>\n",
       "      <td>TEST</td>\n",
       "      <td>United Kingdom</td>\n",
       "    </tr>\n",
       "    <tr>\n",
       "      <th>176266</th>\n",
       "      <td>506141</td>\n",
       "      <td>90100</td>\n",
       "      <td>NECKLACE+BRACELET SET PINK DAISY</td>\n",
       "      <td>1</td>\n",
       "      <td>2010-04-27T16:16:00</td>\n",
       "      <td>0.0</td>\n",
       "      <td>TEST</td>\n",
       "      <td>United Kingdom</td>\n",
       "    </tr>\n",
       "    <tr>\n",
       "      <th>176267</th>\n",
       "      <td>506141</td>\n",
       "      <td>85226A</td>\n",
       "      <td>WHITE/BLUE PULL BACK RACING CAR</td>\n",
       "      <td>1</td>\n",
       "      <td>2010-04-27T16:16:00</td>\n",
       "      <td>0.0</td>\n",
       "      <td>TEST</td>\n",
       "      <td>United Kingdom</td>\n",
       "    </tr>\n",
       "    <tr>\n",
       "      <th>176268</th>\n",
       "      <td>506141</td>\n",
       "      <td>21890</td>\n",
       "      <td>S/6 WOODEN SKITTLES IN COTTON BAG</td>\n",
       "      <td>1</td>\n",
       "      <td>2010-04-27T16:16:00</td>\n",
       "      <td>0.0</td>\n",
       "      <td>TEST</td>\n",
       "      <td>United Kingdom</td>\n",
       "    </tr>\n",
       "    <tr>\n",
       "      <th>176269</th>\n",
       "      <td>506141</td>\n",
       "      <td>21826</td>\n",
       "      <td>EIGHT PIECE DINOSAUR SET</td>\n",
       "      <td>1</td>\n",
       "      <td>2010-04-27T16:16:00</td>\n",
       "      <td>-100.0</td>\n",
       "      <td>TEST</td>\n",
       "      <td>United Kingdom</td>\n",
       "    </tr>\n",
       "  </tbody>\n",
       "</table>\n",
       "</div>"
      ],
      "text/plain": [
       "       invoice stock_code                        description  quantity  \\\n",
       "176263  506141      21670      BLUE SPOT CERAMIC DRAWER KNOB         1   \n",
       "176264  506141      79160      HEART SHAPE WIRELESS DOORBELL         1   \n",
       "176265  506141      90112              PINK DOLLY HAIR CLIPS         1   \n",
       "176266  506141      90100   NECKLACE+BRACELET SET PINK DAISY         1   \n",
       "176267  506141     85226A    WHITE/BLUE PULL BACK RACING CAR         1   \n",
       "176268  506141      21890  S/6 WOODEN SKITTLES IN COTTON BAG         1   \n",
       "176269  506141      21826           EIGHT PIECE DINOSAUR SET         1   \n",
       "\n",
       "               invoice_date  price customer_id         country  \n",
       "176263  2010-04-27T16:16:00    0.0        TEST  United Kingdom  \n",
       "176264  2010-04-27T16:16:00    0.0        TEST  United Kingdom  \n",
       "176265  2010-04-27T16:16:00    0.0        TEST  United Kingdom  \n",
       "176266  2010-04-27T16:16:00    0.0        TEST  United Kingdom  \n",
       "176267  2010-04-27T16:16:00    0.0        TEST  United Kingdom  \n",
       "176268  2010-04-27T16:16:00    0.0        TEST  United Kingdom  \n",
       "176269  2010-04-27T16:16:00 -100.0        TEST  United Kingdom  "
      ]
     },
     "execution_count": 51,
     "metadata": {},
     "output_type": "execute_result"
    }
   ],
   "source": [
    "# validating customer id format, to understand if all values are alphanumeric\n",
    "pattern = r'[a-zA-Z]'\n",
    "retails_df_stage_I[retails_df_stage_I['customer_id'].str.contains(pattern, na=False, regex=True)]"
   ]
  },
  {
   "cell_type": "markdown",
   "metadata": {},
   "source": [
    "> Search for test in all columns"
   ]
  },
  {
   "cell_type": "code",
   "execution_count": 56,
   "metadata": {},
   "outputs": [],
   "source": [
    "filtered_data_with_test = retails_df_stage_I[\n",
    "    retails_df_stage_I.astype(str).apply(lambda col: col.str.contains(pattern, case=False, regex=True)).any(axis=1)\n",
    "]"
   ]
  },
  {
   "cell_type": "code",
   "execution_count": 57,
   "metadata": {},
   "outputs": [
    {
     "data": {
      "text/html": [
       "<div>\n",
       "<style scoped>\n",
       "    .dataframe tbody tr th:only-of-type {\n",
       "        vertical-align: middle;\n",
       "    }\n",
       "\n",
       "    .dataframe tbody tr th {\n",
       "        vertical-align: top;\n",
       "    }\n",
       "\n",
       "    .dataframe thead th {\n",
       "        text-align: right;\n",
       "    }\n",
       "</style>\n",
       "<table border=\"1\" class=\"dataframe\">\n",
       "  <thead>\n",
       "    <tr style=\"text-align: right;\">\n",
       "      <th></th>\n",
       "      <th>invoice</th>\n",
       "      <th>stock_code</th>\n",
       "      <th>description</th>\n",
       "      <th>quantity</th>\n",
       "      <th>invoice_date</th>\n",
       "      <th>price</th>\n",
       "      <th>customer_id</th>\n",
       "      <th>country</th>\n",
       "    </tr>\n",
       "  </thead>\n",
       "  <tbody>\n",
       "    <tr>\n",
       "      <th>27994</th>\n",
       "      <td>491725</td>\n",
       "      <td>TEST001</td>\n",
       "      <td>This is a test product.</td>\n",
       "      <td>10</td>\n",
       "      <td>2009-12-14T08:34:00</td>\n",
       "      <td>4.5</td>\n",
       "      <td>12346</td>\n",
       "      <td>United Kingdom</td>\n",
       "    </tr>\n",
       "    <tr>\n",
       "      <th>28251</th>\n",
       "      <td>491742</td>\n",
       "      <td>TEST001</td>\n",
       "      <td>This is a test product.</td>\n",
       "      <td>5</td>\n",
       "      <td>2009-12-14T11:00:00</td>\n",
       "      <td>4.5</td>\n",
       "      <td>12346</td>\n",
       "      <td>United Kingdom</td>\n",
       "    </tr>\n",
       "    <tr>\n",
       "      <th>28254</th>\n",
       "      <td>491744</td>\n",
       "      <td>TEST001</td>\n",
       "      <td>This is a test product.</td>\n",
       "      <td>5</td>\n",
       "      <td>2009-12-14T11:02:00</td>\n",
       "      <td>4.5</td>\n",
       "      <td>12346</td>\n",
       "      <td>United Kingdom</td>\n",
       "    </tr>\n",
       "    <tr>\n",
       "      <th>39398</th>\n",
       "      <td>492718</td>\n",
       "      <td>TEST001</td>\n",
       "      <td>This is a test product.</td>\n",
       "      <td>5</td>\n",
       "      <td>2009-12-18T10:47:00</td>\n",
       "      <td>4.5</td>\n",
       "      <td>12346</td>\n",
       "      <td>United Kingdom</td>\n",
       "    </tr>\n",
       "    <tr>\n",
       "      <th>39411</th>\n",
       "      <td>492722</td>\n",
       "      <td>TEST002</td>\n",
       "      <td>This is a test product.</td>\n",
       "      <td>1</td>\n",
       "      <td>2009-12-18T10:55:00</td>\n",
       "      <td>1.0</td>\n",
       "      <td>12346</td>\n",
       "      <td>United Kingdom</td>\n",
       "    </tr>\n",
       "    <tr>\n",
       "      <th>44614</th>\n",
       "      <td>493294</td>\n",
       "      <td>TEST002</td>\n",
       "      <td>None</td>\n",
       "      <td>1</td>\n",
       "      <td>2009-12-22T15:15:00</td>\n",
       "      <td>0.0</td>\n",
       "      <td>None</td>\n",
       "      <td>United Kingdom</td>\n",
       "    </tr>\n",
       "    <tr>\n",
       "      <th>45228</th>\n",
       "      <td>493410</td>\n",
       "      <td>TEST001</td>\n",
       "      <td>This is a test product.</td>\n",
       "      <td>5</td>\n",
       "      <td>2010-01-04T09:24:00</td>\n",
       "      <td>4.5</td>\n",
       "      <td>12346</td>\n",
       "      <td>United Kingdom</td>\n",
       "    </tr>\n",
       "    <tr>\n",
       "      <th>45230</th>\n",
       "      <td>493412</td>\n",
       "      <td>TEST001</td>\n",
       "      <td>This is a test product.</td>\n",
       "      <td>5</td>\n",
       "      <td>2010-01-04T09:53:00</td>\n",
       "      <td>4.5</td>\n",
       "      <td>12346</td>\n",
       "      <td>United Kingdom</td>\n",
       "    </tr>\n",
       "    <tr>\n",
       "      <th>56117</th>\n",
       "      <td>494450</td>\n",
       "      <td>TEST001</td>\n",
       "      <td>This is a test product.</td>\n",
       "      <td>5</td>\n",
       "      <td>2010-01-14T13:50:00</td>\n",
       "      <td>4.5</td>\n",
       "      <td>12346</td>\n",
       "      <td>United Kingdom</td>\n",
       "    </tr>\n",
       "    <tr>\n",
       "      <th>66084</th>\n",
       "      <td>495295</td>\n",
       "      <td>TEST001</td>\n",
       "      <td>This is a test product.</td>\n",
       "      <td>5</td>\n",
       "      <td>2010-01-22T13:30:00</td>\n",
       "      <td>4.5</td>\n",
       "      <td>12346</td>\n",
       "      <td>United Kingdom</td>\n",
       "    </tr>\n",
       "    <tr>\n",
       "      <th>89084</th>\n",
       "      <td>497819</td>\n",
       "      <td>TEST001</td>\n",
       "      <td>This is a test product.</td>\n",
       "      <td>5</td>\n",
       "      <td>2010-02-12T14:58:00</td>\n",
       "      <td>0.0</td>\n",
       "      <td>14103</td>\n",
       "      <td>United Kingdom</td>\n",
       "    </tr>\n",
       "    <tr>\n",
       "      <th>89180</th>\n",
       "      <td>497843</td>\n",
       "      <td>TEST001</td>\n",
       "      <td>This is a test product.</td>\n",
       "      <td>5</td>\n",
       "      <td>2010-02-12T15:47:00</td>\n",
       "      <td>0.0</td>\n",
       "      <td>14827</td>\n",
       "      <td>United Kingdom</td>\n",
       "    </tr>\n",
       "    <tr>\n",
       "      <th>156017</th>\n",
       "      <td>504188</td>\n",
       "      <td>TEST001</td>\n",
       "      <td>This is a test product.</td>\n",
       "      <td>5</td>\n",
       "      <td>2010-04-12T09:52:00</td>\n",
       "      <td>4.5</td>\n",
       "      <td>16454</td>\n",
       "      <td>United Kingdom</td>\n",
       "    </tr>\n",
       "    <tr>\n",
       "      <th>371777</th>\n",
       "      <td>C525272</td>\n",
       "      <td>TEST001</td>\n",
       "      <td>This is a test product.</td>\n",
       "      <td>-1</td>\n",
       "      <td>2010-10-04T16:29:00</td>\n",
       "      <td>4.5</td>\n",
       "      <td>16454</td>\n",
       "      <td>United Kingdom</td>\n",
       "    </tr>\n",
       "    <tr>\n",
       "      <th>371778</th>\n",
       "      <td>C525273</td>\n",
       "      <td>TEST001</td>\n",
       "      <td>This is a test product.</td>\n",
       "      <td>-1</td>\n",
       "      <td>2010-10-04T16:30:00</td>\n",
       "      <td>4.5</td>\n",
       "      <td>16454</td>\n",
       "      <td>United Kingdom</td>\n",
       "    </tr>\n",
       "    <tr>\n",
       "      <th>371779</th>\n",
       "      <td>C525274</td>\n",
       "      <td>TEST001</td>\n",
       "      <td>This is a test product.</td>\n",
       "      <td>-1</td>\n",
       "      <td>2010-10-04T16:33:00</td>\n",
       "      <td>4.5</td>\n",
       "      <td>12346</td>\n",
       "      <td>United Kingdom</td>\n",
       "    </tr>\n",
       "    <tr>\n",
       "      <th>371780</th>\n",
       "      <td>C525275</td>\n",
       "      <td>TEST001</td>\n",
       "      <td>This is a test product.</td>\n",
       "      <td>-2</td>\n",
       "      <td>2010-10-04T16:38:00</td>\n",
       "      <td>4.5</td>\n",
       "      <td>16446</td>\n",
       "      <td>United Kingdom</td>\n",
       "    </tr>\n",
       "  </tbody>\n",
       "</table>\n",
       "</div>"
      ],
      "text/plain": [
       "        invoice stock_code              description  quantity  \\\n",
       "27994    491725    TEST001  This is a test product.        10   \n",
       "28251    491742    TEST001  This is a test product.         5   \n",
       "28254    491744    TEST001  This is a test product.         5   \n",
       "39398    492718    TEST001  This is a test product.         5   \n",
       "39411    492722    TEST002  This is a test product.         1   \n",
       "44614    493294    TEST002                     None         1   \n",
       "45228    493410    TEST001  This is a test product.         5   \n",
       "45230    493412    TEST001  This is a test product.         5   \n",
       "56117    494450    TEST001  This is a test product.         5   \n",
       "66084    495295    TEST001  This is a test product.         5   \n",
       "89084    497819    TEST001  This is a test product.         5   \n",
       "89180    497843    TEST001  This is a test product.         5   \n",
       "156017   504188    TEST001  This is a test product.         5   \n",
       "371777  C525272    TEST001  This is a test product.        -1   \n",
       "371778  C525273    TEST001  This is a test product.        -1   \n",
       "371779  C525274    TEST001  This is a test product.        -1   \n",
       "371780  C525275    TEST001  This is a test product.        -2   \n",
       "\n",
       "               invoice_date  price customer_id         country  \n",
       "27994   2009-12-14T08:34:00    4.5       12346  United Kingdom  \n",
       "28251   2009-12-14T11:00:00    4.5       12346  United Kingdom  \n",
       "28254   2009-12-14T11:02:00    4.5       12346  United Kingdom  \n",
       "39398   2009-12-18T10:47:00    4.5       12346  United Kingdom  \n",
       "39411   2009-12-18T10:55:00    1.0       12346  United Kingdom  \n",
       "44614   2009-12-22T15:15:00    0.0        None  United Kingdom  \n",
       "45228   2010-01-04T09:24:00    4.5       12346  United Kingdom  \n",
       "45230   2010-01-04T09:53:00    4.5       12346  United Kingdom  \n",
       "56117   2010-01-14T13:50:00    4.5       12346  United Kingdom  \n",
       "66084   2010-01-22T13:30:00    4.5       12346  United Kingdom  \n",
       "89084   2010-02-12T14:58:00    0.0       14103  United Kingdom  \n",
       "89180   2010-02-12T15:47:00    0.0       14827  United Kingdom  \n",
       "156017  2010-04-12T09:52:00    4.5       16454  United Kingdom  \n",
       "371777  2010-10-04T16:29:00    4.5       16454  United Kingdom  \n",
       "371778  2010-10-04T16:30:00    4.5       16454  United Kingdom  \n",
       "371779  2010-10-04T16:33:00    4.5       12346  United Kingdom  \n",
       "371780  2010-10-04T16:38:00    4.5       16446  United Kingdom  "
      ]
     },
     "execution_count": 57,
     "metadata": {},
     "output_type": "execute_result"
    }
   ],
   "source": [
    "filtered_data_with_test"
   ]
  },
  {
   "cell_type": "code",
   "execution_count": null,
   "metadata": {},
   "outputs": [],
   "source": [
    "# removing test data\n",
    "\n",
    "retails_df_stage_I = retails_df_stage_I[\n",
    "    ~retails_df_stage_I.astype(str).apply(lambda col: col.str.contains(pattern, case=False, regex=True)).any(axis=1)\n",
    "]"
   ]
  },
  {
   "cell_type": "markdown",
   "metadata": {},
   "source": [
    "> Price column - understanding overall logic"
   ]
  },
  {
   "cell_type": "code",
   "execution_count": 53,
   "metadata": {},
   "outputs": [
    {
     "name": "stdout",
     "output_type": "stream",
     "text": [
      "<class 'pandas.core.frame.DataFrame'>\n",
      "Index: 3 entries, 179403 to 403472\n",
      "Data columns (total 8 columns):\n",
      " #   Column        Non-Null Count  Dtype  \n",
      "---  ------        --------------  -----  \n",
      " 0   invoice       3 non-null      object \n",
      " 1   stock_code    3 non-null      object \n",
      " 2   description   3 non-null      object \n",
      " 3   quantity      3 non-null      int64  \n",
      " 4   invoice_date  3 non-null      object \n",
      " 5   price         3 non-null      float64\n",
      " 6   customer_id   0 non-null      object \n",
      " 7   country       3 non-null      object \n",
      "dtypes: float64(1), int64(1), object(6)\n",
      "memory usage: 216.0+ bytes\n"
     ]
    }
   ],
   "source": [
    "price_negative = retails_df_stage_I.query(\"price < 0\")\n",
    "price_negative.info()"
   ]
  },
  {
   "cell_type": "code",
   "execution_count": 54,
   "metadata": {},
   "outputs": [
    {
     "data": {
      "text/html": [
       "<div>\n",
       "<style scoped>\n",
       "    .dataframe tbody tr th:only-of-type {\n",
       "        vertical-align: middle;\n",
       "    }\n",
       "\n",
       "    .dataframe tbody tr th {\n",
       "        vertical-align: top;\n",
       "    }\n",
       "\n",
       "    .dataframe thead th {\n",
       "        text-align: right;\n",
       "    }\n",
       "</style>\n",
       "<table border=\"1\" class=\"dataframe\">\n",
       "  <thead>\n",
       "    <tr style=\"text-align: right;\">\n",
       "      <th></th>\n",
       "      <th>invoice</th>\n",
       "      <th>stock_code</th>\n",
       "      <th>description</th>\n",
       "      <th>quantity</th>\n",
       "      <th>invoice_date</th>\n",
       "      <th>price</th>\n",
       "      <th>customer_id</th>\n",
       "      <th>country</th>\n",
       "    </tr>\n",
       "  </thead>\n",
       "  <tbody>\n",
       "    <tr>\n",
       "      <th>179403</th>\n",
       "      <td>A506401</td>\n",
       "      <td>B</td>\n",
       "      <td>Adjust bad debt</td>\n",
       "      <td>1</td>\n",
       "      <td>2010-04-29T13:36:00</td>\n",
       "      <td>-53594.36</td>\n",
       "      <td>None</td>\n",
       "      <td>United Kingdom</td>\n",
       "    </tr>\n",
       "    <tr>\n",
       "      <th>276274</th>\n",
       "      <td>A516228</td>\n",
       "      <td>B</td>\n",
       "      <td>Adjust bad debt</td>\n",
       "      <td>1</td>\n",
       "      <td>2010-07-19T11:24:00</td>\n",
       "      <td>-44031.79</td>\n",
       "      <td>None</td>\n",
       "      <td>United Kingdom</td>\n",
       "    </tr>\n",
       "    <tr>\n",
       "      <th>403472</th>\n",
       "      <td>A528059</td>\n",
       "      <td>B</td>\n",
       "      <td>Adjust bad debt</td>\n",
       "      <td>1</td>\n",
       "      <td>2010-10-20T12:04:00</td>\n",
       "      <td>-38925.87</td>\n",
       "      <td>None</td>\n",
       "      <td>United Kingdom</td>\n",
       "    </tr>\n",
       "  </tbody>\n",
       "</table>\n",
       "</div>"
      ],
      "text/plain": [
       "        invoice stock_code      description  quantity         invoice_date  \\\n",
       "179403  A506401          B  Adjust bad debt         1  2010-04-29T13:36:00   \n",
       "276274  A516228          B  Adjust bad debt         1  2010-07-19T11:24:00   \n",
       "403472  A528059          B  Adjust bad debt         1  2010-10-20T12:04:00   \n",
       "\n",
       "           price customer_id         country  \n",
       "179403 -53594.36        None  United Kingdom  \n",
       "276274 -44031.79        None  United Kingdom  \n",
       "403472 -38925.87        None  United Kingdom  "
      ]
     },
     "execution_count": 54,
     "metadata": {},
     "output_type": "execute_result"
    }
   ],
   "source": [
    "price_negative.head()"
   ]
  },
  {
   "cell_type": "code",
   "execution_count": null,
   "metadata": {},
   "outputs": [],
   "source": []
  },
  {
   "cell_type": "code",
   "execution_count": null,
   "metadata": {},
   "outputs": [],
   "source": []
  },
  {
   "cell_type": "markdown",
   "metadata": {},
   "source": [
    "0   Invoice      525461 non-null  object   \n",
    "1   StockCode    525461 non-null  object   \n",
    "2   Description  522533 non-null  object   \n",
    "3   Quantity     525461 non-null  int64    \n",
    "4   InvoiceDate  525461 non-null  object   \n",
    "5   Price        525439 non-null  float64  \n",
    "6   Customer ID  417541 non-null  object   \n",
    "7   Country      525430 non-null  object   "
   ]
  },
  {
   "cell_type": "code",
   "execution_count": null,
   "metadata": {},
   "outputs": [],
   "source": []
  },
  {
   "cell_type": "code",
   "execution_count": null,
   "metadata": {},
   "outputs": [],
   "source": []
  },
  {
   "cell_type": "markdown",
   "metadata": {},
   "source": [
    "# Warehouse definitions"
   ]
  },
  {
   "cell_type": "code",
   "execution_count": null,
   "metadata": {},
   "outputs": [],
   "source": []
  },
  {
   "cell_type": "code",
   "execution_count": null,
   "metadata": {},
   "outputs": [],
   "source": []
  },
  {
   "cell_type": "code",
   "execution_count": null,
   "metadata": {},
   "outputs": [],
   "source": []
  },
  {
   "cell_type": "code",
   "execution_count": null,
   "metadata": {},
   "outputs": [],
   "source": []
  }
 ],
 "metadata": {
  "kernelspec": {
   "display_name": ".venv_ipynb",
   "language": "python",
   "name": "python3"
  },
  "language_info": {
   "codemirror_mode": {
    "name": "ipython",
    "version": 3
   },
   "file_extension": ".py",
   "mimetype": "text/x-python",
   "name": "python",
   "nbconvert_exporter": "python",
   "pygments_lexer": "ipython3",
   "version": "3.12.1"
  }
 },
 "nbformat": 4,
 "nbformat_minor": 2
}
